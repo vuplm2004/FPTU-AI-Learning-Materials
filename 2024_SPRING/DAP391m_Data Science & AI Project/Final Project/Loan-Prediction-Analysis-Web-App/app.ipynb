{
 "cells": [
  {
   "cell_type": "code",
   "execution_count": 2,
   "metadata": {},
   "outputs": [],
   "source": [
    "import numpy as np\n",
    "import pandas as pd\n",
    "import matplotlib.pyplot as plt\n",
    "from PIL import Image\n",
    "import streamlit as st\n",
    "import pickle"
   ]
  },
  {
   "cell_type": "code",
   "execution_count": 3,
   "metadata": {},
   "outputs": [],
   "source": [
    "pickle_in = open('model_classifier.pkl', 'rb')\n",
    "my_model = pickle.load(pickle_in)"
   ]
  },
  {
   "cell_type": "code",
   "execution_count": 6,
   "metadata": {},
   "outputs": [],
   "source": [
    "def predict_data(model, input_data):\n",
    "    predict_array = np.array([input_data['Gender'][0], input_data['Married'][0], \n",
    "    input_data['Dependents'][0], input_data['Education'][0], input_data['Self_Employed'][0],\n",
    "    input_data['CoapplicantIncome'][0], input_data['LoanAmount'][0],\n",
    "    input_data['Loan_Amount_Term'][0], input_data['Credit_History'][0], input_data['Property_Area'][0]])\n",
    "\n",
    "    final_array = [predict_array[0], predict_array[1], predict_array[2], predict_array[3], predict_array[4],\n",
    "    predict_array[5], predict_array[6], predict_array[7], predict_array[8], predict_array[9]]\n",
    "\n",
    "    predictions = model.predict([final_array])\n",
    "    return predictions\n",
    "\n",
    "def run_data():\n",
    "    st.set_page_config(page_title = 'Loan Prediction Web App')\n",
    "    st.sidebar.header('Loan Prediction App')\n",
    "    st.sidebar.info('This app is created to predict whether an applicant is eligible for a loan or not.')\n",
    "    st.title('Please fill this form..')\n",
    "\n",
    "    gender = st.selectbox('Gender', ['Male', 'Female'])\n",
    "    if st.checkbox('Married'):\n",
    "        married = 'yes'\n",
    "    else:\n",
    "        married = 'no'\n",
    "\n",
    "    dependents = st.selectbox('Dependents', [0, 1, 2, '3+'])\n",
    "    education = st.selectbox('Education', ['Graduate', 'Not Graduate'])\n",
    "    self_emp = st.selectbox('Self Employed', ['Yes', 'No'])\n",
    "    # app_income = st.number_input('Applicant Income', min_value = 1000, max_value = 10000, value = 1000)\n",
    "    co_app_income = st.number_input('Coapplicant Income', min_value = 1000, max_value = 10000, value = 1000)\n",
    "    loan_amount = st.number_input('Loan Amount', min_value = 100, max_value = 10000, value = 100)\n",
    "\n",
    "    loan_amount_term = st.selectbox('Loan Amount Term', [1010, 2000, 3500])\n",
    "    credit_history = st.selectbox('Credit History', [0,1])\n",
    "    property_area = st.selectbox('Property Area', ['Semiurban', 'Rural', 'Urban'])\n",
    "\n",
    "    output = \"\"\n",
    "\n",
    "    my_dict = {\n",
    "        'Gender' : gender,\n",
    "        'Married' : married,\n",
    "        'Dependents' : dependents, \n",
    "        'Education' : education,\n",
    "        'Self_Employed' : self_emp,\n",
    "        # 'ApplicantIncome': app_income,\n",
    "        'CoapplicantIncome': co_app_income,\n",
    "        'LoanAmount': loan_amount,\n",
    "        'Loan_Amount_Term': loan_amount_term,\n",
    "        'Credit_History': credit_history,\n",
    "        'Property_Area': property_area\n",
    "    }\n",
    "\n",
    "    input_data = pd.DataFrame([my_dict])\n",
    "\n",
    "    input_data = input_data.apply(lambda x: x.astype('category').cat.codes)\n",
    "    if st.button('Predict'):\n",
    "        output = predict_data(model = my_model, input_data = input_data)\n",
    "        if output == 1:\n",
    "            st.success('The applicant is eligible for loan')\n",
    "        else:\n",
    "            st.error('The applicant is not eligible for loan')\n",
    "\n",
    "if __name__ == '__main__':\n",
    "    run_data()"
   ]
  }
 ],
 "metadata": {
  "kernelspec": {
   "display_name": "dsml",
   "language": "python",
   "name": "python3"
  },
  "language_info": {
   "codemirror_mode": {
    "name": "ipython",
    "version": 3
   },
   "file_extension": ".py",
   "mimetype": "text/x-python",
   "name": "python",
   "nbconvert_exporter": "python",
   "pygments_lexer": "ipython3",
   "version": "3.12.2"
  }
 },
 "nbformat": 4,
 "nbformat_minor": 2
}
