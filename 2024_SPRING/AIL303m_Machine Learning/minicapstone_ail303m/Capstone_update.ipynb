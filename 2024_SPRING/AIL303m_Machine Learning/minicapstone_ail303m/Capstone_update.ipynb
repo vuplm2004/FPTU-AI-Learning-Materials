{
  "nbformat": 4,
  "nbformat_minor": 0,
  "metadata": {
    "colab": {
      "provenance": []
    },
    "kernelspec": {
      "name": "python3",
      "display_name": "Python 3"
    },
    "language_info": {
      "name": "python"
    }
  },
  "cells": [
    {
      "cell_type": "markdown",
      "source": [
        "# EDA"
      ],
      "metadata": {
        "id": "I1dLnPhSwSlz"
      }
    },
    {
      "cell_type": "code",
      "execution_count": 1,
      "metadata": {
        "colab": {
          "base_uri": "https://localhost:8080/",
          "height": 206
        },
        "id": "O5s7sa7fQn3m",
        "outputId": "522b9152-dd9c-4ae9-bfd6-095111e49a87"
      },
      "outputs": [
        {
          "output_type": "execute_result",
          "data": {
            "text/plain": [
              "      user        item  rating\n",
              "0  1889878    CC0101EN     3.0\n",
              "1  1342067    CL0101EN     3.0\n",
              "2  1990814  ML0120ENv3     3.0\n",
              "3   380098    BD0211EN     3.0\n",
              "4   779563    DS0101EN     3.0"
            ],
            "text/html": [
              "\n",
              "  <div id=\"df-f134b997-7274-4497-9471-c0ac99b14df2\" class=\"colab-df-container\">\n",
              "    <div>\n",
              "<style scoped>\n",
              "    .dataframe tbody tr th:only-of-type {\n",
              "        vertical-align: middle;\n",
              "    }\n",
              "\n",
              "    .dataframe tbody tr th {\n",
              "        vertical-align: top;\n",
              "    }\n",
              "\n",
              "    .dataframe thead th {\n",
              "        text-align: right;\n",
              "    }\n",
              "</style>\n",
              "<table border=\"1\" class=\"dataframe\">\n",
              "  <thead>\n",
              "    <tr style=\"text-align: right;\">\n",
              "      <th></th>\n",
              "      <th>user</th>\n",
              "      <th>item</th>\n",
              "      <th>rating</th>\n",
              "    </tr>\n",
              "  </thead>\n",
              "  <tbody>\n",
              "    <tr>\n",
              "      <th>0</th>\n",
              "      <td>1889878</td>\n",
              "      <td>CC0101EN</td>\n",
              "      <td>3.0</td>\n",
              "    </tr>\n",
              "    <tr>\n",
              "      <th>1</th>\n",
              "      <td>1342067</td>\n",
              "      <td>CL0101EN</td>\n",
              "      <td>3.0</td>\n",
              "    </tr>\n",
              "    <tr>\n",
              "      <th>2</th>\n",
              "      <td>1990814</td>\n",
              "      <td>ML0120ENv3</td>\n",
              "      <td>3.0</td>\n",
              "    </tr>\n",
              "    <tr>\n",
              "      <th>3</th>\n",
              "      <td>380098</td>\n",
              "      <td>BD0211EN</td>\n",
              "      <td>3.0</td>\n",
              "    </tr>\n",
              "    <tr>\n",
              "      <th>4</th>\n",
              "      <td>779563</td>\n",
              "      <td>DS0101EN</td>\n",
              "      <td>3.0</td>\n",
              "    </tr>\n",
              "  </tbody>\n",
              "</table>\n",
              "</div>\n",
              "    <div class=\"colab-df-buttons\">\n",
              "\n",
              "  <div class=\"colab-df-container\">\n",
              "    <button class=\"colab-df-convert\" onclick=\"convertToInteractive('df-f134b997-7274-4497-9471-c0ac99b14df2')\"\n",
              "            title=\"Convert this dataframe to an interactive table.\"\n",
              "            style=\"display:none;\">\n",
              "\n",
              "  <svg xmlns=\"http://www.w3.org/2000/svg\" height=\"24px\" viewBox=\"0 -960 960 960\">\n",
              "    <path d=\"M120-120v-720h720v720H120Zm60-500h600v-160H180v160Zm220 220h160v-160H400v160Zm0 220h160v-160H400v160ZM180-400h160v-160H180v160Zm440 0h160v-160H620v160ZM180-180h160v-160H180v160Zm440 0h160v-160H620v160Z\"/>\n",
              "  </svg>\n",
              "    </button>\n",
              "\n",
              "  <style>\n",
              "    .colab-df-container {\n",
              "      display:flex;\n",
              "      gap: 12px;\n",
              "    }\n",
              "\n",
              "    .colab-df-convert {\n",
              "      background-color: #E8F0FE;\n",
              "      border: none;\n",
              "      border-radius: 50%;\n",
              "      cursor: pointer;\n",
              "      display: none;\n",
              "      fill: #1967D2;\n",
              "      height: 32px;\n",
              "      padding: 0 0 0 0;\n",
              "      width: 32px;\n",
              "    }\n",
              "\n",
              "    .colab-df-convert:hover {\n",
              "      background-color: #E2EBFA;\n",
              "      box-shadow: 0px 1px 2px rgba(60, 64, 67, 0.3), 0px 1px 3px 1px rgba(60, 64, 67, 0.15);\n",
              "      fill: #174EA6;\n",
              "    }\n",
              "\n",
              "    .colab-df-buttons div {\n",
              "      margin-bottom: 4px;\n",
              "    }\n",
              "\n",
              "    [theme=dark] .colab-df-convert {\n",
              "      background-color: #3B4455;\n",
              "      fill: #D2E3FC;\n",
              "    }\n",
              "\n",
              "    [theme=dark] .colab-df-convert:hover {\n",
              "      background-color: #434B5C;\n",
              "      box-shadow: 0px 1px 3px 1px rgba(0, 0, 0, 0.15);\n",
              "      filter: drop-shadow(0px 1px 2px rgba(0, 0, 0, 0.3));\n",
              "      fill: #FFFFFF;\n",
              "    }\n",
              "  </style>\n",
              "\n",
              "    <script>\n",
              "      const buttonEl =\n",
              "        document.querySelector('#df-f134b997-7274-4497-9471-c0ac99b14df2 button.colab-df-convert');\n",
              "      buttonEl.style.display =\n",
              "        google.colab.kernel.accessAllowed ? 'block' : 'none';\n",
              "\n",
              "      async function convertToInteractive(key) {\n",
              "        const element = document.querySelector('#df-f134b997-7274-4497-9471-c0ac99b14df2');\n",
              "        const dataTable =\n",
              "          await google.colab.kernel.invokeFunction('convertToInteractive',\n",
              "                                                    [key], {});\n",
              "        if (!dataTable) return;\n",
              "\n",
              "        const docLinkHtml = 'Like what you see? Visit the ' +\n",
              "          '<a target=\"_blank\" href=https://colab.research.google.com/notebooks/data_table.ipynb>data table notebook</a>'\n",
              "          + ' to learn more about interactive tables.';\n",
              "        element.innerHTML = '';\n",
              "        dataTable['output_type'] = 'display_data';\n",
              "        await google.colab.output.renderOutput(dataTable, element);\n",
              "        const docLink = document.createElement('div');\n",
              "        docLink.innerHTML = docLinkHtml;\n",
              "        element.appendChild(docLink);\n",
              "      }\n",
              "    </script>\n",
              "  </div>\n",
              "\n",
              "\n",
              "<div id=\"df-4b6ab16a-76bf-40e4-ac82-d5bbbe201620\">\n",
              "  <button class=\"colab-df-quickchart\" onclick=\"quickchart('df-4b6ab16a-76bf-40e4-ac82-d5bbbe201620')\"\n",
              "            title=\"Suggest charts\"\n",
              "            style=\"display:none;\">\n",
              "\n",
              "<svg xmlns=\"http://www.w3.org/2000/svg\" height=\"24px\"viewBox=\"0 0 24 24\"\n",
              "     width=\"24px\">\n",
              "    <g>\n",
              "        <path d=\"M19 3H5c-1.1 0-2 .9-2 2v14c0 1.1.9 2 2 2h14c1.1 0 2-.9 2-2V5c0-1.1-.9-2-2-2zM9 17H7v-7h2v7zm4 0h-2V7h2v10zm4 0h-2v-4h2v4z\"/>\n",
              "    </g>\n",
              "</svg>\n",
              "  </button>\n",
              "\n",
              "<style>\n",
              "  .colab-df-quickchart {\n",
              "      --bg-color: #E8F0FE;\n",
              "      --fill-color: #1967D2;\n",
              "      --hover-bg-color: #E2EBFA;\n",
              "      --hover-fill-color: #174EA6;\n",
              "      --disabled-fill-color: #AAA;\n",
              "      --disabled-bg-color: #DDD;\n",
              "  }\n",
              "\n",
              "  [theme=dark] .colab-df-quickchart {\n",
              "      --bg-color: #3B4455;\n",
              "      --fill-color: #D2E3FC;\n",
              "      --hover-bg-color: #434B5C;\n",
              "      --hover-fill-color: #FFFFFF;\n",
              "      --disabled-bg-color: #3B4455;\n",
              "      --disabled-fill-color: #666;\n",
              "  }\n",
              "\n",
              "  .colab-df-quickchart {\n",
              "    background-color: var(--bg-color);\n",
              "    border: none;\n",
              "    border-radius: 50%;\n",
              "    cursor: pointer;\n",
              "    display: none;\n",
              "    fill: var(--fill-color);\n",
              "    height: 32px;\n",
              "    padding: 0;\n",
              "    width: 32px;\n",
              "  }\n",
              "\n",
              "  .colab-df-quickchart:hover {\n",
              "    background-color: var(--hover-bg-color);\n",
              "    box-shadow: 0 1px 2px rgba(60, 64, 67, 0.3), 0 1px 3px 1px rgba(60, 64, 67, 0.15);\n",
              "    fill: var(--button-hover-fill-color);\n",
              "  }\n",
              "\n",
              "  .colab-df-quickchart-complete:disabled,\n",
              "  .colab-df-quickchart-complete:disabled:hover {\n",
              "    background-color: var(--disabled-bg-color);\n",
              "    fill: var(--disabled-fill-color);\n",
              "    box-shadow: none;\n",
              "  }\n",
              "\n",
              "  .colab-df-spinner {\n",
              "    border: 2px solid var(--fill-color);\n",
              "    border-color: transparent;\n",
              "    border-bottom-color: var(--fill-color);\n",
              "    animation:\n",
              "      spin 1s steps(1) infinite;\n",
              "  }\n",
              "\n",
              "  @keyframes spin {\n",
              "    0% {\n",
              "      border-color: transparent;\n",
              "      border-bottom-color: var(--fill-color);\n",
              "      border-left-color: var(--fill-color);\n",
              "    }\n",
              "    20% {\n",
              "      border-color: transparent;\n",
              "      border-left-color: var(--fill-color);\n",
              "      border-top-color: var(--fill-color);\n",
              "    }\n",
              "    30% {\n",
              "      border-color: transparent;\n",
              "      border-left-color: var(--fill-color);\n",
              "      border-top-color: var(--fill-color);\n",
              "      border-right-color: var(--fill-color);\n",
              "    }\n",
              "    40% {\n",
              "      border-color: transparent;\n",
              "      border-right-color: var(--fill-color);\n",
              "      border-top-color: var(--fill-color);\n",
              "    }\n",
              "    60% {\n",
              "      border-color: transparent;\n",
              "      border-right-color: var(--fill-color);\n",
              "    }\n",
              "    80% {\n",
              "      border-color: transparent;\n",
              "      border-right-color: var(--fill-color);\n",
              "      border-bottom-color: var(--fill-color);\n",
              "    }\n",
              "    90% {\n",
              "      border-color: transparent;\n",
              "      border-bottom-color: var(--fill-color);\n",
              "    }\n",
              "  }\n",
              "</style>\n",
              "\n",
              "  <script>\n",
              "    async function quickchart(key) {\n",
              "      const quickchartButtonEl =\n",
              "        document.querySelector('#' + key + ' button');\n",
              "      quickchartButtonEl.disabled = true;  // To prevent multiple clicks.\n",
              "      quickchartButtonEl.classList.add('colab-df-spinner');\n",
              "      try {\n",
              "        const charts = await google.colab.kernel.invokeFunction(\n",
              "            'suggestCharts', [key], {});\n",
              "      } catch (error) {\n",
              "        console.error('Error during call to suggestCharts:', error);\n",
              "      }\n",
              "      quickchartButtonEl.classList.remove('colab-df-spinner');\n",
              "      quickchartButtonEl.classList.add('colab-df-quickchart-complete');\n",
              "    }\n",
              "    (() => {\n",
              "      let quickchartButtonEl =\n",
              "        document.querySelector('#df-4b6ab16a-76bf-40e4-ac82-d5bbbe201620 button');\n",
              "      quickchartButtonEl.style.display =\n",
              "        google.colab.kernel.accessAllowed ? 'block' : 'none';\n",
              "    })();\n",
              "  </script>\n",
              "</div>\n",
              "\n",
              "    </div>\n",
              "  </div>\n"
            ],
            "application/vnd.google.colaboratory.intrinsic+json": {
              "type": "dataframe",
              "variable_name": "rating_df"
            }
          },
          "metadata": {},
          "execution_count": 1
        }
      ],
      "source": [
        "import pandas as pd\n",
        "import numpy as np\n",
        "import math\n",
        "from sklearn.metrics.pairwise import cosine_similarity\n",
        "rating_url = \"https://cf-courses-data.s3.us.cloud-object-storage.appdomain.cloud/IBM-ML321EN-SkillsNetwork/labs/datasets/ratings.csv\"\n",
        "rating_df = pd.read_csv(rating_url)\n",
        "\n",
        "rating_df.head()"
      ]
    },
    {
      "cell_type": "code",
      "source": [
        "rating_df.info()"
      ],
      "metadata": {
        "colab": {
          "base_uri": "https://localhost:8080/"
        },
        "id": "ikGM9kMbWR2M",
        "outputId": "3b3d7bc6-28f0-4a81-f65f-259902f0d39b"
      },
      "execution_count": 2,
      "outputs": [
        {
          "output_type": "stream",
          "name": "stdout",
          "text": [
            "<class 'pandas.core.frame.DataFrame'>\n",
            "RangeIndex: 233306 entries, 0 to 233305\n",
            "Data columns (total 3 columns):\n",
            " #   Column  Non-Null Count   Dtype  \n",
            "---  ------  --------------   -----  \n",
            " 0   user    233306 non-null  int64  \n",
            " 1   item    233306 non-null  object \n",
            " 2   rating  233306 non-null  float64\n",
            "dtypes: float64(1), int64(1), object(1)\n",
            "memory usage: 5.3+ MB\n"
          ]
        }
      ]
    },
    {
      "cell_type": "code",
      "source": [
        "print(f\"Number of users : {len(rating_df['user'].unique())}\")"
      ],
      "metadata": {
        "colab": {
          "base_uri": "https://localhost:8080/"
        },
        "id": "aiwl4LJsWf-n",
        "outputId": "f6f91213-75ac-4be0-823b-dad1cdbfcba4"
      },
      "execution_count": 3,
      "outputs": [
        {
          "output_type": "stream",
          "name": "stdout",
          "text": [
            "Number of users : 33901\n"
          ]
        }
      ]
    },
    {
      "cell_type": "code",
      "source": [
        "print(f\"Number of items : {len(rating_df['item'].unique())}\")"
      ],
      "metadata": {
        "colab": {
          "base_uri": "https://localhost:8080/"
        },
        "id": "lgvoi2yTXDNs",
        "outputId": "a004d1f7-1ad0-4d4d-a784-71dabc2787bc"
      },
      "execution_count": 4,
      "outputs": [
        {
          "output_type": "stream",
          "name": "stdout",
          "text": [
            "Number of items : 126\n"
          ]
        }
      ]
    },
    {
      "cell_type": "code",
      "source": [
        "import matplotlib.pyplot as plt\n",
        "import seaborn as sns\n",
        "\n",
        "# Count the number of ratings for each rating level\n",
        "rating_counts = rating_df['rating'].value_counts()\n",
        "\n",
        "# Extract the counts for ratings 3.0 and 2.0\n",
        "rating_3_count = rating_counts[3.0]\n",
        "rating_2_count = rating_counts[2.0]\n",
        "\n",
        "# Create a list of colors for the pie chart\n",
        "colors = ['lightgreen', 'gold']\n",
        "\n",
        "# Create the pie chart\n",
        "plt.figure(figsize=(5, 5))\n",
        "plt.pie([rating_3_count, rating_2_count], labels=['Rating 3.0', 'Rating 2.0'], colors=colors, autopct='%1.1f%%')\n",
        "plt.title('Proportion of Ratings 3.0 and 2.0')\n",
        "plt.show()\n"
      ],
      "metadata": {
        "colab": {
          "base_uri": "https://localhost:8080/",
          "height": 444
        },
        "id": "TWTBk1BeXTxg",
        "outputId": "0da7f1c3-f82c-4fa3-d8f0-797512699f2f"
      },
      "execution_count": 5,
      "outputs": [
        {
          "output_type": "display_data",
          "data": {
            "text/plain": [
              "<Figure size 500x500 with 1 Axes>"
            ],
            "image/png": "[encoded data removed]"
          },
          "metadata": {}
        }
      ]
    },
    {
      "cell_type": "code",
      "source": [
        "sum_datapoints = len(rating_df['user'].unique()) * len(rating_df['item'].unique())\n",
        "\n",
        "sum_filled_datapoints = len(rating_df)\n",
        "\n",
        "plt.figure(figsize=(5, 5))\n",
        "plt.pie([ sum_datapoints - sum_filled_datapoints,sum_filled_datapoints], labels=['Unfill', 'Filled'], colors=colors, autopct='%1.3f%%')\n",
        "plt.title('Proportion of Filled datapoints and unfill datapoints')\n",
        "plt.show()"
      ],
      "metadata": {
        "colab": {
          "base_uri": "https://localhost:8080/",
          "height": 444
        },
        "id": "LNqfdvT5XunU",
        "outputId": "2c5fe4db-dc35-47a1-9d57-7a51abece216"
      },
      "execution_count": 6,
      "outputs": [
        {
          "output_type": "display_data",
          "data": {
            "text/plain": [
              "<Figure size 500x500 with 1 Axes>"
            ],
            "image/png": "[encoded data removed]"
          },
          "metadata": {}
        }
      ]
    },
    {
      "cell_type": "markdown",
      "source": [
        "# Convert to user-item matrix"
      ],
      "metadata": {
        "id": "_cscHknxZvyL"
      }
    },
    {
      "cell_type": "code",
      "source": [
        "rating_sparse_df = rating_df.pivot(index='user', columns='item',\n",
        "                                   values='rating').fillna(0).reset_index().rename_axis(index=None, columns=None)\n",
        "rating_sparse_df = rating_sparse_df.set_index('user')\n",
        "rating_sparse_df.head()"
      ],
      "metadata": {
        "colab": {
          "base_uri": "https://localhost:8080/",
          "height": 287
        },
        "id": "kivOGE6KZWXS",
        "outputId": "ed827123-d2bb-4d3f-8674-d9b6a0739ce7"
      },
      "execution_count": 7,
      "outputs": [
        {
          "output_type": "execute_result",
          "data": {
            "text/plain": [
              "      AI0111EN  BC0101EN  BC0201EN  BC0202EN  BD0101EN  BD0111EN  BD0115EN  \\\n",
              "user                                                                         \n",
              "2          0.0       3.0       0.0       0.0       3.0       2.0       0.0   \n",
              "4          0.0       0.0       0.0       0.0       2.0       2.0       2.0   \n",
              "5          2.0       2.0       2.0       0.0       2.0       0.0       0.0   \n",
              "7          0.0       0.0       0.0       0.0       0.0       0.0       0.0   \n",
              "8          0.0       0.0       0.0       0.0       0.0       2.0       0.0   \n",
              "\n",
              "      BD0121EN  BD0123EN  BD0131EN  ...  SW0201EN  TA0105  TA0105EN  TA0106EN  \\\n",
              "user                                ...                                         \n",
              "2          2.0       2.0       3.0  ...       0.0     2.0       0.0       3.0   \n",
              "4          2.0       2.0       2.0  ...       0.0     2.0       0.0       0.0   \n",
              "5          0.0       2.0       0.0  ...       0.0     0.0       2.0       2.0   \n",
              "7          0.0       0.0       0.0  ...       0.0     0.0       0.0       0.0   \n",
              "8          0.0       0.0       0.0  ...       0.0     0.0       0.0       0.0   \n",
              "\n",
              "      TMP0101EN  TMP0105EN  TMP0106  TMP107  WA0101EN  WA0103EN  \n",
              "user                                                             \n",
              "2           0.0        2.0      2.0     0.0       3.0       0.0  \n",
              "4           0.0        2.0      2.0     0.0       2.0       2.0  \n",
              "5           2.0        2.0      2.0     2.0       0.0       2.0  \n",
              "7           0.0        0.0      0.0     0.0       0.0       0.0  \n",
              "8           0.0        0.0      0.0     0.0       0.0       0.0  \n",
              "\n",
              "[5 rows x 126 columns]"
            ],
            "text/html": [
              "\n",
              "  <div id=\"df-fa72bf0c-a6f5-43b8-abad-87d7e3fd8cec\" class=\"colab-df-container\">\n",
              "    <div>\n",
              "<style scoped>\n",
              "    .dataframe tbody tr th:only-of-type {\n",
              "        vertical-align: middle;\n",
              "    }\n",
              "\n",
              "    .dataframe tbody tr th {\n",
              "        vertical-align: top;\n",
              "    }\n",
              "\n",
              "    .dataframe thead th {\n",
              "        text-align: right;\n",
              "    }\n",
              "</style>\n",
              "<table border=\"1\" class=\"dataframe\">\n",
              "  <thead>\n",
              "    <tr style=\"text-align: right;\">\n",
              "      <th></th>\n",
              "      <th>AI0111EN</th>\n",
              "      <th>BC0101EN</th>\n",
              "      <th>BC0201EN</th>\n",
              "      <th>BC0202EN</th>\n",
              "      <th>BD0101EN</th>\n",
              "      <th>BD0111EN</th>\n",
              "      <th>BD0115EN</th>\n",
              "      <th>BD0121EN</th>\n",
              "      <th>BD0123EN</th>\n",
              "      <th>BD0131EN</th>\n",
              "      <th>...</th>\n",
              "      <th>SW0201EN</th>\n",
              "      <th>TA0105</th>\n",
              "      <th>TA0105EN</th>\n",
              "      <th>TA0106EN</th>\n",
              "      <th>TMP0101EN</th>\n",
              "      <th>TMP0105EN</th>\n",
              "      <th>TMP0106</th>\n",
              "      <th>TMP107</th>\n",
              "      <th>WA0101EN</th>\n",
              "      <th>WA0103EN</th>\n",
              "    </tr>\n",
              "    <tr>\n",
              "      <th>user</th>\n",
              "      <th></th>\n",
              "      <th></th>\n",
              "      <th></th>\n",
              "      <th></th>\n",
              "      <th></th>\n",
              "      <th></th>\n",
              "      <th></th>\n",
              "      <th></th>\n",
              "      <th></th>\n",
              "      <th></th>\n",
              "      <th></th>\n",
              "      <th></th>\n",
              "      <th></th>\n",
              "      <th></th>\n",
              "      <th></th>\n",
              "      <th></th>\n",
              "      <th></th>\n",
              "      <th></th>\n",
              "      <th></th>\n",
              "      <th></th>\n",
              "      <th></th>\n",
              "    </tr>\n",
              "  </thead>\n",
              "  <tbody>\n",
              "    <tr>\n",
              "      <th>2</th>\n",
              "      <td>0.0</td>\n",
              "      <td>3.0</td>\n",
              "      <td>0.0</td>\n",
              "      <td>0.0</td>\n",
              "      <td>3.0</td>\n",
              "      <td>2.0</td>\n",
              "      <td>0.0</td>\n",
              "      <td>2.0</td>\n",
              "      <td>2.0</td>\n",
              "      <td>3.0</td>\n",
              "      <td>...</td>\n",
              "      <td>0.0</td>\n",
              "      <td>2.0</td>\n",
              "      <td>0.0</td>\n",
              "      <td>3.0</td>\n",
              "      <td>0.0</td>\n",
              "      <td>2.0</td>\n",
              "      <td>2.0</td>\n",
              "      <td>0.0</td>\n",
              "      <td>3.0</td>\n",
              "      <td>0.0</td>\n",
              "    </tr>\n",
              "    <tr>\n",
              "      <th>4</th>\n",
              "      <td>0.0</td>\n",
              "      <td>0.0</td>\n",
              "      <td>0.0</td>\n",
              "      <td>0.0</td>\n",
              "      <td>2.0</td>\n",
              "      <td>2.0</td>\n",
              "      <td>2.0</td>\n",
              "      <td>2.0</td>\n",
              "      <td>2.0</td>\n",
              "      <td>2.0</td>\n",
              "      <td>...</td>\n",
              "      <td>0.0</td>\n",
              "      <td>2.0</td>\n",
              "      <td>0.0</td>\n",
              "      <td>0.0</td>\n",
              "      <td>0.0</td>\n",
              "      <td>2.0</td>\n",
              "      <td>2.0</td>\n",
              "      <td>0.0</td>\n",
              "      <td>2.0</td>\n",
              "      <td>2.0</td>\n",
              "    </tr>\n",
              "    <tr>\n",
              "      <th>5</th>\n",
              "      <td>2.0</td>\n",
              "      <td>2.0</td>\n",
              "      <td>2.0</td>\n",
              "      <td>0.0</td>\n",
              "      <td>2.0</td>\n",
              "      <td>0.0</td>\n",
              "      <td>0.0</td>\n",
              "      <td>0.0</td>\n",
              "      <td>2.0</td>\n",
              "      <td>0.0</td>\n",
              "      <td>...</td>\n",
              "      <td>0.0</td>\n",
              "      <td>0.0</td>\n",
              "      <td>2.0</td>\n",
              "      <td>2.0</td>\n",
              "      <td>2.0</td>\n",
              "      <td>2.0</td>\n",
              "      <td>2.0</td>\n",
              "      <td>2.0</td>\n",
              "      <td>0.0</td>\n",
              "      <td>2.0</td>\n",
              "    </tr>\n",
              "    <tr>\n",
              "      <th>7</th>\n",
              "      <td>0.0</td>\n",
              "      <td>0.0</td>\n",
              "      <td>0.0</td>\n",
              "      <td>0.0</td>\n",
              "      <td>0.0</td>\n",
              "      <td>0.0</td>\n",
              "      <td>0.0</td>\n",
              "      <td>0.0</td>\n",
              "      <td>0.0</td>\n",
              "      <td>0.0</td>\n",
              "      <td>...</td>\n",
              "      <td>0.0</td>\n",
              "      <td>0.0</td>\n",
              "      <td>0.0</td>\n",
              "      <td>0.0</td>\n",
              "      <td>0.0</td>\n",
              "      <td>0.0</td>\n",
              "      <td>0.0</td>\n",
              "      <td>0.0</td>\n",
              "      <td>0.0</td>\n",
              "      <td>0.0</td>\n",
              "    </tr>\n",
              "    <tr>\n",
              "      <th>8</th>\n",
              "      <td>0.0</td>\n",
              "      <td>0.0</td>\n",
              "      <td>0.0</td>\n",
              "      <td>0.0</td>\n",
              "      <td>0.0</td>\n",
              "      <td>2.0</td>\n",
              "      <td>0.0</td>\n",
              "      <td>0.0</td>\n",
              "      <td>0.0</td>\n",
              "      <td>0.0</td>\n",
              "      <td>...</td>\n",
              "      <td>0.0</td>\n",
              "      <td>0.0</td>\n",
              "      <td>0.0</td>\n",
              "      <td>0.0</td>\n",
              "      <td>0.0</td>\n",
              "      <td>0.0</td>\n",
              "      <td>0.0</td>\n",
              "      <td>0.0</td>\n",
              "      <td>0.0</td>\n",
              "      <td>0.0</td>\n",
              "    </tr>\n",
              "  </tbody>\n",
              "</table>\n",
              "<p>5 rows × 126 columns</p>\n",
              "</div>\n",
              "    <div class=\"colab-df-buttons\">\n",
              "\n",
              "  <div class=\"colab-df-container\">\n",
              "    <button class=\"colab-df-convert\" onclick=\"convertToInteractive('df-fa72bf0c-a6f5-43b8-abad-87d7e3fd8cec')\"\n",
              "            title=\"Convert this dataframe to an interactive table.\"\n",
              "            style=\"display:none;\">\n",
              "\n",
              "  <svg xmlns=\"http://www.w3.org/2000/svg\" height=\"24px\" viewBox=\"0 -960 960 960\">\n",
              "    <path d=\"M120-120v-720h720v720H120Zm60-500h600v-160H180v160Zm220 220h160v-160H400v160Zm0 220h160v-160H400v160ZM180-400h160v-160H180v160Zm440 0h160v-160H620v160ZM180-180h160v-160H180v160Zm440 0h160v-160H620v160Z\"/>\n",
              "  </svg>\n",
              "    </button>\n",
              "\n",
              "  <style>\n",
              "    .colab-df-container {\n",
              "      display:flex;\n",
              "      gap: 12px;\n",
              "    }\n",
              "\n",
              "    .colab-df-convert {\n",
              "      background-color: #E8F0FE;\n",
              "      border: none;\n",
              "      border-radius: 50%;\n",
              "      cursor: pointer;\n",
              "      display: none;\n",
              "      fill: #1967D2;\n",
              "      height: 32px;\n",
              "      padding: 0 0 0 0;\n",
              "      width: 32px;\n",
              "    }\n",
              "\n",
              "    .colab-df-convert:hover {\n",
              "      background-color: #E2EBFA;\n",
              "      box-shadow: 0px 1px 2px rgba(60, 64, 67, 0.3), 0px 1px 3px 1px rgba(60, 64, 67, 0.15);\n",
              "      fill: #174EA6;\n",
              "    }\n",
              "\n",
              "    .colab-df-buttons div {\n",
              "      margin-bottom: 4px;\n",
              "    }\n",
              "\n",
              "    [theme=dark] .colab-df-convert {\n",
              "      background-color: #3B4455;\n",
              "      fill: #D2E3FC;\n",
              "    }\n",
              "\n",
              "    [theme=dark] .colab-df-convert:hover {\n",
              "      background-color: #434B5C;\n",
              "      box-shadow: 0px 1px 3px 1px rgba(0, 0, 0, 0.15);\n",
              "      filter: drop-shadow(0px 1px 2px rgba(0, 0, 0, 0.3));\n",
              "      fill: #FFFFFF;\n",
              "    }\n",
              "  </style>\n",
              "\n",
              "    <script>\n",
              "      const buttonEl =\n",
              "        document.querySelector('#df-fa72bf0c-a6f5-43b8-abad-87d7e3fd8cec button.colab-df-convert');\n",
              "      buttonEl.style.display =\n",
              "        google.colab.kernel.accessAllowed ? 'block' : 'none';\n",
              "\n",
              "      async function convertToInteractive(key) {\n",
              "        const element = document.querySelector('#df-fa72bf0c-a6f5-43b8-abad-87d7e3fd8cec');\n",
              "        const dataTable =\n",
              "          await google.colab.kernel.invokeFunction('convertToInteractive',\n",
              "                                                    [key], {});\n",
              "        if (!dataTable) return;\n",
              "\n",
              "        const docLinkHtml = 'Like what you see? Visit the ' +\n",
              "          '<a target=\"_blank\" href=https://colab.research.google.com/notebooks/data_table.ipynb>data table notebook</a>'\n",
              "          + ' to learn more about interactive tables.';\n",
              "        element.innerHTML = '';\n",
              "        dataTable['output_type'] = 'display_data';\n",
              "        await google.colab.output.renderOutput(dataTable, element);\n",
              "        const docLink = document.createElement('div');\n",
              "        docLink.innerHTML = docLinkHtml;\n",
              "        element.appendChild(docLink);\n",
              "      }\n",
              "    </script>\n",
              "  </div>\n",
              "\n",
              "\n",
              "<div id=\"df-385056d1-08e3-4097-ba40-a326d5a12f2a\">\n",
              "  <button class=\"colab-df-quickchart\" onclick=\"quickchart('df-385056d1-08e3-4097-ba40-a326d5a12f2a')\"\n",
              "            title=\"Suggest charts\"\n",
              "            style=\"display:none;\">\n",
              "\n",
              "<svg xmlns=\"http://www.w3.org/2000/svg\" height=\"24px\"viewBox=\"0 0 24 24\"\n",
              "     width=\"24px\">\n",
              "    <g>\n",
              "        <path d=\"M19 3H5c-1.1 0-2 .9-2 2v14c0 1.1.9 2 2 2h14c1.1 0 2-.9 2-2V5c0-1.1-.9-2-2-2zM9 17H7v-7h2v7zm4 0h-2V7h2v10zm4 0h-2v-4h2v4z\"/>\n",
              "    </g>\n",
              "</svg>\n",
              "  </button>\n",
              "\n",
              "<style>\n",
              "  .colab-df-quickchart {\n",
              "      --bg-color: #E8F0FE;\n",
              "      --fill-color: #1967D2;\n",
              "      --hover-bg-color: #E2EBFA;\n",
              "      --hover-fill-color: #174EA6;\n",
              "      --disabled-fill-color: #AAA;\n",
              "      --disabled-bg-color: #DDD;\n",
              "  }\n",
              "\n",
              "  [theme=dark] .colab-df-quickchart {\n",
              "      --bg-color: #3B4455;\n",
              "      --fill-color: #D2E3FC;\n",
              "      --hover-bg-color: #434B5C;\n",
              "      --hover-fill-color: #FFFFFF;\n",
              "      --disabled-bg-color: #3B4455;\n",
              "      --disabled-fill-color: #666;\n",
              "  }\n",
              "\n",
              "  .colab-df-quickchart {\n",
              "    background-color: var(--bg-color);\n",
              "    border: none;\n",
              "    border-radius: 50%;\n",
              "    cursor: pointer;\n",
              "    display: none;\n",
              "    fill: var(--fill-color);\n",
              "    height: 32px;\n",
              "    padding: 0;\n",
              "    width: 32px;\n",
              "  }\n",
              "\n",
              "  .colab-df-quickchart:hover {\n",
              "    background-color: var(--hover-bg-color);\n",
              "    box-shadow: 0 1px 2px rgba(60, 64, 67, 0.3), 0 1px 3px 1px rgba(60, 64, 67, 0.15);\n",
              "    fill: var(--button-hover-fill-color);\n",
              "  }\n",
              "\n",
              "  .colab-df-quickchart-complete:disabled,\n",
              "  .colab-df-quickchart-complete:disabled:hover {\n",
              "    background-color: var(--disabled-bg-color);\n",
              "    fill: var(--disabled-fill-color);\n",
              "    box-shadow: none;\n",
              "  }\n",
              "\n",
              "  .colab-df-spinner {\n",
              "    border: 2px solid var(--fill-color);\n",
              "    border-color: transparent;\n",
              "    border-bottom-color: var(--fill-color);\n",
              "    animation:\n",
              "      spin 1s steps(1) infinite;\n",
              "  }\n",
              "\n",
              "  @keyframes spin {\n",
              "    0% {\n",
              "      border-color: transparent;\n",
              "      border-bottom-color: var(--fill-color);\n",
              "      border-left-color: var(--fill-color);\n",
              "    }\n",
              "    20% {\n",
              "      border-color: transparent;\n",
              "      border-left-color: var(--fill-color);\n",
              "      border-top-color: var(--fill-color);\n",
              "    }\n",
              "    30% {\n",
              "      border-color: transparent;\n",
              "      border-left-color: var(--fill-color);\n",
              "      border-top-color: var(--fill-color);\n",
              "      border-right-color: var(--fill-color);\n",
              "    }\n",
              "    40% {\n",
              "      border-color: transparent;\n",
              "      border-right-color: var(--fill-color);\n",
              "      border-top-color: var(--fill-color);\n",
              "    }\n",
              "    60% {\n",
              "      border-color: transparent;\n",
              "      border-right-color: var(--fill-color);\n",
              "    }\n",
              "    80% {\n",
              "      border-color: transparent;\n",
              "      border-right-color: var(--fill-color);\n",
              "      border-bottom-color: var(--fill-color);\n",
              "    }\n",
              "    90% {\n",
              "      border-color: transparent;\n",
              "      border-bottom-color: var(--fill-color);\n",
              "    }\n",
              "  }\n",
              "</style>\n",
              "\n",
              "  <script>\n",
              "    async function quickchart(key) {\n",
              "      const quickchartButtonEl =\n",
              "        document.querySelector('#' + key + ' button');\n",
              "      quickchartButtonEl.disabled = true;  // To prevent multiple clicks.\n",
              "      quickchartButtonEl.classList.add('colab-df-spinner');\n",
              "      try {\n",
              "        const charts = await google.colab.kernel.invokeFunction(\n",
              "            'suggestCharts', [key], {});\n",
              "      } catch (error) {\n",
              "        console.error('Error during call to suggestCharts:', error);\n",
              "      }\n",
              "      quickchartButtonEl.classList.remove('colab-df-spinner');\n",
              "      quickchartButtonEl.classList.add('colab-df-quickchart-complete');\n",
              "    }\n",
              "    (() => {\n",
              "      let quickchartButtonEl =\n",
              "        document.querySelector('#df-385056d1-08e3-4097-ba40-a326d5a12f2a button');\n",
              "      quickchartButtonEl.style.display =\n",
              "        google.colab.kernel.accessAllowed ? 'block' : 'none';\n",
              "    })();\n",
              "  </script>\n",
              "</div>\n",
              "\n",
              "    </div>\n",
              "  </div>\n"
            ],
            "application/vnd.google.colaboratory.intrinsic+json": {
              "type": "dataframe",
              "variable_name": "rating_sparse_df"
            }
          },
          "metadata": {},
          "execution_count": 7
        }
      ]
    },
    {
      "cell_type": "code",
      "source": [
        "train_set = rating_sparse_df.copy()"
      ],
      "metadata": {
        "id": "4SlBrAPqaMnS"
      },
      "execution_count": 8,
      "outputs": []
    },
    {
      "cell_type": "markdown",
      "source": [],
      "metadata": {
        "id": "qaeTAXK9wba2"
      }
    },
    {
      "cell_type": "markdown",
      "source": [
        "![image.png](data:image/png;base64,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)"
      ],
      "metadata": {
        "id": "qt23ZZB0jedy"
      }
    },
    {
      "cell_type": "code",
      "source": [
        "item_similarity = cosine_similarity(train_set.T)\n",
        "item_similarity.shape"
      ],
      "metadata": {
        "colab": {
          "base_uri": "https://localhost:8080/"
        },
        "id": "eApJHQTIaD5w",
        "outputId": "7f3ed1b2-c013-4917-ce3c-4e7054fae2e6"
      },
      "execution_count": 9,
      "outputs": [
        {
          "output_type": "execute_result",
          "data": {
            "text/plain": [
              "(126, 126)"
            ]
          },
          "metadata": {},
          "execution_count": 9
        }
      ]
    },
    {
      "cell_type": "code",
      "source": [
        "item_sim_df = pd.DataFrame(item_similarity,index=train_set.columns,columns = train_set.columns)\n",
        "item_sim_df.head()"
      ],
      "metadata": {
        "colab": {
          "base_uri": "https://localhost:8080/",
          "height": 255
        },
        "id": "BnrJbbQzaUt8",
        "outputId": "55669115-f05b-4948-ac4c-b0e5a1d260d4"
      },
      "execution_count": 10,
      "outputs": [
        {
          "output_type": "execute_result",
          "data": {
            "text/plain": [
              "          AI0111EN  BC0101EN  BC0201EN  BC0202EN  BD0101EN  BD0111EN  \\\n",
              "AI0111EN  1.000000  0.105708  0.093261  0.158023  0.081823  0.071958   \n",
              "BC0101EN  0.105708  1.000000  0.381801  0.262163  0.384545  0.312488   \n",
              "BC0201EN  0.093261  0.381801  1.000000  0.338096  0.165998  0.139687   \n",
              "BC0202EN  0.158023  0.262163  0.338096  1.000000  0.111778  0.099261   \n",
              "BD0101EN  0.081823  0.384545  0.165998  0.111778  1.000000  0.733963   \n",
              "\n",
              "          BD0115EN  BD0121EN  BD0123EN  BD0131EN  ...  SW0201EN    TA0105  \\\n",
              "AI0111EN  0.050822  0.035848  0.060667  0.043973  ...  0.101413  0.015380   \n",
              "BC0101EN  0.150896  0.080234  0.113649  0.126583  ...  0.120289  0.086303   \n",
              "BC0201EN  0.091785  0.054832  0.086070  0.072654  ...  0.100588  0.023002   \n",
              "BC0202EN  0.065476  0.055781  0.075561  0.057100  ...  0.068099  0.009607   \n",
              "BD0101EN  0.418689  0.277713  0.201113  0.365474  ...  0.086475  0.181796   \n",
              "\n",
              "          TA0105EN  TA0106EN  TMP0101EN  TMP0105EN   TMP0106    TMP107  \\\n",
              "AI0111EN  0.085273  0.004320   0.024105   0.001451  0.005567  0.018910   \n",
              "BC0101EN  0.160478  0.044557   0.005751   0.024492  0.005313  0.004512   \n",
              "BC0201EN  0.083121  0.010301   0.009832   0.006362  0.002271  0.007713   \n",
              "BC0202EN  0.058334  0.010508   0.000000   0.006883  0.000000  0.000000   \n",
              "BD0101EN  0.190855  0.104190   0.008269   0.070181  0.011458  0.010541   \n",
              "\n",
              "          WA0101EN  WA0103EN  \n",
              "AI0111EN  0.010874  0.003331  \n",
              "BC0101EN  0.205472  0.011523  \n",
              "BC0201EN  0.072589  0.004415  \n",
              "BC0202EN  0.017575  0.000000  \n",
              "BD0101EN  0.287737  0.037563  \n",
              "\n",
              "[5 rows x 126 columns]"
            ],
            "text/html": [
              "\n",
              "  <div id=\"df-b6ddd822-e3ef-4bbc-ae52-af64f3553636\" class=\"colab-df-container\">\n",
              "    <div>\n",
              "<style scoped>\n",
              "    .dataframe tbody tr th:only-of-type {\n",
              "        vertical-align: middle;\n",
              "    }\n",
              "\n",
              "    .dataframe tbody tr th {\n",
              "        vertical-align: top;\n",
              "    }\n",
              "\n",
              "    .dataframe thead th {\n",
              "        text-align: right;\n",
              "    }\n",
              "</style>\n",
              "<table border=\"1\" class=\"dataframe\">\n",
              "  <thead>\n",
              "    <tr style=\"text-align: right;\">\n",
              "      <th></th>\n",
              "      <th>AI0111EN</th>\n",
              "      <th>BC0101EN</th>\n",
              "      <th>BC0201EN</th>\n",
              "      <th>BC0202EN</th>\n",
              "      <th>BD0101EN</th>\n",
              "      <th>BD0111EN</th>\n",
              "      <th>BD0115EN</th>\n",
              "      <th>BD0121EN</th>\n",
              "      <th>BD0123EN</th>\n",
              "      <th>BD0131EN</th>\n",
              "      <th>...</th>\n",
              "      <th>SW0201EN</th>\n",
              "      <th>TA0105</th>\n",
              "      <th>TA0105EN</th>\n",
              "      <th>TA0106EN</th>\n",
              "      <th>TMP0101EN</th>\n",
              "      <th>TMP0105EN</th>\n",
              "      <th>TMP0106</th>\n",
              "      <th>TMP107</th>\n",
              "      <th>WA0101EN</th>\n",
              "      <th>WA0103EN</th>\n",
              "    </tr>\n",
              "  </thead>\n",
              "  <tbody>\n",
              "    <tr>\n",
              "      <th>AI0111EN</th>\n",
              "      <td>1.000000</td>\n",
              "      <td>0.105708</td>\n",
              "      <td>0.093261</td>\n",
              "      <td>0.158023</td>\n",
              "      <td>0.081823</td>\n",
              "      <td>0.071958</td>\n",
              "      <td>0.050822</td>\n",
              "      <td>0.035848</td>\n",
              "      <td>0.060667</td>\n",
              "      <td>0.043973</td>\n",
              "      <td>...</td>\n",
              "      <td>0.101413</td>\n",
              "      <td>0.015380</td>\n",
              "      <td>0.085273</td>\n",
              "      <td>0.004320</td>\n",
              "      <td>0.024105</td>\n",
              "      <td>0.001451</td>\n",
              "      <td>0.005567</td>\n",
              "      <td>0.018910</td>\n",
              "      <td>0.010874</td>\n",
              "      <td>0.003331</td>\n",
              "    </tr>\n",
              "    <tr>\n",
              "      <th>BC0101EN</th>\n",
              "      <td>0.105708</td>\n",
              "      <td>1.000000</td>\n",
              "      <td>0.381801</td>\n",
              "      <td>0.262163</td>\n",
              "      <td>0.384545</td>\n",
              "      <td>0.312488</td>\n",
              "      <td>0.150896</td>\n",
              "      <td>0.080234</td>\n",
              "      <td>0.113649</td>\n",
              "      <td>0.126583</td>\n",
              "      <td>...</td>\n",
              "      <td>0.120289</td>\n",
              "      <td>0.086303</td>\n",
              "      <td>0.160478</td>\n",
              "      <td>0.044557</td>\n",
              "      <td>0.005751</td>\n",
              "      <td>0.024492</td>\n",
              "      <td>0.005313</td>\n",
              "      <td>0.004512</td>\n",
              "      <td>0.205472</td>\n",
              "      <td>0.011523</td>\n",
              "    </tr>\n",
              "    <tr>\n",
              "      <th>BC0201EN</th>\n",
              "      <td>0.093261</td>\n",
              "      <td>0.381801</td>\n",
              "      <td>1.000000</td>\n",
              "      <td>0.338096</td>\n",
              "      <td>0.165998</td>\n",
              "      <td>0.139687</td>\n",
              "      <td>0.091785</td>\n",
              "      <td>0.054832</td>\n",
              "      <td>0.086070</td>\n",
              "      <td>0.072654</td>\n",
              "      <td>...</td>\n",
              "      <td>0.100588</td>\n",
              "      <td>0.023002</td>\n",
              "      <td>0.083121</td>\n",
              "      <td>0.010301</td>\n",
              "      <td>0.009832</td>\n",
              "      <td>0.006362</td>\n",
              "      <td>0.002271</td>\n",
              "      <td>0.007713</td>\n",
              "      <td>0.072589</td>\n",
              "      <td>0.004415</td>\n",
              "    </tr>\n",
              "    <tr>\n",
              "      <th>BC0202EN</th>\n",
              "      <td>0.158023</td>\n",
              "      <td>0.262163</td>\n",
              "      <td>0.338096</td>\n",
              "      <td>1.000000</td>\n",
              "      <td>0.111778</td>\n",
              "      <td>0.099261</td>\n",
              "      <td>0.065476</td>\n",
              "      <td>0.055781</td>\n",
              "      <td>0.075561</td>\n",
              "      <td>0.057100</td>\n",
              "      <td>...</td>\n",
              "      <td>0.068099</td>\n",
              "      <td>0.009607</td>\n",
              "      <td>0.058334</td>\n",
              "      <td>0.010508</td>\n",
              "      <td>0.000000</td>\n",
              "      <td>0.006883</td>\n",
              "      <td>0.000000</td>\n",
              "      <td>0.000000</td>\n",
              "      <td>0.017575</td>\n",
              "      <td>0.000000</td>\n",
              "    </tr>\n",
              "    <tr>\n",
              "      <th>BD0101EN</th>\n",
              "      <td>0.081823</td>\n",
              "      <td>0.384545</td>\n",
              "      <td>0.165998</td>\n",
              "      <td>0.111778</td>\n",
              "      <td>1.000000</td>\n",
              "      <td>0.733963</td>\n",
              "      <td>0.418689</td>\n",
              "      <td>0.277713</td>\n",
              "      <td>0.201113</td>\n",
              "      <td>0.365474</td>\n",
              "      <td>...</td>\n",
              "      <td>0.086475</td>\n",
              "      <td>0.181796</td>\n",
              "      <td>0.190855</td>\n",
              "      <td>0.104190</td>\n",
              "      <td>0.008269</td>\n",
              "      <td>0.070181</td>\n",
              "      <td>0.011458</td>\n",
              "      <td>0.010541</td>\n",
              "      <td>0.287737</td>\n",
              "      <td>0.037563</td>\n",
              "    </tr>\n",
              "  </tbody>\n",
              "</table>\n",
              "<p>5 rows × 126 columns</p>\n",
              "</div>\n",
              "    <div class=\"colab-df-buttons\">\n",
              "\n",
              "  <div class=\"colab-df-container\">\n",
              "    <button class=\"colab-df-convert\" onclick=\"convertToInteractive('df-b6ddd822-e3ef-4bbc-ae52-af64f3553636')\"\n",
              "            title=\"Convert this dataframe to an interactive table.\"\n",
              "            style=\"display:none;\">\n",
              "\n",
              "  <svg xmlns=\"http://www.w3.org/2000/svg\" height=\"24px\" viewBox=\"0 -960 960 960\">\n",
              "    <path d=\"M120-120v-720h720v720H120Zm60-500h600v-160H180v160Zm220 220h160v-160H400v160Zm0 220h160v-160H400v160ZM180-400h160v-160H180v160Zm440 0h160v-160H620v160ZM180-180h160v-160H180v160Zm440 0h160v-160H620v160Z\"/>\n",
              "  </svg>\n",
              "    </button>\n",
              "\n",
              "  <style>\n",
              "    .colab-df-container {\n",
              "      display:flex;\n",
              "      gap: 12px;\n",
              "    }\n",
              "\n",
              "    .colab-df-convert {\n",
              "      background-color: #E8F0FE;\n",
              "      border: none;\n",
              "      border-radius: 50%;\n",
              "      cursor: pointer;\n",
              "      display: none;\n",
              "      fill: #1967D2;\n",
              "      height: 32px;\n",
              "      padding: 0 0 0 0;\n",
              "      width: 32px;\n",
              "    }\n",
              "\n",
              "    .colab-df-convert:hover {\n",
              "      background-color: #E2EBFA;\n",
              "      box-shadow: 0px 1px 2px rgba(60, 64, 67, 0.3), 0px 1px 3px 1px rgba(60, 64, 67, 0.15);\n",
              "      fill: #174EA6;\n",
              "    }\n",
              "\n",
              "    .colab-df-buttons div {\n",
              "      margin-bottom: 4px;\n",
              "    }\n",
              "\n",
              "    [theme=dark] .colab-df-convert {\n",
              "      background-color: #3B4455;\n",
              "      fill: #D2E3FC;\n",
              "    }\n",
              "\n",
              "    [theme=dark] .colab-df-convert:hover {\n",
              "      background-color: #434B5C;\n",
              "      box-shadow: 0px 1px 3px 1px rgba(0, 0, 0, 0.15);\n",
              "      filter: drop-shadow(0px 1px 2px rgba(0, 0, 0, 0.3));\n",
              "      fill: #FFFFFF;\n",
              "    }\n",
              "  </style>\n",
              "\n",
              "    <script>\n",
              "      const buttonEl =\n",
              "        document.querySelector('#df-b6ddd822-e3ef-4bbc-ae52-af64f3553636 button.colab-df-convert');\n",
              "      buttonEl.style.display =\n",
              "        google.colab.kernel.accessAllowed ? 'block' : 'none';\n",
              "\n",
              "      async function convertToInteractive(key) {\n",
              "        const element = document.querySelector('#df-b6ddd822-e3ef-4bbc-ae52-af64f3553636');\n",
              "        const dataTable =\n",
              "          await google.colab.kernel.invokeFunction('convertToInteractive',\n",
              "                                                    [key], {});\n",
              "        if (!dataTable) return;\n",
              "\n",
              "        const docLinkHtml = 'Like what you see? Visit the ' +\n",
              "          '<a target=\"_blank\" href=https://colab.research.google.com/notebooks/data_table.ipynb>data table notebook</a>'\n",
              "          + ' to learn more about interactive tables.';\n",
              "        element.innerHTML = '';\n",
              "        dataTable['output_type'] = 'display_data';\n",
              "        await google.colab.output.renderOutput(dataTable, element);\n",
              "        const docLink = document.createElement('div');\n",
              "        docLink.innerHTML = docLinkHtml;\n",
              "        element.appendChild(docLink);\n",
              "      }\n",
              "    </script>\n",
              "  </div>\n",
              "\n",
              "\n",
              "<div id=\"df-87fc3f76-1023-4a27-85e3-d6b878ba084e\">\n",
              "  <button class=\"colab-df-quickchart\" onclick=\"quickchart('df-87fc3f76-1023-4a27-85e3-d6b878ba084e')\"\n",
              "            title=\"Suggest charts\"\n",
              "            style=\"display:none;\">\n",
              "\n",
              "<svg xmlns=\"http://www.w3.org/2000/svg\" height=\"24px\"viewBox=\"0 0 24 24\"\n",
              "     width=\"24px\">\n",
              "    <g>\n",
              "        <path d=\"M19 3H5c-1.1 0-2 .9-2 2v14c0 1.1.9 2 2 2h14c1.1 0 2-.9 2-2V5c0-1.1-.9-2-2-2zM9 17H7v-7h2v7zm4 0h-2V7h2v10zm4 0h-2v-4h2v4z\"/>\n",
              "    </g>\n",
              "</svg>\n",
              "  </button>\n",
              "\n",
              "<style>\n",
              "  .colab-df-quickchart {\n",
              "      --bg-color: #E8F0FE;\n",
              "      --fill-color: #1967D2;\n",
              "      --hover-bg-color: #E2EBFA;\n",
              "      --hover-fill-color: #174EA6;\n",
              "      --disabled-fill-color: #AAA;\n",
              "      --disabled-bg-color: #DDD;\n",
              "  }\n",
              "\n",
              "  [theme=dark] .colab-df-quickchart {\n",
              "      --bg-color: #3B4455;\n",
              "      --fill-color: #D2E3FC;\n",
              "      --hover-bg-color: #434B5C;\n",
              "      --hover-fill-color: #FFFFFF;\n",
              "      --disabled-bg-color: #3B4455;\n",
              "      --disabled-fill-color: #666;\n",
              "  }\n",
              "\n",
              "  .colab-df-quickchart {\n",
              "    background-color: var(--bg-color);\n",
              "    border: none;\n",
              "    border-radius: 50%;\n",
              "    cursor: pointer;\n",
              "    display: none;\n",
              "    fill: var(--fill-color);\n",
              "    height: 32px;\n",
              "    padding: 0;\n",
              "    width: 32px;\n",
              "  }\n",
              "\n",
              "  .colab-df-quickchart:hover {\n",
              "    background-color: var(--hover-bg-color);\n",
              "    box-shadow: 0 1px 2px rgba(60, 64, 67, 0.3), 0 1px 3px 1px rgba(60, 64, 67, 0.15);\n",
              "    fill: var(--button-hover-fill-color);\n",
              "  }\n",
              "\n",
              "  .colab-df-quickchart-complete:disabled,\n",
              "  .colab-df-quickchart-complete:disabled:hover {\n",
              "    background-color: var(--disabled-bg-color);\n",
              "    fill: var(--disabled-fill-color);\n",
              "    box-shadow: none;\n",
              "  }\n",
              "\n",
              "  .colab-df-spinner {\n",
              "    border: 2px solid var(--fill-color);\n",
              "    border-color: transparent;\n",
              "    border-bottom-color: var(--fill-color);\n",
              "    animation:\n",
              "      spin 1s steps(1) infinite;\n",
              "  }\n",
              "\n",
              "  @keyframes spin {\n",
              "    0% {\n",
              "      border-color: transparent;\n",
              "      border-bottom-color: var(--fill-color);\n",
              "      border-left-color: var(--fill-color);\n",
              "    }\n",
              "    20% {\n",
              "      border-color: transparent;\n",
              "      border-left-color: var(--fill-color);\n",
              "      border-top-color: var(--fill-color);\n",
              "    }\n",
              "    30% {\n",
              "      border-color: transparent;\n",
              "      border-left-color: var(--fill-color);\n",
              "      border-top-color: var(--fill-color);\n",
              "      border-right-color: var(--fill-color);\n",
              "    }\n",
              "    40% {\n",
              "      border-color: transparent;\n",
              "      border-right-color: var(--fill-color);\n",
              "      border-top-color: var(--fill-color);\n",
              "    }\n",
              "    60% {\n",
              "      border-color: transparent;\n",
              "      border-right-color: var(--fill-color);\n",
              "    }\n",
              "    80% {\n",
              "      border-color: transparent;\n",
              "      border-right-color: var(--fill-color);\n",
              "      border-bottom-color: var(--fill-color);\n",
              "    }\n",
              "    90% {\n",
              "      border-color: transparent;\n",
              "      border-bottom-color: var(--fill-color);\n",
              "    }\n",
              "  }\n",
              "</style>\n",
              "\n",
              "  <script>\n",
              "    async function quickchart(key) {\n",
              "      const quickchartButtonEl =\n",
              "        document.querySelector('#' + key + ' button');\n",
              "      quickchartButtonEl.disabled = true;  // To prevent multiple clicks.\n",
              "      quickchartButtonEl.classList.add('colab-df-spinner');\n",
              "      try {\n",
              "        const charts = await google.colab.kernel.invokeFunction(\n",
              "            'suggestCharts', [key], {});\n",
              "      } catch (error) {\n",
              "        console.error('Error during call to suggestCharts:', error);\n",
              "      }\n",
              "      quickchartButtonEl.classList.remove('colab-df-spinner');\n",
              "      quickchartButtonEl.classList.add('colab-df-quickchart-complete');\n",
              "    }\n",
              "    (() => {\n",
              "      let quickchartButtonEl =\n",
              "        document.querySelector('#df-87fc3f76-1023-4a27-85e3-d6b878ba084e button');\n",
              "      quickchartButtonEl.style.display =\n",
              "        google.colab.kernel.accessAllowed ? 'block' : 'none';\n",
              "    })();\n",
              "  </script>\n",
              "</div>\n",
              "\n",
              "    </div>\n",
              "  </div>\n"
            ],
            "application/vnd.google.colaboratory.intrinsic+json": {
              "type": "dataframe",
              "variable_name": "item_sim_df"
            }
          },
          "metadata": {},
          "execution_count": 10
        }
      ]
    },
    {
      "cell_type": "code",
      "source": [
        "array = item_sim_df.apply(pd.Series.value_counts).loc[0]\n",
        "print(f'Number of item similarity points equal to 0: {int(array.sum())}')"
      ],
      "metadata": {
        "colab": {
          "base_uri": "https://localhost:8080/"
        },
        "id": "pui9TQR-a7Lt",
        "outputId": "b03458e4-c64b-4ffa-ea52-bb76b0a396c3"
      },
      "execution_count": 11,
      "outputs": [
        {
          "output_type": "stream",
          "name": "stdout",
          "text": [
            "Number of item similarity points equal to 0: 3262\n"
          ]
        }
      ]
    },
    {
      "cell_type": "code",
      "source": [
        "plt.figure(figsize=(5, 5))\n",
        "plt.pie([126*126-array.sum(),array.sum()], labels=['Have similarity','No similarity'], colors=colors, autopct='%1.3f%%')\n",
        "plt.title('Proportion of number item similarity points equal to 0')\n",
        "plt.show()"
      ],
      "metadata": {
        "colab": {
          "base_uri": "https://localhost:8080/",
          "height": 444
        },
        "id": "OAqTF4QabDe0",
        "outputId": "d8674513-c7b0-4c9a-d62a-00b36fd1077a"
      },
      "execution_count": 12,
      "outputs": [
        {
          "output_type": "display_data",
          "data": {
            "text/plain": [
              "<Figure size 500x500 with 1 Axes>"
            ],
            "image/png": "[encoded data removed]"
          },
          "metadata": {}
        }
      ]
    },
    {
      "cell_type": "markdown",
      "source": [
        "## Create model"
      ],
      "metadata": {
        "id": "e0pYXsaqwrjZ"
      }
    },
    {
      "cell_type": "code",
      "source": [
        "def get_similar_course(course_name):\n",
        "  similar_course = item_sim_df[course_name]\n",
        "  similar_course = similar_course.sort_values(ascending=False)\n",
        "  return similar_course"
      ],
      "metadata": {
        "id": "nkYPzqu-hYnR"
      },
      "execution_count": 13,
      "outputs": []
    },
    {
      "cell_type": "markdown",
      "source": [
        "![image.png](data:image/png;base64,iVBORw0KGgoAAAANSUhEUgAAAqAAAAFKCAYAAADCC+28AAAAAXNSR0IArs4c6QAAAARnQU1BAACxjwv8YQUAAAAJcEhZcwAADsMAAA7DAcdvqGQAAPP9SURBVHhe7N0HgCPXfR/+L3rvZbHY3nevF/KOvYpiU6EKJUu2JMsqdmy5xHL+bolL7CixEztOnLhFkSVFhZIoiRQ7eYW83m/vtvdegEXvHf/fG+xVXiWPIEX+PhJ4d7vAYObNAPN9b957IysTMMYYY4wxViXy1T8ZY4wxxhirCg6gjDHGGGOsqjiAMsYYY4yxquIAyhhjjDHGqooDKGOMMcYYqyoOoIwxxhhjrKo4gDLGGGOMsariAMoYY4wxxqqKAyhjjDHGGKsqDqCMMcYYY6yqOIAyxhhjjLGq4gDKGGOMMcaqigMoY4wxxhirKg6gjDHGGGOsqjiAMsYYY4yxquIAyhhjjDHGqooDKGOMMcYYqyoOoIwxxhhjrKo4gDLGGGOMsariAMoYY4wxxqqKAyhjjDHGGKsqDqCMMcYYY6yqOIAyxhhjjLGq4gDKGGOMMcaqigMoY4wxxhirKg6gjDHGGGOsqjiAMsYYY4yxquIAyhhjjDHGqooDKGOMMcYYqyoOoIwxxhhjrKo4gDLGGGOMsariAMoYY4wxxqqKAyhjjDHGGKsqDqCMMcYYY6yqOIAyxhhjjLGq4gDKGGOMMcaqigMoY4wxxhirKg6gjDHGGGOsqjiAMsYYY4yxquIAyhhjjDHGqooDKGOMMcYYqyoOoIwxxhhjrKo4gDLGGGOMsariAMoYY4wxxqqKAyhjjDHGGKsqDqCMMcYYY6yqOIAyxhhjjLGq4gDKGGOMMcaqigMoY4wxxhirKg6gjDHGGGOsqjiAMsYYY4yxquIAyhhjjDHGqooDKGOMMcYYqyoOoIwxxhhjrKo4gDLGGGOMsariAMoYY4wxxqqKAyhjjDHGGKsqDqCMMcYYY6yqOIAyxhhjjLGq4gDKGGOMMcaqigMoY4wxxhirKg6gjDHGGGOsqjiAMsYYY4yxquIAyhhjjDHGqooDKGOMMcYYqyoOoIwxxhhjrKo4gDLGGGOMsariAMoYY4wxxqqKAyhjjDHGGKsqDqCMMcYYY6yqOIAyxhhjjLGq4gDKGGOMMcaqigMoY4wxxhirKg6gjDHGGGOsqjiAMsYYY4yxquIAyhhjjDHGqooDKGOMMcYYqyoOoIwxxhhjrKo4gDLGGGOMsariAMoYY4wxxqqKAyhjjDHGGKsqDqCMMcYYY6yqOIAyxhhjjLGq4gDKGGOMMcaqigMoY4wxxhirKg6gjDHGGGOsqjiAMsYYY4yxquIAyhhjjDHGqooDKGOMMcYYqyoOoIwxxhhjrKo4gDLGGGOMsariAMoYY4wxxqqKAyhjjDHGGKsqDqCMMcYYY6yqOIAyxhhjjLGqkpXJ6t8ZY+wtUka5WEKxVKK/Uc1XoYRcLoOs8kvGGGPvMRxAGWNvvVIOyVgcgUAQ8XQOjoZW2Ew6aBUcQRlj7L2IL8Gzd7EyRP3qxj1WF8uuW7mURywwh969u/Cdb/wQ/fMRJPKrv7wG11X2vK9+DlU+Y28XPl4Yqz5uAWXvSuVSEblsGqlUGvliGXK5AgqlAnLZ1VvcpI9EuYRisYhiafXEKKPXq7Qwm/RQKeXv/kvHtM3FYgEFKoMSlYEgk8khVyigpIe4fH5Gicq6UCjQn+I5qz8k4vkqlUr6WbmUg3/yNHY/vxNP7gri1772O7ipsxZW5RVKktahUMijkC+gLFdCrVZBcd77Xkq5TOucSSNbVEClVkOtUl6wTj8faLvzeancpZKnDVAqVe/SLgtllGgf57J55Mty6PU62k7a5NXfVkO5VEAmlZGOMaU4ZujzzRh763EAZe8+dEjnMgnMjfXhZO8pzIfz0Jts8HhcMOm1Vzy5lcsUOnM5ZLMZxCJBhGNJpDN5FBUGWDxdeN/7tqPeboBGsfqCG6xMwbckkhytpYzOxNcSmN8KxXwWsaAfvkAQ0URGCplylQ4Wuxu1UjlqaN3EybuIZDwCn28Z4VRRCogqcVmdArtKY0RzYx2FQDqh03b5x49i945d+MmAE3/yhx9FR60VSmlTZRRsXx/qS/kUgkvz8K3EobB40FDnhlGnWv3tKlFRkJKvKCta72wc4ck+jIRUqGloQl2tC3r1G9tZ0r4ollAW6/cW7guxv8si5EvvI/7Iwje9gHA0iSz9Xq7SwNPQDKtBDZV4wlugTOsgHXdUjjIqyGodd+ViHuGlGcwvBBApW7FpUycMGjnO9cygEE5lc2bdxH64EasmjltR5OL0J8snMd4/gFjZALu3EY1eK5Vzdbb/nUWUNR0HIhJIn6cbU9aMXY7iz8jq3xl7d6AvzTwF0KXxE3jlmafw9Av7ML4QhkxnoQCjgaxUQD6fv+Qjm8kgnUpQqIoh4F/G/PQ4+k4ewf4DRzAwG0fT+k2odZhgEKHqRhPBORHC+NAo5v1xlLQmmHTKqrYGnVEqUAAN+bEwP4+RoT4cP3IAJwcnEUqXYXc6YTMbKWyKJ5aQioWpnEYwNHACx08NYSEQRipfhlypRW2NA0oRGlCAb+IUhkf6kGjchnu63cgFlzEzNYtwMged2SKd9CsnPDoBlvKILIzj9IkTGF2MQ2V0wO20QHt+mKTwUkouY3hoDOFMESq9AapiDonlSZw61Qd/Wg6N0QqXRbf6gmtXouWkwssY7TuJxWASMpUWOo1aaoW8ceiET9uwMj+Dsck5BJJFaOj41KiLWJmaxPBxKs/jvRiYX4G9sQ12gw5qqdBvrDLt61RgCoO0fwOJPBQ6PYX26rQc56ILON3bi77RJcgMdjQ2eKBRigBc+X2pQPuTjpORwXGEUiUotbo3XKE4Q7R4BhenMT45i5mYEvRxxtLkKEbGpxHKlGB2eWCiGuZ7K3xRyM+lEVqcwiR9JiNpQK3VQqOiclh9BmM3GgdQ9i4kWtQUUmtZMR3F0vwi0jDC2bEZt9x2C7as70Z7WytaW1rQctGjta0N7e0d6Oxei/UbN2PTmnbU2nS0nDCSiQi07h60eB2wmyjI3uBvZtEq4xs7iqeefBYnJqPQ1Dajtcb49nTUptCo0uigo0AUXhrFyUO7cHqETkw5OTwNLaj3OKGlEC6jQlBSKFIhh+z8URzoX4LcXIeetWvQ3tQAq1FbCW3FOKb6j2Gobwz27u3wajOYGTiKffuOYHIli9rOLpg1cgqrMqkccjEf+o4dwomJEPTN67F+TSvcFq30fhVlFGifBPtewhM/3onFnA6O+kZ6jhEGVz2UMQpUEz6Ec0rU1nlgUF9fKeaTIcwNHMQT3/42Dk2EYbDXoq7GLp2QbxSxnYVMAMd2vYinn30Voys5uOvr4bSYqWyBwFgvjh84iBO+LHpu2oZ6uxE65Y1uei9RpSeIqX1P4YkfvYyhYBHGmjo0OOm4Wy3rYiaG5QV6znwGFqceCvr5mz70yyVacAqTJ/fg6PgK4GzDw/dsgYU+s+JwEcsXrZO5ZBgTJ17Dj3+6C3NpLey1XnisV76KcTXFTBgn9ryAZ148iN6wG9tvaoHb7UByZRLTcwsIwIYmjxUq0Sr/pjf054OoCKUjizjx2vN4YdcR+AtG6YqR1ag7Wxlg7EZ7W85tjL3V5AoV9M5mbL39Tjx4zwa4NAmMnjiIo6dHEEwWoFRpKFyJgHWJh94Ag9EIi80OT0sPtt/7CB7/xMdw7+ZmpOdHEQiGkC7c+J4r4oSbSsRQUCqh0GmhXj37Xd87ieuK4nJqsdKHVXqIf1/fUuQyBTRaLYxGJVQUhkyUiGp0RUT8i+ibXMBKPFNZL1pHpUYPi91JoUWL5rYurF+3AevbG1FjM0iX5MVWFFM++Jf9mF7Ko5QNYSUckrZRbzagRE/I0XqKK39i/Qv5NJanRzAy7UfZ2ojO1jqpFfPCy8Il6Xkr80soFCm4KtRQlEULqgIKtQ513RsoRiQwN9iPQ8M+5CjvXHsJlFHM55COJ5AsyBBNZ5HKpK+7DK+O9ks+iWw2gUwygkwsgBS9V1H0hbQ5KTib4LCXpJZ50Rf5LSG6MOSzCPljSKcTSKRTSCSz0rF4RjY0jSOvHsZ3fziEaJHKZvXnb0apmEVyaRBHjvQjnVejvaMNZr36bPisqOyHVDKBMh2Laq0aosvwmy2JUoHKO5OjdVDBRpUo8T+twYKmxgaoCymc3H8Aw0txpPI3Ykt/PojuJvlsCrFUAXmZGlrRDUKkg7fosGNM4BZQ9u5EYUWEUJ3RIl3Si1JwmpmehT+Wh81VA7fDCq1aeVGoqRCtbGcecqWKTk4m2Bx22CwaJMI+2Lz1sDsc0N/oy/DiPeVKmF31aO9sR1tDDczXcAlenDxEiEinUkgmKETEoohG44jF44iLRyJFJ1wK3TrN2UB4VWJdyjnk4vOYmligEKSGx67BQiCJcMmE1rZm1DvNleXRAkVr5OKplxAydKK9eyPaau1QK89dvkvN9+LIoWPYPxqFua4eTV4vvPTw1DWiqbkJDbVOGNRU3hRvMnE/+o/sx8h8HHVrb6YwWwebQX3Reot/yShs6mGrp/fs6IDXZYVOaukUoViNzPIoJifnMBdTY826VuiU5/ctvDLxNLHv1RRMWjp60NPZhhq7WWrtvaFktDyZEianF62dPehoqZdajZW0oonFQYyPDWM8acLNd9yJZqfpxreASsUog0qphs5Zi9YuWofWBjhNOun4F7WC6GIfDh8cR9+sAfd/oB0GKoM3tRblIrLJICYOPoPdp2KwNa/HTVvXwKZXSatzRmXVaN20BjjrW9BFIbXebaN9/CYvC9MylVoTahtasKanlZZpkLp/qGRUwVqYwvjACBLmRjR7rFLFSxTDe4FMroBab0VtUxs6O1rhcdJ35M/lID7284IDKHsXo0Cj0kKr1VFCSmJxnk4uk/PIqmxwejxwWg0UTq9+MpO+mLV6mK0UcORlmCksmE1m6K5wOVZ05i8WiijSCfxMmL0a8RyNwQxXjQe1bgcsFLpEi9CVSJdxsymEfRQUx0YxODiEoZFhjI2NU/iaosckJqcW4ItkYWrwwkDrfK0hrJSjMLtIy5qNAc5utNcb4J+awaIvBWt9GxrqPTBS4JMjj2RwDsdefBnwbkJLZzdcZu25cF8uYLnvVZzsm8R8zo72OhVWFpMUuurR0tqMxhobDNpKOC7nE4jRe+4/eAL+ghVbb7kZTTV0InzdyOTVCoaVKhN1dXA5LBf0WxT7TFUIYHpiAiMzEbRs3AQXlad6deMrA4xEX+ACCmI/icEXVJaVcef0HLlcCimumlqpZcztFMFHKZV3TrRInp0hQXo27es88vQQrc3SEsQ+pz8rMwTkpfeQGjHFz6Xf0T/oxaWyHBo66ddQpaa+rhYOq1EahS1DCZHZPgwPUQBNXBxAKwNzpPekdTkzUwEdabTdlfetPIfeW+rbXJCOxVJRvF9JmrFArGflifQfCsFqsx2u2jpaBy9cNhNUq33/SsVKV4ljx+bgz9bgrgeaoBXHtHipQO9RaaFdnTVi9ZgXTyjTv8V7Se8nzZIgfk7bVsohvjKHnT97CuPydnRvuQmbO2qgufjApHISlQCDxY4aTy1VGs0waN58IJIr1DBZHKil8va4TNL7in2ioD9LsQX4pwcwGtaiu7MJdote6hbybidmrFBIgwxdqK2l70a7qMy9d8I3e3twAGXvcjKoNRroKXwoC3EsjI1haj4ImcFK4cINu0l3TScYcWlXqdLDYnXAbLZAp1FJg2suJxn2YWZmCtOhLPR6vRReroUITkqlUmppu/qXv7hsFsPM8GkMDI1jJSFGqmuhNxphMpulkGwymejvFlhtdBL3umG45lbAMvLJAJZHj2IimIeu7Ra0u7WIL05idnYJcaUH9Q0N8Ni0UBaTCM5P47nnxuFeuw2dnS0wr/blk9DvB/a9iv65AvRdt+DBdVr0vnIcJZMdFmMemmIEeY0IIKKeEMTC4AEcPj1BobcT27eupzCrl8Lp61AByRRUVqLLwkWjo0UMUypz8I/T+g7Ow9CxGW01FODUCqlykE2EsTAxgBMnjqOfym5m0Q+ffxGJbIZeXELMN4ehgRHMLy1TeE9QOFFDrywivDyJffuOY3puGqNLUUSzRZhUWUz196L3+GlMzC0jUZRDS/tAVUxhaWoY/f19GBidwko0C4WGjgU6dhQUyrMxP06e7EXfyBiWlxYQi0ShNlEY12tpH10+gIr+eomoHyN9J3H6eC+GxyewFEqgKNfCYBDdHmjvFTIU8kYxcPoojhwfwMToAubm44iGFjA4dArD0z6qNtBnopzD8swIeoensLA4h1g6D5naAJtB9LctSxWQ/bt3Ye/hEawk0xRMg5ibmkK0qIRKWUZyaQqnjvdjen4O09NTmJqYxFKsAJlKjcjyLG1fP8YmxjA5NIiFcAZljQFaeQ6hhWE8++wOaLruwtatG9HmuriLRYUIhmIKNSVt98X7+I0TlZczyzyzwEoIVRajCPqncXgijq61PfCIKyXvkWmZKiG88v1z5soGY28lDqDsXU9c1tZqKTxS2CzRiXtqYly6FK81OFDnccGoF2Hp6t+2YlokpVoLtVpNX9Sileo85UqLk2gFEu1DwcUxHD/Vi9OBMho8blh1Cvrdxa1UpFRAKhbE/NQYBZXTGB6bRbwgWlwpSF4ptNL75VJhLE0O4FjviHRZvKljDXp6OtHV2YG21lY0NzevPhohpjAy0/JE+Lym80q5iGRoEWNHT8CX1qJ+861oMsulgQrjM7NYDOXgbahDc70L6nwUi9NjeG5IiTU3b0ZXi5j66Fz5lFIB7HvtEGayRnTeeQ/uaNNi8sBJFCkgF/N5IF2GsaEFekURmdASRg8dRj8FAEf7VmxZ1wazoTLlU2VhRam8FqYnMDAwhFOjc8jLNLR/NVCfP2JX/EVeQnR2jMpoHHFXDza21YDqIUiHZzE+QIGxfwrpQhH5HIW10DIGBvvhT5Vgd7ogz4QxMzKAA6/twempFRhsTtS7LShQmYtW5ZGTe3FgcAbz4RgMiCEco/WKBjEzMYKR0VksLIeRiQcwF4giHo0gRMF9eHgMc9ECzA6bdGmXUjDmKMj2U5A8ceQw5uk1zqZueFxiGqDLBFAqo+DMAI7uehE7js5Q0FNQkaQRpLA3NTGHcFYFq8UANYXDfGIFi7MTONV7EkcP92JwbAkh+tnK9CH0nRpEMKeDzmIFUn7Mjp7A/n37qcJElQRHHRptaoSH+3Ho4C7s3HsYgysZqGvr0dNkpoqXAka7GzYzhdRUCFPDoxjsPYoT/SNYjFCFi17vcdtQoHIeOHkEx3sHsBxKQmOtkSp9RlkKvvF+vLJrHO233IPN69vhMpzXslkuIRldoc/EiLRPRucoLKt00FJF8o3NAlCWrhJEAnQ80zYN9A9hxhdDTqaGlSo3Z5Yo3l5WyiDo8+HUyQXU96xHvcdB++raKo9XRmE94sfM2KA0Q8PUfJiqj2XExUwQY0MYomNjMZCUKijaa5jv9gwxoj8bW8H0BO0D+jxMzPoRK+mkwUPSMko5xMIrmJumYyMhg4YqhqqzV32oXOjYDy7PY3J0BIODw5imSlVepoVO9LeVWuIZe+u8N6p27D2u0ufLWd+DW+++B1t7vMj7xnH88GEcH6bAly3QV/G1ESG0cgn1QmLOysTKOEYHezEwPgd/KCb1wYwkEohHfJgaOY1TQ+OY8seRoyBaUUDCN4GZoVMYGpmgMDKDQ6++gJd2HEHfRAC51WddSrmYRdi3gMH+MQSLZjR2rUdXaz1q7BYYdDpo6GR97lGZkF2cj671hCJa2VLRBGZ9KuTLTnjtRphtFNibW+F1GJENjGF2ZhIrkUqf00g4BHVHF2w1Doh+mOe/j5hLUylCDQXj9W21MJhq0L6hE067ATKFAzJdA4waWaX/ZyqJBX8asawVeoMLKrHeq8sRJ8xM1Echj8I6nWzF9Fjf+8EP8eKeU7Se8YsG6tA+Uhhhcumhd2UxG6AQU8xJ84SujJxE796DmA5r0LP5dtxz9x3YuqaBgnQc4UCIyl0Da00d2prdKCwvUBCaRSiWBJQ62GvbcNsd22BTBBGcPIERcdIO5uDp3Ihtd96GdpcSi/0H8bOfPIt9p2ZQMNShZ8MW3NRdC1lwFPt3v4q+yWXEc2WoTU6sW7ceLbV2JMJ+2m4/4mJwzJUOxlIWgZkRnNi5C70zObRuvQW333kLujwahMYO4cVnX8HgzApSRSWMjhZ0r92K9kYX7aM5LPjGEC3K0Oi1w60Xk68nkZPr4Glow00tZmnaqZkFCjCprDQ5fCYURDhVoJBegsxsg3PDrXjf+x/EA/fdi80dTaix0s/qW7FuYyccmhxCPj8SFH5qKGTW2ozwOM1ocWugUtB7tK3DurUdqKPjSFbIUeCPIprzSlcTTHoKROcdMIVUEHNUaRih8D00eAKvvPAj7Dg2jHkKsdf6OT2f6J/sXxjHKQqeEzMzGDt1ADtf3omdhwZAefvcMmkllAaTtE6udIz2SQKZ7HXcrutKSimqpI1j8JSYCeIwXvjeD/HC87tx+NgpnD55FPteeRbPPPsS+sYWpVboayGFT1EhoorS6Ogo+o4fxa7nX8RTzx/AUjxHn1sgT7+fGjxO7/UC9vQuIJSk40t6cZk+C0mEl6YxNjqO8dExDB4/gh30vFcP9Eplfe57irG3BgdQ9t4gRnUbrWhadxPuvH0LWh1lLI334rUDhzG2HEEqX+m790aVChkKoBPoP74Hu1/bh9PDM3TST0EWC2Gq7zhe2/UqDpyksBJIUBASpwAx714Uo6dPYmBoCmVbE26+9TY45H46SQ1jcMKPTGXRl1TIJrCy4sd4RAlrfTu62+thkQaviI90mc4v5z8qr7keYv7FOIXnRThQtDXCaa4MxqrxNqGroQa6YgKTU3OYWwoiFEogGMyiuUP0lTS9bhJvmdqENVtvxZ233ITuGgu05jpsuv9erNuwBl1rWik814MyCGRicEo2DR+d9OMaPTQmU2V7pMXRRtAJ1z83iYm5ABIKE1x2HXyTfRRGJ+ALXBxARZ5QS+usNKmxHIkhWxStnSkEp6cwOzIlzYaQLyugNdnhaWrH+p4OtFM4M4nR+QYznC4nLGI5WTppl2ifib7AejM8VN5OuxLKZAyyoh621s1orXehxuNBnccCvZL2TTSIjNqFjkYvmuq9qBf9SI0qJBcpCC6HkcoWpTtrWe1u2CnIicvBovVcmgT8SigkqXQWCsLNtFzR99UJlwjLbY2os8kwN3RSCqCRNC1fY4TV6aXtcEOrUUFD29XQ3IF12x7CXfc/ilu3rEGz2wIbvX9TnUeaYiov+mvSpiq1BrjWb8Htd9+JHqo0mAxUkaFyEtvodrtgM9H+UamhMVhR19KMbtqPTr0S+YwYxV+m38kpeJalke11zZ3YtGE92uvdUtcM0Xc1lqCAp7dCa9RBqz7veCmXEJ8/RZWxJeRUdqmFPTU7iNNj8/BF05XwdD3KeUSW5jA+NILJsAzerq1Y32pEhip+vadH4aOsd7bIRQoWfcZpnUy6OJLpOLI5SqhXUKKKWiaTlmYvKEif60srxuexOE+f6ZIePV1uhE4fxaGDfViIFqUuM6pMCLNT41j0h5GmCvG1KOUziAcWqMK7DLnZAxcF/pR/BkcPnsBKMo88fR5EpWJ84Bj2HT6GyViOPgOVj5O4NW4qOI/Z4VPwx8uw17dRRchGZT1AFbsTmKfvqWtcDcbeMA6g7D1DDFox2L246a77cdf29bAXljF08BW8dHAUi+E0CldseroyhdoAg6sdHocFscljOPTaq+g/PYi500fw0vOvom8+B6ujBi1uEzSiTxm9VS68gBOTBcwXG9CzvhN1tWaATkTxXILCZ/GKH85cKol4LIqiwQ6H0w6jvIBsWtx6NHXJR1qa3kd0Abg2hVwa0UQEaYcVegpRFpXoU6mF3e3FunUtqLXJMTM1gdHJaSwEU1hOaNDZZIfTooGYJ/J8co0J7Z2d6OlohE0rbndogLedwmdXF9paPHDadJVR1aXK7VMTxRwKBjVUJq00MKSSP2ndC1ksruRR0FjhbXBAJ0ugmElCrldBIY1WvvB9IQbXUJBSq82IR5NIUkAoUohU6OV0cg5gqP8QXtl7ECfEBOxJBVo33YPbbr0D9Q4zBahK31I1henz94NoARfBUa2mP8sWWI0NaG+rh0mjpHVVQqenoEZBTE0BzdHUDIfVIPX5VOv10Gs0kOeySIuQthpWRF9E8Tpxh58Lmo0vR6aDt/tmPPzLX8avPH4HbKoSUnGq1FAJqmgdCokAlsIJpHJFKg85LV/01dRAqaLjU+9GjbuByv4mbL71Pty8qYdCq16arUCjpv1G63KGTAzwcrjg8dbAZtZXKhViebSelbsR0X6RHvRaswN1nV1ortEhHVnCvI/CN+3DcMCHFd8KbF43vKL/sej7SsspUuUmmYkiRxUIjU4JjVi09K7i+MxjeewosjL6vFBlxVCIIuKjkEZlrrugNfzalCmkLc2FsOyTobFzLTrammFUpJGNR5BJ5cVYs/PKXWyPGkoK6hpLFvFsEhnRReSyKl0FZiZGMTIxg5XY5b9Dcv5J2u8lKI01cGvKiOezUHgb0dzZTsHPCb3OAJPTAZu4y9o19hcv5jL0dRFASU37VVQy1BTexWAzaxNVGOj4pW2LBfxYmp5HNF6As5Y+M+JmCrTepUISwcUpzE/OwlbjRV0DHcNUC8ykIkim6HMlKlyMvcWu9/PM2M8xcVlWA7OnG1tvvwfbt3RCmVzBkZf2YFJctsy98VZQGZ3kDc4mrL/lXrzvri1osgKB+RnMTC6g5GjHtnvvxx1be9DgMJwd9FRWWbH2pptx622bUWemj2JqBsvzKeisVrjElELSsy4tn80hsRJAZHoIJ/a+gqd+8iR+/OMn8eSTl3j85Fm8uPsY5umEKy7LXZ24lSmFhHCWwqFoHXNWQgIFEK3ZjobONehusEHhG8PIQB/6fGEEVRq0ONWwakQ4WV3MKjGwSqtdvZOQ+B09QakW862uDshZ/RYSrbWlsmgFpJMfBU/5BX3QaN/J1Wjo6MSmtR1wKouYn1pEulSLjvZW1Lotl+w3J5eJrgcKlHJ5CuCiZc+CunXbsemWbbDn5/Dqz76Hf/yff4e/+/uv46ev9GJ6JUcnX3qv1ddfGYU3lQkm45k+dfRf8X9aD4WKApyBgvWZFlwprFX++kZbpSW0LWrRmqnMYnrwAJ597kXs2H0Ax/vHMbMcoWBNIV60pF6iNVipNFN56yn0GWAUl74NIny+fn9dL5lCB7OjES0ttdCmgpgYm8XUchBTM1GMLJlgtHpgEf1FV99HmiGiVKDjn0K8CLOVHxNR7grY2+/C2rXr4CzRsnp7EdDWYU17HVV69Oc99xpRednqm9GzdSM2tblgUaexNLpIAbgMu8cGj1q863noGBfHq0xZksrx8kFM/DyFyVP78NNv/CO++a3v4qXeGYRSZ+azvZBM70X7mm501OsQWRiFT21Dcw9VwCgQt6/fhod+4fP40uc+hVvWNsFKFaprIaYgs3rbcPPN61GjidD3zQJSchtufeg2eAwqUJ0RwcASFpdjVAlsQ0+rAwYK/IKMPhd6+r5q2nQnhfJ6mPUyRJNhhMtG6OwtVOnQ0bFx3aXN2HXhAMree5Q61DR1Yc26m9Hd3IO1G9bA5TBV7mH+RtFZR7QaBhanMTIyjoVgksKOHkajGknfDMaHxzHvCyEjJrcWJyg6G6uNLqztacLaVieU2QQSkycwFVHD6a5FgwhUlSVfmghTSrXUItnc2o6Ojo7LP9pb0FTvhlGpODeY50poWzKZEiJJuTQtUINLd/YkLVcZYHK3Y9P6HtRb8hgfPIIjp04jU5DDqVZCu5q3bgRRTGfP5SK9KFRw17rhcSiQC89RpSEI+Zo70dnRghrzeQOVLiYlAqnQpduDWrw9uOn+j+Izn/0sPv7w3Vhbb0VyYRx7X3oer7x6CGOLq/vpqkR4u/QG36gyuFg5G8JU7148+a3v4Lmj09C5atFMAbylsU6ap1TMpHnmS/3CICQCsGhprQThN4yWKfoe5vI55KUBd4IY9W+Ht6UVdlMJ46ND2HOgF+MrMaRrOuHyiOm6zhsgdsYF67eKAqO9aSPcZiMCszM42O+Hua4NnXUuCmaaS7/mSqjC6fTWorW9ETZ6uTy2gEEKxgm5Ed5aJ8y0Uq8vDrGRZ97qcoUlfi5Ku4RsLoNEtgjlFVqyVY4W1DXVwapMYpa+H3I2F5rrHHBaqALjrEXb2k3YuLYbNTaTVCm4Fgq1FgaHF/VeC1KLJzG7vACVuw4PbK1MtyYrJ6QAupItQdPRQxVEDSr5k44B+g601DShdc16OK0ayIphhAJBpDROWKT9qMWNnuaYsYvxIcbeY+i0UswhGY+irNCjc/MtePCB7WiprUy3crnTzdVIg5B8Yxgd6sdMBDB52tDa3Y3WtevQVW9GdmUcAyMTmFiOI7t6+VVcyhV96+j/yCZCmDt5FCEZhWOPEzVWvfScy1GqVZX7p+sd8DR1YsPmrdiyZSu2br3EY8sGrOtuhpVCwLVc3CuXKWAUk0jLyrAaVXAZzovCciU0FJzb121EW0sN0ivzWJqchUJhoJOb6mxozmfTCPsXpLlJl4NxpEXrcqkyyMjnD0qjzy+OeCLMiVCtlasgpxN6MVO4MERRclLSWTFP4XNhYgiLKQU23nkLBWEgHo7AH82+Lp8UChkUimmoxT3W6dtOzG0anJpBOFhA40334dHHPorHP/ZhPHrfzajXxGlbBjG/HKQA+k7sAFdCbH4YJ/e/hp2Hh1G2t2PDJgou6yqTx3udFEDpABZ3D4qGAvAFQoilzw2we6PH9gVKeWQCkxgemsDkXEhqVRaUGgPstU3SwKPE3BAO7D6A6UAGjtYm1LjEff4rzxPkSjqG1AYoE3nkc0WIkj6332gfa3RS38WJiUlMxRVo6loDu6aAiG8FgWBCes9SPkv7nLbR50c4lpT6O16KaM3UaDXQU3iVl/NILI5jMpxCyehAjdP1+s8DHfslMbdqSgmdQr3ap/pSRGmq4WlZjzsf/hAefvB+bGmlSt5FA/DOUGhMtM1ALBRC/1gMRkcNvDYjjGJeUwqtosVcGnB3PbUD0SVCdBORpTA/OIlgKAMnVdA67RqpvEvxefgW/YiXDWikiq4hH8YKHRPxVI5eSq8TFWQT7Qdxw4nIPIIrUWjMLjQ21UqzNLyZ+jhj14IDKHsPKUutN3HfBAXFAfiyQMvmDdjYaodFe42tg5chRo2X8mmoDG6su/UB3H3v7Whta4SldS3u/cCDuHd7B2x6BVK5wtmTtghUUj86OgEk6WR68tg4ynoDPG6zdOefK9EYTTDZLZCnfXQSXkY0J1pE1BeNfj/3UIupXa5x+8rFDPKZFZTkJalvo+mCs7S4fK6Fu7mHAmgrbBTalZSnjXY7hcPVS4cU+OJBHyYHhzB+4gUc7R3DciiBbCaO5bkpHDg4iJUUBcPKs8+SKRTQavS0TDV0iRzysbTUV/L8aCErZbEyMYaJwSnkdW48uLmZgswiJmcpCMcy5ycZKUyI98xR6LRajRQo6KScCmP26EEceXEPRpaz0Nu86N58M+576D7cvs4LG5LIZbIQk7a/85SkO/VMUzDzlajytGYtPFYxAT+VeyGHbDqJLK12NpOGb24a49ML8MXoIL+gUK6TTCEFJHm5iLI4dgtZJBf70Xda3KAgIl2IFuS0z8xWN5pEq2J2CVPDI4hkFFLFzm668C5WKpUGZr0FWgqCGQpD2YuucoubBCzPz2J6zk+fBy+61raiGJ7A+NiENDimRPs1Fvah7/hBvPrqHhzvn0CI9v2FLb7nVPqqioF7GSyOjSOUzMJgd0qDqS4kvh+yyNOxmY3qYNYaoT1zTF+SDI76Ttx270N4+L5b0VFrBn1cLo1WoJSOYskXwJAfcDkaYDcaK/3B3xTa6GIcgbkUCgk1HBYzRH1RRtW76PQpzM36UVQ50NNgRYrC98T0MkLxtPRKUS6iwbaYjiE6P4lANAG7240Or5iE/orXXxi7ITiAsvcM6S42qRBGj+1B/6QfJWc7erpbYJHmAV190huk0Jphb74Zd7zvg3jo7pvRRl/iUJSRkKlgbejBnfTzD9x3C7a22CFuCXm+ci6F8Iof+4ey0OqtcJlNMF5lIIJSZ4bXW4MeexyhhREMTC4hlkgjJwYhXO5MfEVlaURvLpOk8OhHeG4CKTpRF/IlFLMX3otc3J3GaK9He2MrGt1OWCkIO2rsUIkgRMopOsktzWBiwgcsvoi9rx2TWsvikSWM9h3GM6/0IkAnwddd5BatVRotPBoVzBQas4loZbDO+ZtTSME346OAkoHN5Ua3VYaVhQWEk3EoLzr7l8tZZOMJFGMF1Fmt0CjklElzyKysYLZvCEOnRxGKJJArUajWm2C1OeFx2KU5FKUR+bk8ztzyv5CnoJTNUpjNSqOexeDosqxSZlkKrGL0eD6Tod9XRpHTwUaZkJ6bpt9n6bW5nDRKWgyzEXOfiuWIy9gZem0uX2npFX1D8+LntKyc9F70/tKyytLgrKxoERYThdPxqqLjQy6j45neM5VIYGVxHvNL84ip5EilklhZXsKizy9NH3Vm+eKuTOJ905kcvQeti3jPkljPHNL0fqLrreh/mxfbSs8Tu1yu0MNg1EMvp+MqFEA4HkMosEzlUoJSq5GCnSBa1PQmC9raauB1yVBWlWCm46LJqoFJNMueR6VSw2Qw0j4O0f5JUxmsFvIqsU7+YIQeChgMXWitVcI/eRK+RAQ5tQbyYo4C9iRefuFn+OEPf4SfvXwQU/Mhqfwui/ZnPpPCZP88HddFOF12qujRZ/R84vUUUjNU8YnmTfTeFEBXj+nLUYhb9eqojHRaqOj4utLXSDYeRDC0jEBZBUdtJ4xGA8QguzdNXDmgMtVSBVR8AjLpNNJU0RrrO47FpTA0FPbduiJ84xOIUFDPF89/zzIytF6LU8MIprJw1bnR4NReczcAxt4MnoievUeUkU3FMNV/CHtGk9A3bcItW3tQbzNe052QzhAncXFiFq8QLQhnicthChEMKnNulnIUsOiEbrJ50dXkhcNilFohpZPURW+Xj/swMXQcT+w+Bveah3Db9o1orrVescVSXK7W6IxSK2hmZQYzoxMIJsuQ0wlajLYW0/pc/D5XUioWEfNPY+jEXrz40k7sfO0gRucDiFKAKirpBGu2Qq8WrcS0UPFQqKEpBxEIBlFQu7HlppvQ4rFJ/WgTy2NIJIJI0XMGXt6FiOdurFvXDmNuHkODp9Ana8DD27rgMmovrAHTcksUMFPhUUyszAN2D9Z0tsIkLp+e2RZ5CdnAIkIrPgQzRSgLISQKZjQ3taFDDJY6e62XwmFmBSMHT6H/eBS1t78fWzpqoComsXCiHyOjU1jWypCKh7E8Oy11FZgMAc6OzVjfWYtCdB69vadwYpDKtSCjioGCti2HJIW7ibF+nD5xAnP+NEDBw2DWUnmXsXL8NIYG+jA0t4xYVkb7wYRylCoh8SXMTA3gdP8IZkNZKAwG6FQUCrMxjI+N4wS9z+zCIgXhyh2UDA4LIlMTGDx+AgNTFObTtCydBvmEDnaXA1aDCqmlRcxQ8M5nk/AtLmB0Ogl/XElBKAF/SPRHLMFppmM1E5T6JM/MiuWXaLfJEM2ppEFgZoMa+WSEjp1T6D15DCeG5xAviMvjKhgURQr4tVSeKpRjUUSXF7C8MEHhNY/lOT8cLd3o6m6H03imdVMmDQJTUFCdn5xHIm/E5lvvxLr2Bph1F7bmizlskwkfjp7YCU3rRjQ2NqHGeN5tHyncxv0LmJ/1wx9JU2VHhkipDh1r1qO72Q0dHWOZeAS++VmEEinaBwZ0djRLra+Xu4QtrlDEQ0t4eddLGFnWYc3W23Drth6YL5gCiiodoVkMD57ErqUCtt11Kzoa3TDcoNbA0PQwTh45hP6lJG76yKdwU7sTFq3yiqH1qsT2ykX3gjDC2QR8Mfr8JBOYmxjCSFSBZBLQiisB9EhQpaKlew0aal3nWjhLWYTmxnB053GMh+To3LoN27tbaZvf/C1PGbsaGdUar1BtZOzdoZAKYHniFHbuHRUpA1u2bUSr1y6Fqmv9nk3TSW904AhkznZ4a+vhvMJlctGSmEimkIUaNrO4lHf5k1h4qhd7nvou/vxfX8Ltv/rX+PwHbsGmJuvVL0+IVrZ8GiHfIpYohCwtLmGBHv5wtNLn8swnW2GE3duB933yEXRQWKLc9TqidTgdC8AvJl730eszKRRlSjq3m+Hy1KHWU0tBonKLvtVXIBdbxtTUHCI5LRra2lBjrdwGMp8MIkEn8oG+k/iff/093P6Vr+HhO3tQGn8Rr+7ajbmmX8RXPrgJtTbD6rLOKSRXsNC/C99/ah+i5nX41Kc/is46x3m3QywitbKAxdk5LCaKMJpNMJiccDntlbvanFk/KpvUwlE89cOfYUdvDB/+7T/APT0uGGRp+IfHsSgGGjnstF/klaAvK6Ms18HmdMFlVlfuMrXsh285SCdvOUwmA+w2M5WHEZl0EpGVRcTiJci1Zrjr3HBSaCwvriCcDCFAZ/0MhUmT2QWTxgaDsYhiPorgShDRVBFasw0OmwlWo4bCQgYhCvFi6psSlbfF7kBNYz3k8ThiK0sIxRNIFRWw2KwwGryorTFIt4tcmJmDP5GjbTdRBtZDodBQmMghnfRjJUHLMRvgtKqkcgiHEojFEijLVDBaLNBYXPC4nHBbtPSSFG3LAlUk6PMRiEl3lRIj5Gtoe+oaW6jcgSQF/rnZWSyFktCZxWdGCYeHKlVU5vrzj2sKM8mVcbz8re9TyFNg+6c/iy1rmmDRX9gyXcrFsTzei3/6r3+DlfaP4NEPPIj3r6+RprwSxCkp6p/HzPQ8lkMZOnYpBBrtqHHbqMy0UKCETCJKx8AoxifHMe3PY8PGm3Hzlh46/i79qSlmo5gfO4a/+9rXcAq34WOf/jg++9DGC7qXlPIU4gd3Y8ezT+Ol5RZ88Uu/iC3dDTCpr/pJvCZB2uaDh47ixJIMj3zqE+hxU2Xjhiy7jFRoAQtLywjE81QJps+4mF2CKqLZWAzZRBolDVUi6Rj21tXBYjScHXBZyoQxeOgl/L/vPIvpnAcf+cVP4wP3bKjcc196BmNvHQ6gbyNRK8/GA1iYngad81Hb1gFPjQ26K4QVdv0K6RgWxvpx6kQflotubNx+M9a0eWAUrQ/X8i1LJ3ERqubHerF7Xx+at92PdWvXSBOLXzdalrjLTDqRRFlMiaNRY6FvL575zv/B11+Zwue/9g/48O1r0CLCw7Wgj680uCcZgX+JwuP8AnzBMJKZgtRSK5FpYXLWYevd21GrV+H8Rp9zytL8jKL/Y7ZYXj2R07JpGeKSu7g0LlqKLyivsrikKy7Py6TL72cHbNCL4ovDOLLzRfzJN6bx7/7b7+KOHh3GX/kpdu0+CdcHfxPva3LC47VBQyH+glNwMY3o8jCe//HPMBjU4I4PPY5tPQ2w6c+FfbG9BdHnMVegNawMMlEqLuzDK/qxTh18Cj996TjGSi34rd/+FbTa1dJApGIuV5n0ndZXXA4XXRbECHHRel258xIFe9pHleVT8UlLFNfCxSVpJcSdnUTZiN9I5SMGkSgpyYjlit9IL6j8vlQS83yKv59XISBSwxW9TnQxEFMmiambpJ/TQ/TlpRWgn6/2f5VeSA+ZGmo6XmgVpcncs5mM1Mou7ocvbg+rpFAhBiBl8xSMlQppHkjRsl2glTqz36Q1oW0VrZwaeo4oS3HZvzKinfZv5WnSuml0FOjpBzJx/NNyz+3r1TtryakSkhbhVhzLotsIVWJ8tO+ePoyQ3IsHP3o/WsQ+Xg07Z5XyiK9MY/d3/h7Pzbqw7f6H8NgDW+AQnXRXlYoFqlzRNop5OOUqClTi9rfn7WMqk0x8GXPjfRiayaCxbT02rGterYCI47ZE65ZEriD6LGtQTq9g/PhL+C//5esobP8yPv34I3h0kxtnP2W0vFzcj9OvPYsXXtqPVPfH8LnHbpe60pw/gOrNyMSCWFkJI5xToa2tXvqeP/+YLeaSCC6PY3SSgmSk0k/zSpQGKywt3djYQBUd+lBLXTtoP+UL9Kmg/aul7RY3b8hL3T9ov1EgVSnFVQbR7aMkTR0nTy3j8Ms/xHeePYyc+2b84qc/ibs31d+AvqmMXR1fgn+blOkLNhlZxthQLw5TrXh4YhmxPJ1MDWYYDbqzNdR3KtFZP7y8hPmFFSQUBuky1aXmYXx70em2nEdwaRKD/cOYi6rQvnUr1naKy4KiD93q065AnMhSET+mB4/g4Gu7MBK2oGvtWulyn/q691EZ+XQU/tlh2ufHsJQoQa8uwzfdj72HTiBsWoePPfYA2j0WaK912ZQsxCARFYVZq9ODxpZ2dPeswZq167B23Tqskx496G5vgP2KI1vFgAQRwsR91bXSwKWzA5hU9DoqrNeFdVkleEmh7fzCpCemQsuYGh7H7jkHPvzhjXCUZtB/uBfDsxn03NSFqK8Ao8UAo+m8y+uCnEKIQoVSwg+fP4S02gWvxwnzeZfhRfcDBT1HTesqgpQ0l+RF65ZPBnDi4EFMhRSo33QP7tncKF26FespRg4rRdikYK2WtlFsr5gns9LFoLL8SqjTiLAlPcRALjqBU1mc+7cY9CX+TuFbBD7xd+nf5/9ePP/May58nFmWVM7izzM/p6B17n3oIfaBeKjFZPdi/WgbxPqJ9Rb7ip4jBXApCIvKAr2GXq+kv4v+lpV1rDzEc7W0HFFZEGUmjh0xeKxSlueeJ95flLdUrPTESnmIshLlJt5L3MkrjoXxARx49TBmwqDPQwmxhRkMR6jC07UFG9opGF3qErNUvnKY1UlMDk0AFF5rGpvhomPhzHOlkeHStlxmH9PnOu5fxOzotDT3pae5FQ6LmGuUKgX03ZqK+TF0+jgGxmaRokBWTFEAPbYH+4bT2Pq+h3D7pg7UGs81f5apMhXzTeNk7yiGAzrc9OBDWNtkh1Fz7VdIrkZJn1GL3Y4al1W6p/0F20PKhQxiwXnMzC3BH4i+7mYSFz+yVFWSW2qk2+SKMCv2UeXzS8eK2H/iWBfHktjvtN+UVBHKxVcwOtCP06NziBXpe6MYRe+RQxj2F+BdcxNuFXOKSlOa3aitZuzyOIC+LSiIZGKYHTuFA8f7MZVQwm43SH2rUiU1rA47LAZ15QSx+op3mlxsDsf37MKLu3uxaOlAp1t33mXSdwLRMlhAJrogXQoe86dQt34zNnQ10Ymv0jIkWsEu/ShILT6ZdFwaHDR88gBefu5pPLtvFJaNj2Db5i7U2SutQ9enjKR/Aqde+xn++ds/of0uh10Vw8rkME7P5LD2g1/Aw1sb4TKc1x/uetELpZM3nXjEnXwqD3Fyqu6+Efdcj1BwPzWfwYa1buSXRjA0OgF/rowWtwETKStqa21wW7UXlaMIWAroNJDuorOwkoHJ5ZYuWYtWmWsqFgoTwZl+7O+dg8zdhnsevAuNpgtbm9ibJAb1JH0YOvAKnvjmz6hipoLBpEQ0EIPC4sGmbetQRx+0i2/LWiGCkQpGV600oj4spooyeqRbQV5rf+xiOoL50WEMjkZh9LaivasRelXl+CjmEliZPY2f/OC7eHFfHwXQAopJP/qPnUDcsw0fevB2rG+mCuR571XMpTE7choDs1HI6jfisfs2wEGfw+uuY74JcqVGmtC/s3s9tmzZctXHprXd6KyxnN3uqykXc4jMnMRTP3kKP331NGJlFcyKBI6fnkTW2I7tt92Gm7q917w8xt4sDqBvh3IB6fgiRqn2DoMXD3zww7hlTT3c6gT8834UFDq4PJUvyHdqRTQ2cQivvroTLw6HUazbglvaLFIr6DtldaXwKS6p7fkZ9uw7hoSmDjUOKxR0cgqFQggGg5d+BPzw+xYxOzeDwd4DeJ5OYj988hnsPjkDGOtw70cex+Z2D6zaN9JNooR01I/5sWEcHZqDweFCZH4US+EcvFsewq89fgfcRs07sCX5+ik1Whj0WpiTpzEyvoiEvlHqf1arKWImbsYdd9+ENq8NukvcbUW6/GugwFmIIrAwA19aBZvNBrtJd9WyEfu9mArjxK7n4JO70bnxJtza7qIg8fNfpu8oVJxlWQmp6ApCwWUoXDXQK/Ioas1o6+zEZgp4mivdSUdGIUehh92swvxyBIuBJLwN4srERS3il0Sfo0gAK8EwZE1rKHy2wUth98wuFvdITwTncKr3FHxxBcq5HMLBFQSUdfjA449TyGqERXeuZVaamm1lFr0nTyOlMGP7PfdKFWqpy8nqc94VxHYGptHbP4zFcApG2l+Z5Wkk9U24+/0P4u6tXXDo3znf4ezdj/uAvi3EXXNSCIciKEAFq5PCJv0tHY8iEk1DbTTDaq/0PXqnfhlkwzMYGZnAVESOhvXb0FOjfVMTud9QdEhLI977DuL5Z36KA/1zKOtssJiN0Kiu8gVLX9KiT1wilUU+m0IiGkU8mUFG4YB33X34vd/7nHRyNV80tcy1of2eEqFqCif7RpGU6aDT6WATA0/qGtFc65Aum70rTgBlMb1PWpoQPVmQQ6WjspeXUMqmkS6pYXPaoROXlC+3seUihQwfJocGMLWcgK62AxvXtsFpvtINSovIxlYwe+hFHFxSwdu1AWspnIhbOLIbr1zKU9BbxPTYGJYSZaj0JjjcHtTV1kiVhWs5jgvpMKaGTmNgaAExWQ3e/8G74DSopP6rlyemssoinU6jIKfvHa347jn3bqJvfSYekOb6nVmKoaTQwmSxwOJ0o7mpAVaD5lxLq+hPnPBj70uvwV/QobZrLTb0tEjzAr/r6iz0mRKV8onhUUwtBlCgcrGZqVzctfB6a2mf6a9S7ozdWBxA3yai2MUgAxE35KuXR8XPysUiyvTNJ/ruXOv3nxhIIOZpFIMIRP+sahAd2cUJIFuQwUBfYmIw5zvnC5tOUBQiQ755TExOwhdOUpnKpXB3VWIfiIEZ0gSM51EZYXQ2YeumVtj0dAJ7o9tKJwFx8ozF4kjni1AoxT3RdTDo3h0tnzcUVQaS0RDC4RiKGrM00l1/2Zm+BQq92SQiM2Pwlaxwul3SrUSvZ5otdj3oO6xQkCbAT6SzKMtV0IspprTqa29xps9bJhbAij+EYEqBNmkKIPqsvpldtvoZzqQSSIobHpRFH2n6jBn00Fx8lUYMCswlKETPokDHmM3tpkrOufvWv9uI1t5sKlnpQyoGJom7IdH3j+hfzP0+WbVxAK068eVYQuUOL5XwKb5sRRgVo2HFN59cLjr5X3tLmJiCwxehMKg0o7vRvfrTq5PWg76oxREgbllXGWhy5l3FelZCrfjZmR+LQTmin6RYVbkIddL68xcXY4wxxq4dB9CqEi0GOWmOu6mZZeQUeri9dXCZVYgsz8EXjKOsscJTV4cap0UaCX8t0W6xbwf2DS0hbOjCrz66bfWnVybu4BIP+6VpeyIZwOL2osHjhkknRr9WpnNJRoNIlXUwiMmxxWjWcgG5dBTTE2PwxUswOWrR3FB31dtGMsYYY4ydjwNoFYk+U6moDyf3vITde4/Dl9Kjbf1WbOrxwDd0CL19E9Jgme33P4L779iEGrP6kpdlxT3H08koQvEi9GYrfCeexLMnZ7Fs3Iq/+uydUt/SrNIEEwVHMQn0hUsoS32k4iEfhk4dw6HDBzG6HIG96zY88sAD2NzmgVZeQiywgN79e7GkacPa9WvRWaNFPhXCzMQQ9u95BYcHFmFt2YqHP/AY7t/YuLrsS6DDq1jMIZ1KIZ3OnrsP+rWSKSBXGWGziLkeeXQmY4wx9m7Ao+CrhYJYKRvByvw4ToyE0dLuRHZxDqePDGG5qJX6q+lKcQQDK8iqbahvapLmxbtUAC0klrE4dhw7XjuO2WAWmcgiIvE8sgUVauDH3r1HMJ7QSndc8VjO3CqvQsyRl40uYrT/NIbnU7C7LNCmZjGxGIWhphkdDW6o8mEsDR/Ek0+8jAW40NTaAIcijMWJPuw8uUiheQ3Ui0NYmPchafDijg2tq0t/PTG/XjYVxeLMBEaGRzAzt4CFhWt/LPpCCCZ0cLoMVx9AxBhjjLGfC9wCWi3lErKhacwOHMG+aSO6PBEcemkPDkwCGz/8MTzQrsH0sT04MR1CzaZ78eiD96HNbbzkhPTFTAT+mX7seXUfTk/GUC5EkMqWkMhq4TFQQLU24eb73o9tGzpQb70wgIq7bURmT+J4/xiW5I2ok/sxuPtlnEo48MAnPo0P3L4WssgYTu78Mf7Xd0+j9ZFfwuMfugPe3DTG+0/hZLkb97UV8PI3/i+OLSmw4cOfw//36XtXl34JtN35XBqxcAjhaAJibM/1HHAyuRpKnQN1tWbptolXCqCZTAbhcFjqo8oYY+yNE9OhiRsSmM1m6YYAjN1oHECrhYJYLrIA//QQptMuaAL78fwrxzEu68Rjn/sM7q4DVqYnsBDLw1rfivaWBpi1lxmZKKaoiQcxN9qLA3sP4ETvaUwvRpFTONDQvQG333M37ti+Do1ucceNC19fKmQQ901ibiWMOPSIDe3Hzh3HkPFswcd+4SO4pdOJ8OhB7Pjx9/CDk1m8/zNfwIfu2wJzxg//wiLC1jYYpl7E//3mc1gxdOBDn/0VfPLOrtWlX4Zo/ZUGPF00svyaiAFQlTunXGmsk1j+5OQknnvuOSQSidWfMsYYeyPEHbG8Xi/uuOMONDQ0SIGUsRuJA2jViKmB0tLl6FQ6iaGXvo4n98+h3P4AvvC5T6DHqZXm/ZR2B33QrzyyvIRsMoKFsV7s2/0ajpw4hamFKPJKB+q7N+Pe99+HO7etRb3T/Lp53cTyS/mcdC/twNwIdv/sJ9h5egUdd38Yj3/oPjSbchg++Ap+8N0n0ZeuwWe+9Hnct20NzGoZCtkscrk4Xv7mf8MTO2ZQe/OD+PyXP40tdcbVpb99RACdmJjAM888g3g8vvpTxhhjb8SZAHr33XejsbGRAyi74TiAVpWY2iiP2NIwnvmX/4HdU3m03vtxfOETj8Clv8Kk3BcppANYmjiFnTv3YmA+CzXiyOTKSGQ08OjziGu92HLfQ7h1Sw9aHFq8/muD1iOfxtjJ/fjxD57GYMCE9z3+OD74wGYY0vPY98oz+NaTryLruglf/swj6GmuhU6rg15dRHyxH3/3V/8NJ0ONuOvRD+CTH9gKZMrw1FoueatE0Qc0l4kj4PPBvxJGrije/drJFFqoDV50tFXmgLzSV2CWAnIkEpHCKGOMsTdOTL8nLsGbTCYpjDJ2o3EArSoKfoUUlob241/+57cxnrXj7o98Ep/6wG3QK2W4xHijS8pFZjAzfBQ7jq/A2roBzlQ/hubC8Msb8dnbHDh4bAQpz83YsmkNbmq24PVT05ele3X3Hd6B7z/5MuZL3fj4pz6Mh25rRnquD6/87If48WtDcG79KH7hNhfkShM0tia0OUtYPPkT/Jf//SJUmz6Ch+7ZhC5zEad8djxydzPsBvXr3ksE7mRsBZMjgxgdn0MyD2kO0WulUJuhc6zHPXfQ8o2vX/75xKHM/T8ZY+zGECFUtHyemx+asRuHA2hViVsxhjF66Gn8z288j6RlAx775CfxwTs6r+u2myUKj4loAAuhIsxON2KDz2LH6QX4DOvxJ5/YjuVlH5JKO+x2K9ymCwchVYgAmsDA0V344VM7MSfrxAcfexD3rXfCP3gILz3zFPYO+9D5vk9juzmAlNoDZ+c2rHekMPLy/8Bf/TSMbR/9JG7rtCDn92PKeAs+dXst7HrV61soyyUU8lkk4lHE4ikUr3sQkgoKjRU1LgPU75RbfTLGGGPsTeFOHdVEyauQzyEaDKGgUMJWVwNnjUPqp3k9wUquNsLkbERHewtqHSaYLQ64HC54HVao9VbUN7ejo94Jp/FS4bNCrlDBanWhucYDl5wCom8BcxMjmJ9bQDKvgNVkhK4Qx9x8mUIgBUC7GRqVGhq9HRaPFxZVDslECkm5Ebetd8GgUVz6YJLJoVTrYHXUoKGpBc0tLWi5joe4d3NDremSl/cZuzrRKl5AJp1EKplEOpNDQdSCGGOMva24BbSayiXpvsendz+LHX0+1G68DffdfSuaLG+uf006soxALI2cwoy2OsfqT6+C1iUdDWJ2YhzT80Hk1RpYTDpp1Hw2lUA0TCFZaYBK7URzWwuamtzQllMILfRjz4l5KExmWO0uuJxudLXVQ0WL5IDI3mnETRciIR9GRgYQj+Whc7RSxaYRde63f+AcY4y9l3EAraoyCtk0VuamsRjJw1pTizqvC9prHX10WWUx0xE5d8/2a1IuIk/rk4gnkEhnUZZrpNtuapVAPpNEkn6m0FlgNhmgVYsBQCUUC2mEAiGk8oBab4TVbIZOfaWemYy9fcSNFxLRZYz07sPeF49Dv+Ye3HrPbVjfbOMKE2OMvY04gFaZKO5iIY9iqQy5Qgml8u29u0+5XEKZ1qUkHQYUYOWrIXb1Z2IOTrn0s9W1FOtfKlYCr5ifU+qgXvkVY+84og9yKoDpUzvxz//0Irx3fxTvf/h+rPVyCyhjjL2dOIAydiOVC0gFl7G0uIhAPIccBfk3NoJ0tVWbQr7OaIa3vgEOmwWaN91a/vNBfC1d+NVUqRi9rizF81b/epZ4XeXJ9PcisuFZDO79Cf7HD0dx62OfwiPvvw0NZtFp5BLLO6NUQDYVx9JcAGqrHXanDZor3YmL3jMb8yOclkGlM8Ju0f9ctrBe8nRAZfTzuC1XRduay2WwvOCDsaYGRp0W6mudiuQGKFNFPhkLIZktQam3wmZUX2X+Z8beXTiAMnbDUBgqZbBwfAde+tnT2NW/hCAFEr3ZApNRd/VR/OWSNI1UvkDBNZNFVjwKJTibuvGBj/8C7rp5Izzmt2o+vkrLfCFfREmmgEajeptOhqIMC8ikUkglU8jkcsjSOkGugsnmgNmoh+jxIdasXCpJM0JEkxmks3lpei9xVUEll0NtskBP26CSFRCdH8SBp/8fvnfCjkc++Qju2d4GbTGLQpn2DT1Pp1ZCcX7wEKE1EcbS1Ahe2zGA2o3bsPHmNXCa1Gfn6hXz2+bFgKYSoNBoKLiUERo5gJPTaShtDdi4rhUWg6aSgysvuQ5lFGi7c7RwGW2PRnR/eQv2hdjf+XweRcjpPWjb5KBj7ly557I5aG01sFCZ65Q3/v0FEcJy9F5SOao0Vw75N5A0PzFVMBbnZrD/4ADW3Hcv2ry0rWI6klXi6lCRyidfLEOupP2gUq7+5o0Tx3YxT8d0QUxvVMbSeC+mlqOQOzqxsbMBZr0KyiqGYMbeThxAGbuBxIktudSPnU8/ge//dC+mokase+AxPHT3JrS6RXi6zAmWTkylfFq6X35wZR7zk1MYGRzE0Ng40voGvP8Tv4LHH7kH6xptqy+4sUrFPKL+eSws+pFSu7G2s14KcNU/FRYoGAQx2deHvuMn0D85gaGZIMp6D+746Ofw8J2b0WIVIZMCVDaB+Mwh7DzYjxNDc4hkyjDZa9HitKHx9vdjU6sHNdoiFoaO45nvfAeH9Pfg0Vub0GLJYHRwCCsJGba874PY0OKBTXcuXBQzEcyMDuDgkUEU7J24+aYNaKm1QHteOCqko5gcGUcgUYatrRtdHgMyoQUc3bsX/ctF2Lq24QN3dMB4HfP7VoivYwomE8OY9SehsLjR2V4PE6XuG7ovygXEVuakWS+CRSM6Otrh1MsxOdqPkyePY3R0HCPDU1j76T+i7diA9e63puKTp309MTEFX7wMR0M3euqMF1YG3iLFdBhjJw/g1R17UOz+EB6+Zz0anCY6rs69dyGbRGBhBkvhHPQOL9oaXW8yHJaRiwewMjeBMb8CHT2tUOZDGDh+DKdmYmjc/hDuWFsLl0G0hK6+hLF3McWfkdW/M8beJHFJV6kRc5YqkImHseQPIFaUoWf9Oqxf042mulrUuN1wuVwXPpwuON01qKn1oqGhEa3tnehZ04OORify8SUklFZ4G+rRWmu/8aGQQnMmMIGDr7yA7z/5KkaiSrStbYZZr8Gbb/O5XrR1MgVUagNUxRUsjB/F0dPjmF2OIAYPGhvrUO9aDfJU1nKVFnq1HENDE1hOKLD+jgdx+6Z21HspVBo0kBczmJ8Zwf7D+6FtWwe3XgW7Jk3hawGz8zE0rduAWocZOjEXmqSA4HQ/Bk+cwHLRho03bUFHgwM6ET7PK/jF/j147umn8fLRKcTUddjY7YZarYVOkUVoagjjA2OQ1XXCbVZLU4hdM6qIID2LXT/+MZ5++gWM+qMw1XfBa9Xe0GBWTPlx7MCr+OGPX8DBE9NQ1TTD5bDApNdBJ88juzKOXTsOwbDhAfS0Upmb35ojYWlgN55/9mk888ppzC+rsG5rGzS0b0VLs2jhDlBIPnr0ZRS0Dmg0Yr/fgDKg431x+Bj2UgXjeKYJjz18G5oofIoKxlnFNO3HU3jhp8/hudcGkdTZ0NJZB624TfLqU65bNorR4wfwxL8+gR19S7C3tcLrcdHxmEd8YRx9p6dhr62F1VqZdo6xdzs+yhm7oSgUqY2obVmLm7dtw4YmKxKzA9i3/xgGJ31I5ksUZMTAroseSiWUag30eiNs9hrUNbdj7eabcff7H8VD77sLHlUR4WAYwexbc8FCJk76ajVMVjNcbgpcisvM63oV4oKKuBWq6Epw5lEqrfZnvSYyKJRaWFxOWM0mWMxONHR0wmlWYWX0CCbHxhCKZ6RBfDKFCmpLHby1bpgs9XB4erDlpg3o6u5End0IvUqGQj6JeCyE5ZUYcktTSMRTkBtrsX7b3Xjgffei3WOjcHlmFocyctEljA8OYHgmDLObgpfbSsu5MHwKcqpgKA1mWJxOeN3ibmO03rQ+jrpmdLa5YcUijh4+hUgijeL17DIZPVmELJm4VCse4oei5fXGhU9BLE9GK1bOFVEoFFEWO1uhhMXmQmNDA5pqrFDQfhQDFN9K0jFWLNE6lJATAZt+cKasyyjS/gpifOQ0ArE48jfoFrviVsYjw+OYCxXQc9tdaPdaLzGTB5UPhUCNTgubwwY7fS7ErMpvai/Qhinoc6XVaWCpcVEFj8K+zgCntxkdbfUwpSYwMj6NQDghtYMz9m7HLaCM3XAyCpNqaLUaKIsJLE2PYmYxgpLODrvbDadFd8GlvnPoBEcnKallj0KpQqmClkKO2WxBKZlBSWOB0Umv1yvf3InwYuKML/q40cnQU9+IrrVrpBYh0RJ1VWIgRzqBwNIsRoYouI2MYnx8ApOTk9JjamoKwZyGTrpa6DTXuN60TFkxhamhMUws5WCsb4GxEIN/YQ46Rx2am5vgtuihWm0FTfpGcHI2C6WzCffd0g7L2T6TZWSii5gYHcDh4TjaGmqlPoZFgwPu5h5s6GyC2Uj7QixHnPJLeaxM9OHA4T7MZh1Yv3UT2uudUF+i/6OoMKjNbrR0dGHjmlZYtZV1kSvU9Pw8YhEfTg0uoamnBzaL8doHj4n1piBYpiRmdjWgtWsdujsaYdVRxL3GRVwLUQlS0MNktqG+vQPr1rajhtZT9FMupiPwTw9h955TcN/yASqnhresBVSsg0JtgquhBd2baFsbbNJnQ+yPUiGBlYVxnDg6Am/nZrjt9vNaqt+48NQR7D8+hKjShUcfuRteQ6XF9QJiXyrV0JmsaGxrR2d7M1wmDT3vTewE8ZlWqWB1uui42IQ1LV5YDFr66Im+xXnEV2Yw6ZfDUeNBDVV83qJut4y9Y3AAZewtIJMroTMaYXUYUA5PYGJkCLOREuQmJ5rq3TDrrmWQD52I5QqoNToYdHSS0hilFhPHJW+v+maI4KSByeZGXUMDamwiiFxtblcREHJIxMJYmpvE4Kmj2H9gP06eHsQQhdDR0dXH2BjiGi88NU44zNpra1UtFykERdE3MIvZpAFdXc1wI4qJsUlEZVY0NTej2WuX5qYVlsdOYiIhg6WhDbe0uc6FBFpOfFmsxzBGZR14/P1bkPCPo385jZLBg1aLEiWFSrq0LRfbk09g6MRhCqsrUDRuxvZNnai16i7ZH0+lM8FT60Wjl/al9lw4lEIoVT5i4SCGTh6HrHErPE4rLOI54gmihbhYkAbeZLNZ5PJ5FAoFFMWAKvEM+n02U4LBVoOGllY0N9bCZqSQoigjn85Iz8+LwWLFojjIaBNzlWVJA3nEjACiAkOLKRWRz+eQyWXpz2Ll52I7pRUtS89VU+WmtqkZLRToa2xmaFUKaVvzyRB8UwPYdakAKqa1ovfP0XLFe4pln5murVJ5kp4kDXDKZml9c2KgE60rkX4mXlMooUzPk5VyKCr0sLnr0NbajCaPHQatmG9YvE0B6cgcxvuOYe8hP5rWroWDArIIZeXKBkrbJwZRifIT6yTKpCwWLLYvXylb6Tn0fqLtVOxnGfIYe+0HODkThb5xEx7d1n7poEfbo1QbqMJYK7WwW2kfvKnwKYjBfUYr3BS2m7wumMRnWiyTHgr6uCVjdMz0L0Ht9qKmvgYm1Zt8P8be4TiAMvYWkYnWMK0ZbrsJvvkFjA4NShP+O+ra0eKxSS1vV0cnJ5UGFieFw1oHhc/KyOobjTKEFCKk7gBXfQN6MgWAZHAWJw7sxu79pxAou3HXI5/ARz76GD74yMN4+KGH8JB4PPggblnXBLf50kHuUkpiFHx0GX0zPkS0TmzZ0IA6Uwb9fYMY9WXhodAkWgXFCVwscvzYEURLFnhbOtFRo5eCkFAu5eGfOI7xoVMouLfjlm4vgsvT8Od0UJS1UIfnkTNYoddqoJKXkEsEcOL4AUxGcmjZdCs2tnkpOF5iH4nCophU6T5xJnStEv8oKxCPhiiI92JS1ohWChv1Np20rmKdUrEAhfYZTE/PYm55BZFICPEMhUhQpaSQwjiF9iX/CoKBFaTpeFGZRDeALBYHhjE3v4jlYBDReAwljR7Z8CKW5ucws+BDIJahY05DQZJiVioG3+IcpmZm6PkxFKSZDWg7RQsirX/Yv4CFxXn4VqKIRlKQ6Q3Qaiph/PIBVFQ6sgiL2/bOzWF6bpFeH0G6WIaKQrdaSeGRXi/CbyS4hNnpCcwt+OFfjtKZpoho2IeZmXmsROn9FPTc9Dwmp2kZ/gDC4RTCUQUcNQYKZUAuGcbU8b14+WdPY89SHnaHGaVsGslsATKlGvJ8EosLC1j2+bBC5RRYWUYokkChTOtZpnVcmcb84jKWl8Vd4pLIldUw6xVQlHzY9Z2fYjFqRuum27Gpwy3ttkuR9rK0jyvh+k173XFTWaaIxeKvydgK+qkyFdTWosbTSGVemSqMsXcrDqCMvYXkcgW0Rhv0SMK3vICRuQgieQ06N3bDTAHqWi+zVVqXLgo7bxaFoVzch4OvPIXnX9iNY2M+5FUm1NDJXoTFy72VGDGfic5j7/4jGAvL0bLlFtyxbRNa6+wwatVSyDlz4pYe17neomU1vjyBqYUVKC31WNfqhd2oQGyyF7MTkyhY6uBs7kKd3SANSjlx8ijKZhta21pRYzwX0EulBOZHT1EQWoZ7y0NYU29BObFEwWUOK7EsnF4Kh401sIggS9uUCkzj1KEBhNJWrN26Ge11tgvuUlbMJhGcH8TOp76LFw/2I5hTwGy1wai58PK0mL4nEwlirm8UU3N6tLXXocFrhjIfx1TfcezedRAz0SIUFHzVhSAGjr6Kg0MLiGk8qDWrqWx96D24Ay888zT6ZwJwdWyF16pGbHEG/ftfxYsvPI+XDh7BSiiAyUCJ3rCIjH8YR157BTsOjSGVCmF8ZAaRaBIoRDB2ci9eOzyIxYwOdrsNVp0SaQr4Eydfw6vPPYeX941D2diKWqcVBpUCBXr96wKoSY50xI+hPT/D93/8DCbCRaj1JpQjczhO63R0cAUlnaUygEZRRiYexMzwARzc8VP87NldOHSilwLrOI4dPYQ9e49hZjkr3Q41Qvt5/64X8PxzJzEwacH2+5qhjI9h10+fxHefeBb7RnwomN3YtKYTNWIeXL0RJpMRWnkRoaVJDB/bhedeeAm7Bvwo6FyodTugl6WxQO/94x89iT2908goqBJYUwO3SYlyYARPPH8YYVMT1m/fhi7aL+crl+jYC8zgxGvP4vnXDmPCn4GKttNquvYK1AXoWKACxeSxnXjxuWfx4v5+zCZUVJl0Vj4nYpn0EF0OkrEIBvonsJAwUgD1oq2OPoeVXzP2rnQtTTCMsTdIplBAZbSje/uduPe2TWg3xjFx4lV8++lDGF+KSPN8vh2KuQR8kwN46afPYT5tgNVYhn/iKF54eReGFmPI5i+3XuJ2siksjPQhHMvB09iJdR2taJAun4oWtNWnvQnFYgmREIWnogwupw0GvRlGeyO23rwFrV4jBcoZHOufRiiRpOy1gng2C71SAZeBguB5Z2u5XIf6NXfgrg99Bnevq4fdRvth0x344COP4GMP3IINPc2w6SuXVkWrXSYaRDRaQFlphdkkWgvPW1ghDf/iNE70jgB1a4DQSbx2YDd2nJ6WWsrOJ1qSdRoNnBT0yuEZJGJRpHNFpEKLGDs9iNGJNHT2WrR1dqKzay1aajww0GukuSE1RjS2dKLWYUE2GYVvJYhkTlxaV8HRTOXcSKE778PwyBRGlwpoa27Emu5O9HS3gvIKJiiEvvjSIfgKWrhbafkdXXDZLfBNj1G4PomZ+RCyJRmMtlrU1xphUfmx4ltGNCXmRb14S84Ra5BKxTEy0o9TI5NYjJegd3rR1d2OOqcWk4OHsHPvUQzPBlCg04rB4kZzQxPqbUrEYn70RfVQ2JtR6xJ9G6ms84DC6EFDczOMujJCAdGamaR1oP1GQbJz0xZsp+1qKsqhsdjR2NqOTiov0Y/XYdJDZzChtr6RysMLTTGDxWAWCTkdJ0Y99DodjCY7HRc2uBrWYt26bjS4LbRWRamfZYCO37KBnmPRr25dhZgGLTA1hN5DhzG4UkQxOoyTh1/G3mOn4Itnpa4G16VcQDq+ghO7X8Th2SwUFifU2UW88NPv46WjM3T85laPHaqgiYqqWg8b7efyYgSJQAy5t+ergbGq4QDK2FuqcnKxeNpw02134vYtXTCmF7HvuWdw8NgwfGE6GV7nee1GiIf8mBwfwVRCBU9LF9rrjSgn5ilgjGI+kEKeQuAl0Uk1l45gbnSCvjxUaGmsR43ZIM3LKUbAX+pxfcoolXIIx6MoUCh0WClwicu7OiuaN2xHe0czSuF5TPX3Ym7Zj0xgBKk0rYnSCIPqwkFOMrkGdm8nujbdgha36D+rg8PbivXrN2Pbhm6pz6FWzK9JLxIj91PJCGLFPEoGCjhaBc6Nd6HfBSh0TfZjKS5HS2cb9Okw5qdmMOOPSv0LzyeWp1YrYTKLYLuARDqOdFaUWwzhlSUKWiGEoykUZCoK1l509GzC5jXdtI5mGGgd7U4PXA4HBakzrbniPwppAJqn1g6LmUIKtLDSMdXdUo/GOg+8TU1UCXBAEQlhKaWGra4BLa2NqPXWw1VTC3khicjiBCKRCPIUQLUGK5wUBp1W0UpN++iqu0lML6aDs7FDmp1hHQXPJm+NdIeuBgqF+aQPk0N9mF/wUcCl0EiVBje9r9dlh55Coa2xB10bb8M99zxAFYD3485b19P718Dt8cJqNUKppBVY3XlyrR0tPWuxkd6jQaWCSkOvdzjhFtOX2SxU0VFDpdbB5qqjsL4GLXVeqJNxpMJ0zNBCKv1gtbA0b8CGrTdjQ2czXGY9ZHQ8xcOLFPSz0OrU0nLOEK3W6XgAk1NzGF5Iw1pTD0MxjeD8BOaWlqkScP1pMJ+JIjw/iFPjPmjsDejqaoFDl8H00AmcHvUjns6fK3aqgKiVKlhohysTIWRiFEAL9PPr/fgw9nOEAyhjbzk6s8p18HbehO133Y8tbU5kJ/dj1859GJpeRuYtnurm9cqIx+KIZUtou+1+bGhzQ5NPIRtP0XrKIaZkqgSfS6BwWEgGsLiQRDGvgE4F5ETfvGTysg8RvorXOhdRuSiNfo5GKUwUCrAaVNLIbDHfp7muBy0tbXDJKCjODFBYnkJg+CjSBQpqGiuFmKsNnLo8EUCy2RRSihzKRmXlPVd/J8orHfXT9mbgamxGTX4aS4s5ioQWuC2XuKc8FZ6cgq3KRK+UhWn7U1KYUKr10JuUSMVGcfDVl/H8cy9ix6sHMUOh1k3L7a6lAHr+XJSXIZNRuZssaG1vo6AsQirtLJUIZVoK2Ubom7tQW+uCVRocpYBcoaJ8U6CQHaaKRUa6Y9T1Eq26RqsLW+98CB997APY3lUDxBYxMkSVmNllJBIJZGNLyCZjKFTGHK1SUFka0dVYi+bGFqzbfDsefeQRPHD7Oqk/8+rQrDdEzDhgMLvRQEHYnJ7H8lg/FgNxROk4DgaCcLc2oLmJfqcRg6tExUa0SMYhVlBMM6Y7/3ihilIhl6H9b4COKi1r6/SIBot0bBth1ou7ZV3/sSX64cZW5iHzrsVN69pQT8dDLhGj9aAdQO9PMfnc1tM+VIhWUEWRfraCXD6KPB0znD/ZuxkHUMaqRKm3obVnHe675yZ4rWUMnD6Kwbl5hMV1x6oqQWdxobVjI+7uqYVWnsPyXFS6/GyxmuC2G+n8eJmvhkIWhXgMKzEtlkMlLC/MY3qqMuXS5R6LwQRS0kjsayBGRqcDSAbTQIpO/iqNdPcZEYDUOhua65vgdRikaY56T57GwPGDyOk10Nis0gCaN04MsMlLl+LFABHR9fPc0uTQudejfeP9uLndAf+JXRhYKcFR34r1LbUUol5PZEI5laFoAC4US7R0OQwOL1rWbECTR4ml/t343j/+Lf70D/8Mf/eNp3F03IcsJY7LBv/z0frJ1Upoxa0+L95PFJxl9HMRxt94HL80elc6LjRQlzMU9k5hz4vP4Iknvo9nXnwBM4vLyFKAE3N3XojCH1W+zEYt9KJVWSXmu1VX9unqM66LOIjOHEiiq4PBiKbGGnhsefhXJjG1sIiVcARLwSTqaszw0LFy5u5FojW+kBet8lSE4v3PK2yp24TFi02bt+CB7e3IBucxskLHoLENDbWtcFz3fdrpfeR6aCztuPvWzXDZzIgHowj7IpArtahr91Bl4aI7jdHyRTcBlONUSUhL68nYuxkHUMaqRgad1YPmtVtx/4Ym3H7LFrTVeWCq+oR/ctgcbjS1tUG3OmJ6NhxDtGiE01KPGov27En79cQlzjLyxShCoQXMz89ido4es5d+iNHSPjrxpnOFs7nhSoq5NJL+RYRzSuSs9VBpVk/8FBCgUKOpowVtrV6UUysYOLkHO3bPQq02w2YVt3CkBZQp7BXSiIZDCNE2JTM5abmihTOfSSCdyUjT8rweBRK5aDEUoZHC6AUrK4PWYoPJYkQ+uoAXdg4go7aijcJnvU1Loeb12yb+XZnEvRJ0xHKh0KOxaxM+/kufx5e/8Cv4pcc/hPtu64QsPIyXn38Jz+wbwVI087pL+u8EYvR+LDCHg898B//yj1/HqwPLsHXfil/45V/FZ3/pM+hqbZDmeRUBXpSHNNXStezw6yCmcYpHE4iI7gu0bHGpXaXVw93YhnavB8rAMhYHjsE/N4RQCnAbTLBrz013Jv6QU81C/Cl1D5F+uop+qNLoYDLooMqFMTvci3hWhoZ1HWiisKii7bq+lmP6rJudqO/eiDqHERoVEAgHpdt6qg1tWFtngeGiwWuC2CbIlLQ6VH0Qf139OWPvRhxAGasSMbdhKhqEbymIFeVG3Hnn3VjfWgfdZcPeW0UGhZhIXaOhL4BK37dAPIKc0Q4bncytOjEx92XWSamGymKF16VEo9cqTcS+fv1GbNq06ZKPjRs3or3BIc17evWtpGCbiUtTJSWVZWjra6W+lGeLh07KlrpmrG1rQae2gNj8Ag7Mu6E2umAVt92k1xeyFFBm+7D7uafwg5+8hMN9U8hR+Cykwpg5+SpO9Q9hIZS8MHwQERA1OhM0Mi1KmQKyxdIFbXliNoNCLgnf3CiOTwWhre2C12MHMmHMz61IA0bOLpPCTTFfRC4teiQqoacQrZKXkQwtYn52DgmVB+tuuQ8ffvxT+PwXvoBH794CQzyIyd5RCusUrt6BCbRUjGNlqR87X34VI9ka1K25GTdtXYf2lga4nXbo1GJKLAr5yQgWZpYwuxBB5lpbvS+pEhRFbhfLEJ+dZMiPowf6sGv/KEKr+0d0zTC66rBxLVUG9FFMDBzBiYF+RFRWGOg41agqfXwFUcEwmLV07MuQLRSkeULPJ+ZJlZVzFLRnMNA/gLyhHs0tHpiVaQQCESQo9RaLFK7pGI1FwgjHktLgsssFU7kYgEgBWerOUc4gHFpCkA4UfdsWNNq1tG7nfSLEMVMsIluiEC+vgZrWX7pB19U/NIz93OIAylg1UAjKRFekaYTGF1Jo2nY/btq8Bl57ZXLtt4s4scdX5hGJJKGxOuFpqoNeNL5cbp3EJVhTDVo762Chk6iMAoDV6Ya3rh719Zd+uK1GaZLzK29mmUJODslomALMCvJ0Ina47ZV5K8+jNLjR3t2FDd1e6ChEB+0bYHa4KOAqRfMpEpEQjp/2IVdIYYbKemR8DtF8FsngNI6+ug+DY7StFDAvJpOLy7kWmORqKBJZZLPF191CMxWL0v6bxkJYi8aOTliUCcwN9+HkWKgyCfzq88UfhZyobIj2rBroNEaoxdRE0QCmhgfRP7aMrNKMupZ2rNu4GVt6OlFvNgIU2KTJ1MX/RAud9KDwJ26JSX+e+ZkUeKS/i59XfiaOL/Fv8TvR8ir9XHramd+Lf6/+fPUhRnWLh/if9OeZ160+hMrfabnFNNJRH2Zm/UgZ6+Cub0Sd00LBuii1LBcLOan1OhGYw/EjQzja60M0nacyrCxL9HuU3qOy2LPEsqUfSr+rbI+EkqdSq4TWTPu/ICbVpwCaiGJheRlzKxHkxfOl5ymgNtjRuX492hutWJmh8DgahNpaI00Jde5Sv4wqESqYrB4olVpkaP8kpVE+56H3L6YCWJkdx8hMBvb6ZtSY5AjPTWOcQnWGQm8uFcTS8AHsfvFpPL3jKAZmQ9fUvaScXkBgeQnJkgH163rgoA/ZufxZ2f5CMY8E/bWocUKtp7J9fQMpY+8qHEAZe8vRyTIfx8LoaYwMT6JgqsN9929BU4352m/R+BYRLTrBxWlEooDF5kFzvV3qO3j5tVJCrXOgdd0GGFU5TI0MYoxCSSKTXw0Yl3qsvvSyKJzQyTcZ8WNqbASnhpexEs5BXqIAI+5TLiWuVTItnG1r0HHzZjQ1OVG3dTPcNTYKo7TG9Ealshw5rReNdVboKJTmRaDLJRBdHsfxoXnEMiVpVP3F2ycCqNZohkVfhiIbRiop7rCz+stV2UwW4WAK2VwTGj1GxALLGJ3yo6ivTJ5+JrSLbc5k8wgkKTyaW2EwWaBRUTkU6fVU1n3HDuPk4ASWw0kKVhl6lGF0u9HQ1QybSY1yIUuvTyNPKyDuepRMiVkJKJzmckinxR2UilReRaSTaeQoTBfyeeTSKfodrZu4i1QmhUw6U7nrUI7+pGVJdwuifZ3J0rJzlbskpVM5pNL0fAqPyQS9JlO5s1A2k6HfpaQWxkwyIU2GXyipoFLbYLEaIE8uIxoM0jETR8i/iLmZSRRLtI5Uzv6laQxNz2EqmESc1i+ZykjrlxYD0ug9chQkxXEi7SvatlxWlKe4ixEdP6UYPV/8ScGdKgLmGjs8rTbIYhEs+6MIRcKQa+k4dZpgpGBZ6eMqWvN1dExsRUtXJ5WzGvESHRdeD+xG7bnWcyIGYxnsTbAodCjFs0jEMqu/WUXrVM7EkAiGEEhb4fXYIE/4sby4jFiuDLW8jDz9e6Z/N1565kf43vdewcHjswiLdb7KMZ71DWJ5IYiiyol1PfXSVY/zT75l2m9ZqiiF6M+Ck45dm4ne70qfQ8Z+/nEAZeytJFpV8mn4Z4dwenAUoYIKazatRaNDS+Fz9TlXIVops6k4YnQCT93QyQHFuiWxMDVNJ20jXJ46NDnpDH8VSpUG7sYetNe5IY8tY2RwGEOjE5idm8PC4iIWl5awdN4jGE1Kl2MvjU76FLjioWUMDfTj1MAo5hJZRBJhLE6NYSEQRfbCYdXQ2OpR17FVakG+6/ZuqRVZun+4QgOzowZ3392N/MI4PVENR60HpmwMgfkZLJdNMFjtsBg0q0s6R1ye1Zjpd04VSrIw/OEEUhT0zqfRGeH2NqG1uQnqXBgrKTU0nk7cvq1JqkicCQuiH2SCQqCPwqWhvQV2l0UKyHKVDkYKRepiGHOToxgcHMTQ8AhmojnY2tuwbVsbHNo85qYm4Y+kaF2dsBp1iPpp3cNBLE9MwbdCoUnrgJeWmQ1S+JvwYXHOh6V5H0LJEszeGtjLCUQoGIo7Hc3Swx9JQm+2wmoyIhkLYH4lgFnaLwu+JFIyB5wuE/JRH5ZnlzA9vSjdVSmYKqOmpQWabAj+5QX44wo46tfjznu2o1sRRHBiAP2DIxifmkc0W0Ybbae3xoECVVBsjWbUNSkQj4URyypgojAlS4WxMD2FRX+AylVULPJIBWn95uaRzKtgd9tht8YxN7qAGAXjEiVNe0sn1t95G7otavhmZjG3EIDRZkZnSy2MlPbPnrzkSijMjXA1dKJtXQ/aNm1Ba70LBo38ggAn7r6kdtSjw0r7IZWgCgTVus5Hy1RoTLC4G9HWWgejIifNFqG12dDa0gCzUi7dt11jtMFmMdMxtgL/5DLi6cLrhl6dI8J2HitDfVhaSdCuq8WGJgsU51c86SmiApZKRZGgAGpqdMLpsULD6ZO9y/GdkBh7CxUofIaXxnDk2GkE5C40b7gZa1q9MKjFQIPVJ11RGdlElILGOBaieUBnhlVXSa6lQgbpKAWJhXnML/rh91/lsbKCrEILlZhbUZwAS2lkwhN4+SfPYlHTiPXbbsatPd7zLg1eBq24TK6SLn1bjBoU0xTYaNnhcAjhYBArgQAC9O+V1UdGboRer5MGqbxu0aIlLJdCwDeP0RkfyhorGlra0Fhjkfp/akxWOMyVS/hniP6aMgooZosbre3taHIYpIAn+gvK5CUoFRHse+KnyFta0LFuLZwIo+/QfvTHm9HT3YGWejvUtC7Ki3aAGKwSWprD1GIUGU0NWhrcsBvUZ/eTuN2k2U7r48hDZRDTIHVi45o21IjphM4siiocBQq885NDONk3jrZb78OWznq4xST5tPU6qwtN9Lp6mxqZGIXKEIVDVwPWU3Dq9JqhyMUolM4gJ9OiobWDwm4DbDoKW3oN0tMLSEMDS2Mbujta4TKqkIsoKbykkKawW1BZ0NTZgbZ6B+hXtC4ZCvIpJPJqNDY207IaYaPtKWv0SCVjyGQKMLha0NJB22BVQp6j0BiPI55NQ2Vyoa1nLVprKSxR2Wr0ejTXeVHf3EpB0y5NF5TO5KEw1aBr3Vas6+pEnbsOrjoKjWt70GxXSK2ncqNb2p8NNWbIijko6NgzmcXdkkpI+sYw6U9DLrpVdLajvdWFchqw1zvpeKEKGh3rJlcj6j0WaOVlOvRdaGxtQ3uTGzrx+ZEK/JwVMS9sWYO29ZuwttkjTb904XPoGFGpkV06jcV4HmVzLTavazo3W4A4rqmSoDPb4LbRPtUZYK9tRXt7B62/VerLqdQaYaH95Xa5kYjIYav1omc97SMq1/Mz5Vmii0E+jH0//gEOTyXhWLMVj961Gebz+qZSFQx5Cuhz46cxPBVDx5pN2NLTCvulbgPL2LuIrCyuFzHGbjAxECWLiH8BfUf3YzqhQV3XBqztqNwX/fKjzM+RRhSLuw5NjlCAHYbc24lN27ai3VI5ZeZTogXmCI6cmsS0//X9Gi9EH3M64zVsvh2dDXWot1tgUKUQHHgRf/qfv49S1wP4yMcewyM3t177ZRE6uWYzCcRjMcQTaeTEZd5cAUXRZ3H1KYLRSSdshxlG7SUCqDj9ikvD6SQi8RRK9AyFnNZAzAcqU0Irbr1IYeTi++aLy9GZTIbCFIVPOpmf6yqao9cu4uu/9TXkuu/AhnvuQE1qAs/+6Ic4rL4L961pwq03taKutQ728zvfisuvpSymTuzE8y8fwrKsFQ9+8AHc3FMH7erzRB/FQjZDIS0iDRbR0boZKFhLYX5VuZhHfHkIh17bjWeORPChL3weWzvovTRy6VJ3LpdHXvSHpGNDukRekkGt1cNIyxEhW9xrXdzTXPSdPDOtlAgqSp0OSKaln5fOvF9ZhnJBTUGdSlt+pv/oKnqRkspMXO7O50vnwpGsDLlaT3/Qc2kdRC/Vymuo5Cm8iTBUlom5KFeXRH+UxPyUtI5Wg7bSUpeII5XJ0bpURo6LyoWiLLoHZGh75LTP6N8o0j6l9aVtPbNO4jK1mp5vMOilQVn5VBQx0QWAfi5tKi2vVFRQxcYMDQVMBb1StJSmV99PptRSmeuh16po/6cQDVNFoSiH3mSEUZ1H79HDmA6k0bVpOzoba6G/qP+wtDG0nUvHn8aTLw8grG/H5770CTToFecd8+Jzm6NtjCGVL0OppvWl99SIGxas/j6fjmBhfABP7FqAtbELH7yvGx6LdjXI0u8zSanrQVEMQBOD40KD+C9/9Jc4Edbjtsc+jd/4xUfos3deizkF88jCMA7ueh6H/Vbccf99uHVjB4znH5+MvQtxAGXsLSCCRMw/j/GhfpwcCcDdtQmbNnRWLhdfsqnkDBGEShQasnTijSGwOIUThw+jf0mGNbfegffdtQUOdeX1pXwKifA85pdCiCSvdmleDPDIwLewgEBCDW9LO3oaVJje+S3888s+rHnfx/DYI/diU5N99fnXTgRl0Ze0UKAQRA+pj995FGox4ldFgagaJ1QRxEN4+m//AUFbG7yddCKPzWDva3uw6Lkba71O3LKhRbqjkvF161NCcmkEe3e8gpOTCbTf+gDuvXUDnKbXX7K/tEpL1nTva9h/4BhmtFvxix+/D01uq3SnKHYj0LFVysM/M4L9e/Zhhip2nRs2oseVw/jINNKaOmzesgFel/XSLZIkGxrHi0+/hN75PHoe/QU8ur4G+vMC4RVRJSQV8WNs8CQOL6vQ2LEWt3a6YJYqV+K4L8A31ov+oWnEFA50b+yCbGwH/sv//imyzvX4yCc/gY/cvf7c8UDLy6VCmD51ALt37Ue57T7cfcdN6GpwcP849q7Hl+AZu+HKSEd8mBgewKkxP3SeDmxY2wGP3SDNVVkZrXyJBwXPYqGATCKM5dkxnDp2ALt27sShEyMo2pqxedNadJ93YpIpVNAYHHB56tHQIG6JeKVHLerr9Oh97kfYc2wK4VwJikIA+3cdBppuxZ133IJ1rbXQv4E7vohL4nKFEkoKmWJqJ81FD7VSTEZejfApiPdRQ6WRQ2O2Qq3WQKfTwuaqQa2nFo1eF+o9TtiN+rOXQM+ptOgpZRkK/yGspOTwemthNenOziV5JSKIR5fHcOLoaQwvy7Dl/vejp94Ow7V29mXXppiHb2YUe17eRZ+vAJRaDeJU2QvEAE/bWjTWOqF73eX3cxSiBTgThX9xHr1jUXSv6YBJuvXqNRyjxTTioSVMTgdgdNZiTUcD7HoVhV3xWhFAUxje8yx27jwgTWRvtKrRv2cXJvMubLz1bty9bR3cFu3ZdSsVM4gujqHv5EkMhUzYfMs2dDRSIH4Dn0PGft5wAGXshiqjmI1iZvAI9ry2DyenglBoZEjFfJieHMXo6AhGLvMYHh7EiUOHcOTIQRzYtxd79uyj8NmPlYwa3Tffhm0be+C16Vff53qVKfjmMN57FGPzIcRzeQqwdNK1tuD2+96HrWua4bKIoLX69J9bYgMUMNvdsNrssFrEPc89aBJ9F102eN1OWM2iFfrS7Usi1It7xsvLBQoofkTLemkUu15DIeOKhVNGnioOw6d6MbJUgLHtZtx7SzesZ8MJu5FE15RoMIBYIgNxR/WC2oKalm70dLXAfpUuLjK5Ega9BvJ8HCsT/UhovPA4TNKl/ase/yVxW9kCSgojamtrUeuoHEuVl1VaQIMzYnDWHBajaeSpUpktaLB2272469bN6Ky3nV03UWERMz+MDA5gYDYB5/o7cdPaFjjFXKV8zLD3AL4Ez9gNVUQ2Mo/Th17DnkN9mI+XoNWLyahXW2Que14Rl96LiPmDSOfzq1PwFFAoy2D1NOPuhz6EO25ahzqrbvX5bwCFqpn+gzjWNy617jnrmtDZ1YWmGjuMOhGw3kUX/URfSXqIr7czt1wU33SVuxKJh/SjS5L65PkWMDYwjPGEAd3rutHV6JBapS77Olp4KjCDEydGEZVb0LZhA9pdFCQobFzhrdgbIvphxrA4OYLB0WmEckrUtHajs60ZNRTexGChq5W51FfXP42JgRM4HXHjzjs2od5thfqqCZSOK9HlpCCmipJDceZzfVYZsaVRaSL74bkIygY72tq60NnihcNCYfW854v+tKGlaQyOTMOf1WPTti30+dZAew3rz9i7AQdQxm6oErKxFSzOzWDeF5EGMojUcqXAcxZ9FMVtDC/oQymTS6Nym1vbUeumEPQmOxPm0gkkUimIObhVai0MRgM04qTIZ7zzlFHMZZAIh7DgT8LkdMLptEJLZX/ZYqJ9lqP97gtnAI0RLpedgsTq79gNJ+bNzGczSImBT0VArTNAr9NIrYvXeiiLWSRS0TBm/Qm4672wSIOj3vwHQQwwS6VTSGXyKMsV0OuN0GlVtG4XfnZFhTMRDSASz6CkNsNDx5hacY3fFYy9C3AAZeyGKtOJTUywnUWuKAb+rP74TRD9K0VfSqXyvNtSsrdYGeViEdms6KqghEpFZX+Vwi8VctJtNMUl3ovv4MTemcSAv2wuC4VKDQWFxap+vujLoVjMg74mKsfYZbqFMPZuxQGUMcYYY4xVFVe5GGOMMcZYVXEAZYwxxhhjVcUBlDHGGGOMVRUHUMYYY4wxVlUcQBljjDHGWFVxAGWMMcYYY1XFAZQxxhhjjFUVB1DGGGOMMVZVHEAZY4wxxlhVcQBljDHGGGNVxQGUMcYYY4xVFQdQxhhjjDFWVRxAGWOMMcZYVXEAZYwxxhhjVcUBlDHGGGOMVRUHUMYYY4wxVlUcQBljjDHGWFVxAGWMMcYYY1XFAZQxxhhjjFUVB1DGGGOMMVZVHEAZY4wxxlhVcQBljDHGGGNVxQGUMcYYY4xVFQdQxhhjjDFWVRxAGWOMMcZYVXEAZYwxxhhjVcUBlDHGGGOMVRUHUMYYY4wxVlUcQBljjDHGWFVxAGWMMcYYY1XFAZQxxhhjjFUVB1DGGGOMMVZVHEAZY4wxxlhVcQBljDHGGGNVxQGUMcYYY4xVFQdQxhhjjDFWVRxAGWOMMcZYVXEAZYwxxhhjVcUBlDHGGGOMVRUHUMYYY4wxVlUcQBljjDHGWFVxAGWMMcYYY1XFAZQxxhhjjFUVB1DGGGOMMVZVHEAZY4wxxlhVcQBljDHGGGNVxQGUMcYYY4xVFQdQxhhjjDFWVRxAGWOMMcZYVXEAZYwxxhhjVcUBlDHGGGOMVRUHUMYYY4wxVlUcQBljjDHGWFVxAGWMMcYYY1XFAZQxxhhjjFUVB1DGGGOMMVZVHEAZY4wxxlhVcQBljDHGGGNVxQGUMcYYY4xVFQdQxhhjjDFWVRxAGWOMMcZYVXEAZYwxxhhjVcUBlDHGGGOMVRUHUMYYY4wxVlUcQBljjDHGWFVxAGWMMcYYY1XFAZQxxhhjjFWVrExW/86qqoR8OoZQKA252Q6nSQPZ6m/eaUrpMHzBBJSWGjiMasjfqSsqlIvIpuKIxhLI5ErQGC2wWi3QKFZ//55UQi4ZQTiaRCZfgkzvRJ3LgLeqSIqpIJaDKWhstXS8KN+xxzXKBWQSUUQSRWgsNlj1qnfuujLG2LsMt4C+XYpRTB/4Jn7/c/8Gf/GzEWRWf/x2yif8WJiexnI4hfx51ZLY0X/Clz75OP7Ts5NI5N7J9ZUiMisT2Pe9/45/+8VP4eMf/TT+9B9+gpHw6q/fowrRKez+7l/gNz/3SXz88Y/jF/5mL2Krv3srxA7+HX7psY/ir3YsIV+sHC/lfATzo2OYCL4TjvRVBT9OPfXf8Vtf/mP8y55p5FZ/zBhj7K3HAfRto4TW7EHb2i60ukzviB2xfOgf8ee//m/wP352Cr7s6g+Jxt6BtWvvwNomC5Tv5JbEfBADe57EP/7DC4h7bsOnv/Jv8YlHbkedZfX370kFzL7w1/izfz6IaPsH8OXf+m38xoc3wbb627eC1tmN9evuxJpGI+SySpticfl5/NGHPopf+v6Y9O93BhWMznp0rmlFnVXPX4aMMVZFfAmenTW348/xF397CI5P/gl+45O3ol67+oufE6XQMJ7516/hr45Y8W/+8D/hM5tMq795L/Ph6d/+FP78xG342yf/EHfWvHWX3q+kMPc9/MoD/xljX/keDn5l/epPGWOMvVcp/oys/p1JSshElzHRP4zlaBHFnA/jg0PwpQCdyQLt1c7euRUMHT6JoawJjTYdVhuAUC7mEBw/gFMTWehcDugVRaTDSxg9OQZ/WQ+7RXvpFphCHAtjQxheSkNjNEKnVlyyn1psai8OnY5B49AiNHoC/ePzSOs9cOoVKBWyiC5PY2R4CKPj05hbCiBRkEOj10OjlKGY8GNipB/HD7+GI6eXkDO5YaAVVxtNMOo1FOwmcOL0IBJqF6w6FeSyHJb79+P4UAG2ejWCY/3oHxrF1OwiAqkydGYLdMrVFRNKOSSDixgfHsbw6BQWVmIo0O9TC9MYXUpCaTDCQNt1WeUCEivTGBscxND4FGYXfIjlFLQ/TKt9OytlOfjqq3jtwB5MxzVorKtFLptGWWOG7YKVWZVaxqnT/VjK6mAz6aA827E1B9/AAWnb7M12aKSflVHKp7AyPYyB4RGMT81icSWOglwDvV4LKsJzihlE/bMYo20dpXWd94WRoaUYdBooFatPTMzhyIl+BMpGaGOT6O0fwkRMD6/79eGwmI1hafQYRhdL0Dus546/YpLWZwwD0xGUdCZYLnFg5kOTOHl6P17+5msYNDdiY4MKkcUkNB43TKsrXS6mEZwZwdDQMMZouxb8URRktF2G87YrF8P8JB2Di1E6ltLwTQ1jcIH2m94Io/b1fTzzgVEcOTmIjMFLZZ/E5J5DOE3H5O6dfQjXtKHbkEZAboPXrJaeLz4byeAcxkaGMELHx7wvhDRU0Ol0UK+WWXplFEODU0jQzwtxHyZHxbFMx1KAPph6M4waJQrReYz092NwbBIzdIxnYIDFrMWZYn+9PGJLMxgenENCqYfFqOFWUMYYqxIOoK+Tp3D1Ev7Pn/4lfnx4GYtzL+Pb//wdDCSt6Fi/BbWG1addTuhVfO0zX8V/y23Dr9/VcO4SZDqMff/rY/jDb2bR8+H70aZPYf74s/jb3/nfOGRag/tualgNOxeJDuCJv/ka/vqlIFo2rEGry3DJk+TQNx7FL/77Icg9Uez8p7/FN5/eg2T3h3FXXQFzJ1/Bj3/wBH78/CvYs+8wDh/Yj5Njy8jrXaj1OKH0ncRzP/4efvhKL6YpMIUDy5gcWoGuvQdtdXbkj/wDfu33/wq+1g/j1lYrhb4wXvoPH8FX/nsENWuD2PWDH+AnTz2Dl15+BTuOLUFu70BHCz1PbHo5h+jcaez4/jfwL//6fTz98j4c7xvBXGQOx574f/iXIwm0rF+HTpeusiGvk4N/YC9+8v2v45vf/xl2HTqKA6++hqN9i8jS+tfVU1hWZhEYO4Sf/N238MrkIoKhGHwz4+j352Fu6MI6j351WeeZfh6/90d/gV3pHty5rpEC3JlSjeDlP/0YvvI3Mjzw23ehlsJnMRfB+IGf4nv/5+v4wUt7sZfKb9+BYxTIqDLhrIXHZYRKbCtVFpaGDuKZH/0ATzz9Ina9tovK+wD656NQ2etQ6xCBmZ449kP80lf+DIeCWsQOfBv/8+vfxdOL3fjkI524eE3T/kE893e/hr/fqUHPA7eg4UyrdHoar37r7/EffzgEXdcmbK0zrv7inNTQM/iHbz6FQ8NziCbDWJ4eQe/xMOrvvwttBhmF6jDG9j2DJ775dTzxzE7sPXQQe/cdxeB8iioyHtS6zVCL7Qr244ff+K/4qx8conIdxitPfgPfPhhDbWcPuurNuDjeR/f+DX75q/8ViY2/hDubV/D8H/w1vndiAJPLYaRjy5ibmsGcdQve32WlukUKwYnDeO5H38N3n3qBQuoe7Nl/CH3TIchNNfC4rVSZkWFpz9/ga1/7Og4txLE4ehwvP/1jPPvsz/DTHaewlLeh1hjB0eeexA9/8EP8+IWX8fJLr6B3EXC2daLJdrkBflEMPvv/8NdfewqL3rXYvqaG4i1jjLFqeFdV+Kenp7Fjxw46MT2Lo0ePIpN5MwMeApie68NY2IVtj3wCD2xfB9fbcUlaYUTdmu24Y1MbaoxXOz1OYscLR1Ba8yF84hcex3avHCnfAF741v/FzyZ0uOMTv4k/+rN/j3/7+ftRGzqCH/3fH2L3WBQKz3p84DO/i6/+4q3o9tRg66O/gt/703+Dhzd5YbxE4+EZ5fIRPP30CcjXfwhf+srv4Nc/+zAaovvx3X/6FnpDJek5+dgcjjz3HXz3mQEYNj2CL/zWV/DFx2+HfWUYRybGsCw96/Lyy0fx7f/2H/HP+wvo+NCX8If/4d/jq5//MHpwGt/5z3+L7x9ckFoYHe234fHf+1V8+GYP3J1b8Ol/+5f4y1/7BN7X9iY7gJaLSM3uxz/9zX/HjlQXHvvC7+GPf/+38Zl7muE/+AT+8ZvPYChUpCdS0J6kEPzdH2DXtAZbP/plfPX3v4pffWwL1AM/wj9/41n0zsdROK/Dy+yeHTiUbMZDj/8SPnNX46UrIG+Cvv39+M2vfgHvd9mgaX4/fuOP/wx/+ZefxVYbxbFyGYG+J/H3/+mvsTvahoc+99v4oz/8XXzh4R5kB5/B//pf38ee6Rgqe7EiPDWG0+MR2De8H598+BZ0XdPl/Ho8+Bd/if/41Q+jVamB+f5/g7/84/8Pv3VbLa1DHonF03j5O9/ET07LsOEDX8Tv/tHv4csfvRmGiV34/jd/hH3jYRRWlwQs4uSxE/ApG3HfJ76Er3zlV/BISxQv/8t/x9/+17/HE4Nq3PSxL+N3f/d38MUP9iD56v/C3/6fQ1g5fyMYY4y9I7xrAujU1BT+9V//FX/8x3+Mf/fv/h2daP8Sr776KrLZ80bTXBctarvvxy//zp/gT//gq/jUQ7egwbz6q2oyd+LRz/82/tPvfgxbG6yva226kBIbHv8z/NWf/z5+5zd+DY926wGZHK4tj+PLX/ltfP7Dd2Prhk24/dFP4hMfuhPm2BQGx5dQ1FnhbmhFS50FJo0WFnc9mjta4DHrKi17lyOz447P/zn+w+c/ikce+SA+8onP40uPNSERPYnBKVHuOYQm+3DwtUEot38Sv/o7v4HPfPQD+MDHPodf/+In8b719VTKV5LF1Atfx3eOafDIb/4H/MkXPoo7tt6Ee+n1v/3/fRm3W4fw9LefwmhcDrXeivrWRnhsOmgMZnhbO9DR7IHD9CbbtEpFpKePYceSEZs+/hv43Afvwq23vQ8f+eyv4Xe++DC2NGuQT1HCyazg9N4dOLZixv2f+zV88aPvw5233Y8Pfo6C+eO3QDGwF8fGl5EQWXWVouth/MFf/kf8we9+Fb/7ifW40T1WFWYPGlub4VaroDA40dLeho7OZjhop5ZLfuz7+jfwWmk7Pv/7f4gvffxB3HrLvXjsc7+O3/3lO2Ca24WfPHsaUrZeJXd144HP/Cb++N//MX7v849ga7PtKsejoENNZzvaW9ww0bGodDajg46tRqcG5VwU0yd24sWTctz7xX+LX//Eg1Rmd+ODv/RlfPEXb4Np6SSOn5xA5GyANGHdg5/DF3/5M/j4hx7FIx/5Av7gNz+Ebv0SDszU40v/7jfxmY/Qzx/+ED7zld/Hp9flsfTaYYykVl/OGGPsHeNdE0BfeOEFPPfcc1hZWZFCZ19fH/75n/8ZkUhk9RnXywmvuwftjZe4fFttSgoQCsXZ/qSX14nbt7fi7NVkuRqmhpvxkc98GLdYF7HzmSfx3W99C9/6fz/GyyfGEFEUUCrkcV7GuC4y3IK7tpwbT62g9bS7alEolhBPUwAtxrEyN4bhZTvqNmxBp/NcGNQ7Paiz2K8Suvw48lIfsrUP4WP31J0LO3IVDLU34ZH3NSA2vQ9Hp99oJeMaUKEr7R60qlNYOrYLu46OYSGUQNlQh5s/9Bv46hc/ha11KhRC8xgZn8B8IIDJwy/jB9+mchZl/e0n8dpwiMpjkn4n5iZdXS5p3b4NbW/TPJnlRB/2vRaBfvvjeKjnXL8SmcaG+rV34M6WHPynD2M8uvoLYm9sQHtrAyxXT53XJJ8IY7pvP0YSCSz3voTvnymz7zyFXb1TiERDCK+EET9bZrVoqPPAaDh3HGm8zWhVqaDcdis20fF1piuvTOGCp6GMUimK5Dto5ifGGGMV75oAOjc3h1jswtkNR///9s4CMKoj/+OfyG427q6Q4AnB3d210ELdqVJv73rXa3t1b6EFqljxFneHECKECEmIu7vb2n82WSBAoBS7lv/7XPfavH37Zt7Mb37zHU9KuoEeUJ3AEgn0v1AH141R8z+tUdWVcfbAapb+sJwth0KJPpNIWmY2BUWl1Cn1N90AxlezIFUTDbVVVCoUKOytuXyW4h9Ql01amhqNf2e8LumK1YldBw9vmpQVFJXV66/eAgyNsfAbzYJ7xmOb9Bs/fPMlXy/+jmUr1rE7IpUKlREykQbKuhqqqhuorqkiKzGK0xGnz3/Ollng368//u7WyFull5F4douV3X60+cnEqA3x8vfl4o59QxSm1ji7WlDXkE15tf6ywNDAsPlzs1A11VNZkoFSNFbyki6kl+6TUmqKR+AQundwQHEtSSQzucpiIwkJCQmJvxp3jAB1c3PD0vLi/rT27dsjl7estP1/ibqB8uQjrFy5mSR5d2bd9wQvvPoqr772Io/NGUkXe/19f1m0Lf+7krA4NzR7SzcSM0Ru5cfYJ15h4bMPMWVQBxwMKkg+sZNfvlnEqi3HST8v0gxw8x/E3QtEGr9y+WdqT0/0C7//92i1zcln0IYA1qW5WqvS/b/4t/7iLcMUB8+BzH22rTR7lGlDOmL//7gIS0hISNyp3DECdPz48YwdOxY7O7tm0dm5c2ceffRRbGxs9Hf8/0PTVEdB3EFOFikYMmMeY3p3wM3ZFguFHGNDkfUXVnfcGoxlKMwssW5ooLGsilr95WvGzJP2PsYYxSaS3Xr1jkCtUlKal4Xc2BpH2yutoL9xtBol1fnZFJRo8Rw0jfkLnmfhwhd4/rE5DLIpZN+WLRxIqcBIJtJUCKXyhiY0prZ4eHlc9nGwMrl6j/FtxMC1A4FGWjLjUy85FUlDQ30VxQW1mJp4YPunu62vHQMjGTIzBQ2aYmqNnNtIM3ccbSxaVuJLSEhISNxR3DECtGPHjjzyyCP861//4q233uL1119n3LhxKBS3eem6hR1OckMMEzPJP999pEXVkEdKuv7PP4tunqZareu0+lMY6LoGtRpqxG+rai4MUzeV5ZIYG018if7CRaiFBrlJ3V5GVjh4+tHRqZzc2CiS9SvjddSXFpJXWU6N/u+2caLv+G7I8/axObRIf02gVVFbEMmew1lY+gymT7vrWD9uaYe7zISS7HyqG5t0KdVCZSoJmRfiqdujMv3YUr5YtJqQXDUGBkaYWDnh170XA3p5o6wrp6i8BpmdK+28fDBOjiPiVAKFrecd1qQREpJAdmn9n55vayxTYGFjR219DvnFF+ZMNFaWUVBWxPXOcDawCGDwEGvqQ3/nWNqFaSraxgryzp4kOEOBs/9AOt7U9ptIZc2FVo/c3BqvTj0wyTtL8OFoWr0eqoos4uJiSSqou2glvoSEhITEncEdI0B16ETojBkzmD9/PsOHD8fM7H+wgMi0MwNHuGAUt5ZPf97K3v172bP1V5Z+8jlbYvX3/Blq0zj06xI+WKzbxqfqTwkYA7kp9h37EqDJ59Cqr1m8bhs7Nq9m2eKv+HlXBDkF9dQX13BOmlraeGBqriIq/DB7dx0hPq+Chhuq/eXYtw9k8OguqCM38NN337N+5152/v4zS5atZH9M1h/0iirwnfgo83rWsuOr91m0bhcno+IJ3rmabz//nuMlnZh67ww6Xc/uBHZdGNLVDs2Z31i9YTM79uxl79aVfPzhIvakK88LUgNDY6xd7SgKXsfSTz9nzd5wIs9EsH/rJn7bl4SFsx89fOyEoPOg79ARjPCs5eSGn/hh+RaOhIYRcmgT333xBV+tO0Jyad2fHtKWiQaNd7e+WOZFsH3Fcn7ftZddW1bz4w8/siU4+brPdDcwcmLo4w8yWHuCnz75lFW7ThAWGczuX7/nmxXHqHQfyYypgdjfpAVHBlZueFqqqA/ezoY9RwlOqcTI1J6OA2YwrpsBoRuXsOj7TRw5GUbY4a38uOQrFv26l5ic6tswDUBCQkJC4nZzRwnQvwa29HpkIQtGKojZsJgvv/iSHzaFUWDVhwmj/PT3/AmUlaScPs6+k7HkVzVc6Km7FowUOHQey4Kn7qFTbSjrvl/M0hXbiK1zoO+QYfS1raCyuIRyfW+dpd9gxgztgSz5EKuWbeREUjH117tEXo/M2pO+E+/l7tG+lIVt5vuvFvHjhhMUyt3xdXXnj3bplLn156GX/8nDPZo4tWkpH73/Xz77cTNntN2Y/8oLzB/iyXUNwMtdGDzvYeb2UhC9czmLvvqGH7acoNRxNNOGGp/fccDASI5773k899wc2lWFs+n7T3j/g09ZuuU0tR4jeOjRexjkqdvuSoFztxHc+8xjTA0w4uze5Xz9yYd8/sMmQsucGT6qDx2czS8+NekaMFTY0WHgLB6Y3JnasLV8981iftp4mCyZJwFduuGtv+9Po9ueK3AOz73+An2NY9n+0+d8+OHn/LDrDHSextPCZka0t75pDsLQIoBZj47FLX0n3y0TDZG4EnHRBJt2A7j7madFPlqSemgVX3/8MZ8vWUdIoSWB/QbT28dKWlwkISEhcQcinQV/GRrqK/JIO5uJ0tqPTl2dmwVOY3Yov23ZzjFdxXkFOkx/mcdH+WIlV1GekcDZzAJqmoTWsXTBw8cb28ZUYnMUdOnXFSd5DelBm/j4xY1oHv0Xny8Y2PaWREKAZiYkkdVkTceO3jhZtn2qS2XKQULTbPEf3gu31iPSWg1NdWVkJSeRXVKLRmaBk6cXLmYqijIyabT2xa+DO1a6ni6tkqqCDFJScyhtMMPbvws+TlYYlCYSFp+DTaeBdHIyw9iwibyoY8QWedF/XMcLIlLTRHVBEuGpNXh26U2Hc9suaRqpLhFpmpZDcVUjxub2uNtVc3jZMlbW9OQfrzzK5M4XtnO6DK2K6sI0UkW8impVGMhMsffwpYO3G5atFqhoGirJS48nq94S387+OP9RB7imgeLMZFKyi6hp0CKzcsDLV7xPRTAR6Z7i3Trp303bfJJVbno62UXl1CoNkJnZ4OLmiaen08Wb9avqKS/MJj0rn7KaRgzk5ti5taO9uM/q3LGVVRkERaah8OlLD0/LP5wXqlWL9CvObMmXOg0yc1tcvVwx18WpHJw7+OFje6VpCNVknIgiTe5B3x5eWMou3iZBo9IdMZpEWk4J1Uoh+M3thK364u3SasV+YwUZacnkNFjh5+eHi+XVt59vKoznZHweTv7D6OQg1+8koUVZnk50TBplGhnWfr3oL969+RtVI1UlOaRn5FBS1STy1wxbNy/aebpha9YSlu5AhbMpVZh5d6Gdm82FrcaaiogLjSffoSvDOzoi06tVrVZNaeIhzhS60nWgsIU2FzKVEbn2Bz5dEkunha/x6uyAy06ikpCQkJC4NUgC9BppKjpLaGgE8TlXHjS27z2VST1cMbuWVROaSpIPr+addw5h/ez7fD238zVs6v03pLGElJRUchu9GNjT9fyCkvLo9Xz2yRIS2j/MG0/dQ9+LVLOExG1AVUDor0v5aH0h/V98nVfH+lzDyU4SEhISEjcDSYBeI7rFKI0NjTRdshq7NYYmZpiZGF9971BNE1WF8RzdF0TkyS0cynZn5pvfsHDQDR4Z+RdFU5nM4Y0/sHRPJR1GjmJkN2c0+VEc2LuLkDIf5jz9PA+M7obNVY9ckpC4iahrKcyI4+ShwwQd2UmU4WAeffVN5nW/hUv+JSQkJCQuQhKgtxt1DbmnN/LOy8uIk7vSb9qTPPPIOPws7tDpuKoGKnWrnPfvYfvBk6QUVqAyMsO52zAmTZ3OuL4dcLSUS5ORJW4fTcXE7FvFZx+vJ92qE2PnPcnDswbiaSZZoYSEhMTtQhKgtxutBmV9BYV5ZTQaK7C0dcDeWnFnD/1p1TTWVlFeXkFtowqtoQyFhTV2NlaYyo3anNMqIXHL0KpoqC6nqKgSldwcG1s7rC1NpOF3CQkJiduIJEAlJCQkJCQkJCRuK9KYk4SEhISEhISExG1FEqASEhISEhISEhK3FUmASkhISEhISEhI3FYkASohISEhISEhIXFbkQSohISEhISEhITEbUUSoBISEhISEhISErcVSYBKSEhISEhISEjcViQBKiEhISEhISEhcVuRBKiEhISEhISEhMRtRRKgtwqtmtqCTIob9H+3QqNspLo4l7IGjf6KxE1H3UhVRTnl1Q1cz1Ff6vIcssob9X9JSEhISEhI3EyM3hbo/1vipqGhOiOM35b/Slb7UXSzVlOeEUV0cikyOyfktQVE7f6Fw4X2eLo7YSG7vtPQlaUpRJ5JokbugK2ZMQY341B1VTW5yYkkFtSjMDdvOatdWUZqdCyJtSY4W5tiZHgzAtLSUJZNUkIq5RoF5uamGN+s5pC6nrK0cHYfjCBPZYefhymVOakkppagkpthbia7vOVVX0hsZCw5aiucrUyoD/2JT/aV4+Xrg4O5sf6mvw+qikzi4pIo01pgbW5yk/LsZqFBWVdC2pl4sqtNsLU342alsLL4LKGRyTRZuGJnaohG1UipsIW4jCZMHewwveUHvrd6tyo5tg7mN/BuSkpSIolJqMPcxRqFkSF/pVz8yyJ8WE5SAomFjZhamKOQCR+m/+qvhqaplsI04VtzajCxtUe48f856poi0pLPkldriJmFBaIKuBxNLbmxUcTlqrF1tkJ+UyqfW4OqtoSslARyKrWYWlpicst9gMS1IvWAtoGmoYLss6EcCYkmrbiuzR40VXkmkaHHiMkqo16lv6hHVRLP719/yoaKTvhaqNGq6jiz4U2efelrQkvB2NQMKxsrzq7/gTXH0qlS63/4J6mNXs1rT7/Az6FCWGlu0pH+9ensW/Y+b3z1G1F51aI6FVSdZsXrC3ns5zDK6y552etGQ0nMVr56+y1+2hdLsb6zUVmSTOiJI8QX1KK8rg5iFTW50ezauIljcaVY2Fui1ZRxZvsS3nlrCbuj82mzX7PgGJ+88DT/3CLEi1qDSceeuIYu4t2fD5Ndo7/nb0Td2a188PqrLNmfQmXDTbKNm4VWSVVuCMvffJn/Lj9Nhf7yzaA69Dsef/A51sS25LKqroyQnx7jhTdWElnVfOnm0ZhP9KGDHEyp1F8QaFVUF4Sx4s2XePuXG323GsJ/fpWnH/2Z6OrG6+rJbwtVRTYx4ceJziiiVqm/eCdRl8rub9/l9a+3cKagpsWHibTMOBnEkdOZ1Kr+KiNPWhqrcjn2y794470VRJfrL/+Pacg4zi+fvMTH6w6RfqUyo85i38fP88Tbu8hp0ldgWi11OZEcPnacjJtd1m6A2qwwNnz9Tz7+ZS8pf6F4SUgCtE2UJSkcXvUuT7/yDj/uiKSw7nLXX5e0h6/fe4VlB+IoaT3MrqkkftNXLE3x59WX76evowwDIwUuAaOYOGEEvtZgZGpHx2EzmDJIRti6NRxKr76uykXh1ocx42bS39fq5vVwye3o1HsQU4d1x9PG9BYaiBHmrp0ZMHIc/Tq6YilruVob+xvvvLGQ5SH511U5auoKiDqyj6PpFgyYO5eRneyQGZrh2qkPI8YPpLOHDfqgLsbUk0HjJzJK3G8kWvMytxE89fq9qHZ9xrJDOdTrb/u7YOIcwJCR0xjUxRlT+V+sd8LACIW1J73HjGf4QG8s9ZdvBqbeQ5gyeTZ9vE30V24hFSEsXrCABb+n6S8IDAwxsfSg9+jxjBjkc1Pf7WZRn3qQpR+/xre7Iimo01+8kzCxp0vfIUwd6o+7lULvw7LZ++83eP6zveTVK2+amL8xDDBW2ODTazRjhvfH669oLFfCyJZOg8czeVIAjvqhK61WTcHhL3nuxdfYndl86S+BsZUbnfuNYmCgL7a3wS1IXDuSAL0KDXlnOb5zG/sihRi6xkZzfcYBftyYRc9HHmCoa0vyGhjJ6TTpVf77r3vppncycisXAgYNp7NhFNt3hlN4HdMNFZ2n8M8PX2dmVyFAb5bGMPFg0L0LeeGBsXR0NL2lQ1e2ncbyyAvPM3uwHzZtqsI/ibaR0uQogkOyMQ8Yw5gA5xYDN7Cmw+j7WPjcPQztaN+2AHUZwIL/vM9r49sh0yemif9UnhxtzJ7lvxBV+lfpNbk2TNqP5Jk3X+ae/h7XPcXj1mGMuVMPZr38Js9P7YSZ/urNwDTgbj7+5p9M9P5fjWWKd3MMZOYr/+KFaTf33SSuERNPhjzwIi/ePxo/h1vrw24UmYUT/e56mdefnYqfuf7i3wFDFwY99Q4fLRiM/U2bO3VrMHfvwbRHX+PpucPwsdBflPhLIM0BbQN1VR5x4Uc4lVmLtklJSaOMdl064GElP+/MGnMj2H0sEnmX8Qzp5o21XHe1hrhVH7AotRevvjQZb3Pj5vu1aiV5EevZG1qDZTtPrHV1o4ExJnJDlAWRnAgrwr73QDrbXZBG6vpSshIiOXkihPCIaM5mFFBraI6NpRlyvUBqzA5l277jVNt0wNVSNwe0nuRDGzhwGhw9lKSGBnH8ZBgx8ZmUNsmxtrPGqEE3Py2UoKCTRJxJIrdCjamFNZamLXGlqYj4E8c5ltGAjZ0NlroJM/VpHN50mLPuw3hwqC8W5ybR1BeTHBPOiRNBhEfFkphZRJ2hNQ52ZhjrE6qxIou4kwc5k92EurGAM8FHOVOoxNTGEaPiU5w4HkkRNtgaFHD8yFFOBB3nZGw2KmNLmgpTUTt0wCRrL1v2R9Dg1BV3i3POTkNTbQEx+/ZyKt0Ah/aOmDYWEXVoGztjDRk2/x6GuCv099aSExHG8dM5aKxEWBYml7e8GrII3raP4zU2dHG1xNDAQKSnHHubOg6t3ESO72TGd7JsTiNNQyXZZ0QaRedhaOeOvelVHLC6jqL0eMJPBhFy6jQxiVnCnuTY2lliIhy3PpmaaShNIzL0OEEnwomOS2xeBCW3tMNG5M0FNDRWFpAi8vDEyVBORcWRmluB2sQSSwtTZPqoNOVHsf/wMQqNXHGy0s2vbSDjxBZ2B9Xi3Mmc/FNHOBQUQmRMApllKiwcXRDm3Qo1DSKcpMhgEU4YEbFJZJc2ITMX4ZjJRfrob2sL0RAoThR5e+KEeOco8c6ZVCoV2DrYYNIcPzX1FZmEbTvK2SZLvFxFA0pdS2FyJEfDUigXuaPKiyE4+CRh0QlklylRCBu1kDdRpGtgBJ8g9FQ0CdkVaC3tsTWXn2+ANaQdZd3OINSu3XEVFbq6sYbUoJUE5Xdl5F0jaa9XhFpVPRU5SSK9gwkOPcWZhFQKqrUiHEth3/r51I2FnDl6lGO5In2U+cSFHOfE6Wqs2xmTvn03h06dJCg4gVKFFXb1uSThSldnE5FuWYRuPUx8kxVeDoYUJ4WzNziRKhMH3GwV5/O8qSSZsOAjJJQaYa2b/3dZQ6GBlIPrOZTgyZh7O1MXfYKjx8KIPJNITrUBNk6OXDw9WdhGdRGpUSebbSNC3JdZXI+RmSVW5sLma3M5FRLEocNHCY1JpVIlR12Rj9LCGZv6VPYfOka5wgtna5Pz6anOD2PDjuMoHboIH6M3LpF2Jcmh7ApJABtvHM1117U0VReTLuwyODiEsBhhv0W1zWFbmF14XjONZaTH6vxGMOGRsSTllaMxc8DRUu9ftcL2ck+xcW8otWYumJbHceKI8Avi3mRh61qFDXaW4n0uTa5zCB8We+wYx7KV2NmZUhF7kIPHTwj/EkG60ggLgwrSys3o0E40RnXP0GpRVedyRu8vo+OSyalUYiLKnvW5ScPCbyZGBROUWCT+EHVCooh/cBin49IorpdhZW2JqbaKDJ1vPX6SU5HxpBc3Ye7ggKVuHv0V4qqqLyc1bDvBZ5uw8nRFuPErIPK2okD42zCRviJvI0W5zylDJWzPxkIhyrc+gJIY1m87SJHCG+emJE4cOkqQKIPxaQXUG9vhZGt6UV6ohS/LTTgl4nxClLUkskQZ19TmEBl5mhrHPgzuHYBzm62oMs5s3smhXEPaedshL43k180HiQwXz0mpwET4iYbiLIycOyLaAAItyrpysuNE/EWdFhodT0ZBNaLACb8l4q+Lk77uCcpqwNSgisxYnY8LJzI+leIGUxwcrJBrKkg/fZxDIo1Pi2eklTShsHfCpsWxtIlKX59HZtdjbu8i8kP/hcT/HEmAtsE5AZqicae3vzvF8VFUm7WjUwcPUUm3lN42BWh1DL9+tYbsPvfz7OgOmOlbhhpVA6d/upe3ftXSffZY/PQF2kioBXV1HjEnzlDt2osBXVp65zSioog5vIVVa7dz+HQiGWlnOXP6JJEJOTRaeeHtbINClNiqkO949u1lqHo/wFAfnWOpYO879/HOOlGpGKYRFRpJaMhJQk+e4ERcAQ1aAypTj7BVOKiwyFPiuqgoTsVTZuyAu6dH86INas6y5auv+SbGmN69uuKjG7NoS4DWJLN3+c+s3HqcmMwMCrNTiQkPIyS+BK2tFx08rJoXX9RkBrNlybssP5hNVkYoe7bsIKbGCt+ugZgn/cKib7aQa9+TAOdqgg4HEREdKxxTJSoh/pSVRVh3G4lHzgpeeeN7EtvNZEaAdYt41DZRnnaY7/75OQeaujNutB+ywgSO7dhJonE/Zs4ehOs5/UkJYT8vY9GmRKwDAujmZXP5wpCKYL559h2+1/Tl8SHeLb2gotYwNDej7NA69hd2ZMKEzliJwJvK0jm+5r98sSMTh56j6eFyBY+mriI1ZDcbVq5mu7CV5MxMEqLDCY5MFqLbXlSATpgLG9BZVF3GcTb+tJw1orI/k5lLthBwYeERpJVpsPZoj7uVzjK0oh5MJ3TXalb/tpuQuFTSkhKIDosgLr0ShaMbLjonrcvGqF956+PvyHcfS38/JyFuqjj25QL+/X0ucsdMjh4I5lT4KU6HB7E/KIkaQy+6BLjSrCV082gLkwjaspoN244TlZBM4tkYQiPOkFJqiL2bG84254Y2L0FbS3rQRlb9vJJd4Slk5qaTEHGS40JYluFEh04umBkqqcgKYtlzX3DIrDuTh7RD0VRM7L5VfP7lRsLzSkUFf1qIV2FPQccIjoinSGOMKuc0hw4c4EhwOFFC/B0MiiC50BCvzr44WbSI4oojHzL/nz9jP34hg13bFqDaxgqyog6wfs3v7A2JJS0rk7SEKFEm4shuMMPFzRV7cxkGNbFs+PgLFh9PofrsCXbt3sHe44YETPemePNuTqSkkJReSJ2RsWj8VFHq0IsxHc2FsD3B988KuzQNYMoAe/JDt7D4m99JN+nCoF4eonLVJZRolIZvZMmi1SQadaBHYEfsTFp8ywXOCdAGDGTZRImGSXj4aSLDRAUcmkq11oWO3dz0eaamrjSdkG2rWLdZVLZnRZ4lnhGN1xgSijTYOLvhJisS6RnEsdBoMvJKqFcZoaqtwNynJ+21EXzzzhecthrKqG5Ozf5FR/6ul3nkPxso6jiHaV1buo9UNYWc+u1jPtyYg9+IcXS1M2yxyz1rWb/lAOFnU0lKiOZUWDSJ+SqsRXo62eobpfU5hO3YwOrfD3AyXthHcjThISeITi9D7hlAB3tRljQqKiJ+4MF//Ehuown5UUc5HhImyoOwh5BQUmsUuLTzw/1Kaq0mjk2ffcnis6YM6N0OVdx+DoZEE5+YQ5nKACNNrfAIXgzv74PCQIhPIXB3Cl/2qxC8sSmiTMWdEukWRWa1Ebbu7YXwFv6uIomd677ls7XHyCkUQls0vMOEfR4/cozwMxk0KowoizrO/oOHCQoReSTK1aHgOHKbHOncTdQb+nJ+KY3lGRz+/gWWHrEgYMJgvJvF2qVoqMmO5uDWdWzac4zo5Gxy0hKIiQglKqUcUxFHD1366gpA8jrmL/yM5EYrKmJE40mI1bDTpwk7fpjofCHI/QJob9vS0aGpKyX55HZ+/HGlaOCHEZ8ufHR6OpnpCcSnZqNoN+gqAjSdjY+/yueZLsye0h3rohC+3xgkfpsiRGwjRkYy0VCvwzlgKO2sReOkMo/o/etYs2k3obGi3CSdISI8kvisesycXHFxtEBW21L3LN4TQ0F2Bilx4YSEneLkUWErsTkoba1pOLWZNXuCiTh1iqiIYPafiKVUaUeHbu2wbnNoS/hrUVf//svnbBLtpc59Bv+9pjrc4bRZh/xdiYuL49dff+X7779n79691NbW6r+5PuQO3gyeOJnRXkpO793F0TO51F1lJLYpI4agvAa6dOuImdE1JK2xBTau3ribl5Adm0pR8/oeJWVJx9m+Zjepqg5MeuQZXnzlRZ6ePwzbjIOsXnmAuMIaIRGuhEZUugmklDjRZ/K9PPX8izx133g8Kg/xy3ffsykoH7t+03j4mRd44am5DLApIUi0ZI/FF7W9OOcKlESt55d1QSg7TuLBZ17ltVdeYsGckTgV7uCXFdtJaLUuQyhzikrzKDf2Zcy8Bdw3aTC+rXp7m7EPYO79C3j+rn44WpngP/lRnn/pdcb6meM2YCYjXDSc3n6c3HPz3ZUNVCSHc0ZpQ7dRPXE1aqKiRAiJtEpsPX2FYGu578YQlZXcHf++djTGBBOnXyRgaGpLe5GGd08bQ1eHK3VZaITYD+K3lWsJLrVl4KwnxPu8wgtPzmeYTSrrf/ye/UlCaOvsqSGdvYs/5dt9pXQY+wDPvPIKLy98gtn9ncjd9z0/rTtKhs6U1dVkRx1m/e8nKXQcyoNPvcArLz7LQ2N9qY3czppdwUKw/lEuChuNrMd32N0seO4lXnj6IQZbJ7F91c+E57ckrrK6iJiDv7FJNBqs+9/Fo8+8xEvPP86sXlakHd/ApgMR5NVcYRZdSQyrRPnbWdGOSfc9zcu6d3nqXnrLT/PDN4s4lNGkv7FtNGVlVBY3YBs4nnsff07Ebx6DrAs5sW4JS34Pb+6VmfXQM7zw4vM8Msye+F0rWBuaSf01r1jTCbVUwvbsIDTThJ4zH+H5l1/lxacfZqRHNae3beRgRObFCwNT4snWeDFo9mM8vWAUfpZeDH3meV5+ejJ+otI37H8frwv7f3aQi/4HrTCxxq1jIAPcasgTwia5XB9PVSnpCenkqfzo3KkjLpZtyZNznCEsQUu3sfN5+uWXeWnhY4x3z2ftsu/YFFPWfIeqrpyzRzexdkcSJr1nifL9krChJ5kzwInCsN9YvzuELIN2jJ7xIC/cO5pObhb4DZ3JY8+/zvTeXjj4+TPQ1Yzk2CTKmvRzJLUlROw/jVq8Y+T+UIqbL2poqCsjLSUPK7fedHKXoa0r5uzx7WzcF49Bl4ncr7PL5xdwz1BXCk5uYf2ecLIqleJ5NaQfXc8PmyPR+A5n/pMv8PLLC3ly9kCMw3/g828Pny/fOlSNjULoJVLnPpjZjz4nbPBRZvQwJ23vVnaGZHNt01cV+I54gAUvPMxwO9E48xrBoy+8xGtzemAhklyrKuH0hsUsO1xOx3HzeOqFV3jpuUeY0l2Es+tn1u6MRbQBz1NRXE6RaKT4jbxLpPFCnn9E+NbyCH5b9jUrjmRi6T+BB55+nhdffIqpvqXsWvktB5JruaE1ospyUkIOsD0oA5OOY3jomRd55dWFPHZXD9TBW/hp62nyay6e15ohBHuORU+mPPgsL734HI9O6Uj1ofWs2p0kvLFAN10pNYytv/zOqQovxj8s6hnhc+6b3F00jSupKfuTq3XcR/Laq6/w2Fgf5KYWDHvgdZ578hF6O4mgGipJD93Fr1tDqfcZI/J9Ia8ufJr7Rwu/dWYP64VfTy694BfUmRmiLrQnYMw9PPGcqKeemIxX7gGWL/6K7/fn4TZwNk8+rysHC5jVoYpdK5ay7exFFY7E34Q7RoDGxsaKltyPfP755+c/O3bsoK7uRmbZG2Pr259xU0fhUR/Jzl2Hicurvaigt6YsK5YipTO+XjYYnhsSuSoyzKyccHKSUVucQ3mzXlZRkptFdqERnfqNYMLIfvQM7MfwaQ/y+IJnmNOvHXaKq2WbIXKTPsx5+glmjRrMkKEjmTjtLu4a5kFtfQ3mATN4ZN4URgwaxtipM5kyvg/2pTlkpxXwpxZ7Wwcwe6FwAgtmM6J7Z7x9AxgwfgZ3j/KkMv0ESSX6+5qR49y+P7MefIYFjz7AzBG98dG3ws8jt8TR1Q1PZxvkxoZYOrji7uWJg7kRBnbdmTraHWXUZoKydDWUFpVwaimnIqizCWBEoBNGmnqqSwrJqbbEvJ0ztteS/NeAoZEJXr5dUariySloqR1lli4EjHucBffNoq/HFWa1aytJOnKEkHwbBt71MPfOHE3/wO4MGD2LJ564i37yLI6dyadJKNDa+C0s3Z5A+znP8+wj08T7dCOg3zhm3v84c4WASDy4hb1JFcI0qoVtpJNR50K34ZMZP6gPPfoMYsI9D/LEgnsZ7u+JhX7E8Mr4MOqB53hyxigGDx7K8LGzeGBqZ+rr4onP0C21UlKZG8vxwzHUd5/Nw/dNYUi/HvTqP4a582Yx1ltJcswZUoquUK5KEjmRXofj4DnMHDOA7l0C6DN6Ds8IwfjkXb2x0992RezbEzhxLvNnT2T4oKGMnjqP2eN64FJfhLzdEKbPmsXEkUMZPHIKD9w7ge4WlZyIy6NB2VoxXh0DhT3tRaPmiWcf496Jg+guBKB/v9HMnDhMCMpKMjILqWzdwnPvw5SHHufJhx/igfsG0d7CEnsPdzzd7THXja1aC7v18sDdri1bkGHt3I7OPTxEup4lMrlcSDid/swkISUblVcHOvi6iue03N023Zj++NPcN2UkQwYNZsQkIZSevYsAZSTbf4uiVPiMWl267wmhtMtsHntwGsP696Bn35HMvns2kzoZkxUbSXwx2Dq64ulqh5nCGDNbB1w9PZsbfMYWfvTs44gqNo7UaiVqnZMrCmPXKXtGje6PScQBTuvKtFZFQ1UWGWkGOPf0x8dUQ03+WUJOhFPpOYH7HpjNKGEvPfqNZNb9dzO5g5zUCPHM/Go0lYns3nqIGt+x3Dd/JuP7d6db4BDGz3uaJye2J3PfekJ1I9x6DE3M8RoyiwWPzGb88CEMHzORSZPH0VFbIcR8lpBJ14IRFg4uwpe4YSczxlBhg7t4Z0+3llEQdUEIq9aewHX6syy4exyDA/0JHDiRmffcy0hvNQknj1+0ctrSqzvjpt/D3EmjGDpoOJPvnseUwb4Y5DbhNmQas2ZPZtSwIQwbdxePzx2IRWMsp5KqbkyACp9uJfzn9Puf5vH5MxjaozMduvRi+Ix5jA80IysphbL6i3dJsOo9g+efuoeJIwYzdNgoJs29h/52DeSFJdLsmhvLyIgP5ki2EX1n3s8j90xlzFBR3ibP5Z7pY/D3/JPdhKZ2eHp74m5vhoGhEbaunni4u2BtoqG+LJ1Txw6RZTOG+x65h7EDexLYZxhT593NjJ62FEafIT6zQjQN9fgMZvq8OUwbp0vjYUy4+0nuHmRNY1I6tuOeYsFdYxgsysHQMTN5ZP5wHOsyOBLfynAk/jbcMQL0gG5oTlT4FRUVKJVKUlJSWL58OZWVN9gyktnQYeA4po3wou70TnYejSXvCiuSKkvS0agdsRYq4Epzfi5FrtuX0tKEuoZ8KpoFqAwbByGg7OuJCdrLzn0nScgpo1ZlTefRd/HgA6Po7Hi1vQUNhPj1wdvlghIxlplgLQSdqbUV3h3bY3fuK0NTTK3MMTdsQlXX2FwxXisOAdOZM86f2vANfP/VR7z33nt8+Nk3rA/KQ6utE8JKf2Mz5tjbe+Hlbn1+buifw5IAUfG0bzrDthNZorpV01CdxunQCqx7jKKHs3ghtZLGmkrKNTKMzc2F5L05GIiMtLCxRaWuoqjswlp4A13P17kJl23RWEh6SgH1Dl3o7ueKbavhVXO/0c0t+xkB9s3zefMjdpKs8mPcxF7Yn89YQxRC2HQbOgTnihyizuTQYGyOjaMTbobpRB3expaj0WQUVaG08Kb/pLu5f0K/likTV6UrvbtY6/9bhGJoiLWdAxpRQ9Y2KEU61lKel0hcTBa58XtZ/vl7zXmr+3y6bBMhScXkVFRTWtPGCQs6RD4HOsioCNrAmq1BxGQWUdMkhI//VJ568jGG+fxBzlhZYuFkj/U5GzUwx9pRgbmVPe1EBWdnc2FRiZG1Dc7GxlTVNYn46y/+IUaY2fnQY8QIOlmVcmLNEr78WPd+H7B4/THiC0VZUKtRt36eT0e8nSxQ/KG4bxtjKxfad+uNR0MuCVFJwkY1zfNP0/Lr8fLrhK+rRZvDsxfoRGCHVo1aYZPm7YYyrquS8shYsuobqC5IIDoym6LkQ6z64kKeffLdWo7FFZBfWUNx1dUa45Z06huIWVUY0Wm1ze9fGrOfkxZjmPfkTPqYRBEUVyaUswgrO474Okv8A/2woKG5UZQYnkzu2WOsWdziC3SfDxat4WhCHoUlZVTW1lMjfheZU05x4nHWfvs5H+jve+/9r9kUo5tvHyPsWR8dgbFcjne3Loj2eQsGMuTmVliZCoFcXX+VUaBrpzr+OEH5SsoiNvHV++fS7UO+FLYenFlOnRA3xa2qECtba5zsrTm/sYSoHxyczTAzbUdHL2cszS4YibUQ+DoxVl0vCoD2BhSozJb2vQYxPNCaoqgdLPvq05a0+/AH9osEq2tqEg0G7UUC1LtnD9zPuwJDIebtsLXToC2rFU1MXTGvpig7lRpHR7p174jN+fJmgo2dI1bWN2u1jpKqkkzighIpyghj05JW9vH1CvZEZlJYVkF5VatRPRdnHKzMOO8yDWxx9jbCyNiTHt3dkZ2rXMW/Zbb2OIl3Lxc+QOLvxx0jQAsLCy8bcs/KymoWozeKsa0vgydMZ4h7E2E7dnI8ru2heLVSONE/6WgMdMO8BkqU6hoam0ugMQ6dR3DX/TMIsEhlz/Kv+ei9d/iPcNK/7DpNbp0SzTX1rl6OkRAbcuMrTJT5s1REsvKD9/h6YxDZ1WBi5YSrkzOOVm1NYhLxNbgxU7PsNoNJXVXEbw8mT+RpVUo4wRVW9BndBwfdo7UaIf5VN6VSugzxfF2+Ngu0a6WpvrlisLG3w9rsku2sZM70HDOBSYGuyIxqSU/OFSnUnY6elygckVcm1vY4NCmpKa+kycgSz17jmT9vNF5lJ0Ul/invv/s2736xhN+DhbBpVAuRov/tVbjq7BCRhk21VdSrZCLe5hjq7Pzcx8iODv3GMm1UX3yvJHQdevLI8wuZ7JLPkV+/4ZP33+U/b73Np2sPkFwl7O86RZyuF93Q6NobdldDW19M0tF1LFq8gl1ROdTrFvfZuwphYYNCN4H2Uppt9wYCNrbE3bcbPb2V5CZFkiYq3KyzKeQ2etCpayfcr9792Qa6RqYdLh5CKNcUU16jRllbSa3SGBuLS/PMBp+eo5g6dhCdWlaDXBGbLv3oaVJCxNk84Y/KiDwQgmzYGAI79mFY9xrCReO7uLGe/OQkyswD6dlBN89FNPxq66iqkiGzFKKhddgaC7z7j2LmxH50EGGrqiupUZqiMFe0iOlW95q2G8VDD87B30b83QpDg+s2mGuivqyYGgMHLHVDB63iY2giRF+fScwcPwjPa1qdboixaEzeDPu8HNFgEaJ9ww+LWb4zlKwyDWY2Dji7OGBvZnzxAi89Rn+QbmqVyLe6GkxMRDm3aHOS501CLVxhDRVlxqIhZn6JfZjhHjiEqVOHECAaYX/suoTdXF8PhsRflGuorv4etGvXDhubi71X165dUSjOr0S5AYRj9x3IlGnDcKsPY+vO48Tl114YMrjJGNt403vM3Sx49jmeeuhuxg/ohHVtHDtXfsV7Px8ipbiuufz+72gg9rdPWLqzloDZD/DQI4/x2CMP8sC9c5uHo24JZh2YMLEbTQmbCUqtITX0KKU2Axjd0/4vbcRKXW/aVRslMmGjun83IHTmJYjfaYWV6X4vBLaoVrBw6ciQmY/x7DPP8MT8aQzzd0GdfoKNSz7ih20hZFbcHKvUWDrjNWIOTy548vLP1MF0aXtlgvAotnQeOZuHn3uJZ5+6n+kjeuIjL+P48i/56L+LOF6gv+9/RiMl6eHsXLuXVHl3pj7wCA8/8igPP/QA86cMppP7rVihYISlizdduvlQn5tCpG5Xi5RMmlz96Nzh3KKkP4dWNLWUSp1dKM93rmnM7HEeclfbeTZzBD3c/0BJ2QcwLEBBRsRZCkqjOHq8ioHDA7ExtqfX8D6UnwwmpriUtJQcTLsNoIut/nc6TJ3oMGAKD7UV9tyRdHWzEqmgowmfgVO495E27hOfga7NN91WjGRaekxrOz7zpo+nwyWi+LZTlcbx3ZvZk6yl24i7eOQxYbO66SAP3MPIbo5Y3KQ+hVuKEPSevSa0bR/3jKe3j+1VRvUk7lTuGAE6adIkpk+fjrOzs2jVmdCrVy+eEZX0paL0ujG2xnfIFGYO86IudAu/7Y8mVzexvhUKK5fmIZc/jxkmMjvMdaOTqlrKCjJJL2rCwqsPIyfMYM499/PEM88yt1s9Kbu3EZpWSv2tUr/XRC7hGyMp9BvOrDF98HV3aN7ayFgmXMi1j4X+SWS0Gz2NgMazrD+wk4jjxbiNmEjPc9lrZIxcYXbLNv7WDVXbmP/R8HYrFFbNPZ81xSVU1NRd3FhRFXDm0D52nc4XAlWOd4cuQlBEEJdxSf9tUyN1hTlkmZlg5+qIvKGGkuw08isNcPYfwthps7n7vkd5+ul7GWBeTdBuIRByym+sF9jISKSjOaZVDdSKRpaRoyOOTpd87CwwbaunUIRcW5BBWlIhBu4BzaMGs+fO58GnFvL6vK5kH9jAjyFZ+nv/R6jqKMlK4lSWAS4DRjCyuy+u9laYm8owMBC5pLnxEZO2MDR3oV3nrng3ZXNy525OFCrx6BRAxwtbNfwJtGjU+WQmGmNs74mTlRHGpuaY1zZSk1OFQZt5ZolZm3nWCkNnAgd3RhUXR3jwUQ5VD2ViH5tmn+bYaziBJYcJCo8hI15N5/7dcGx+nLAXMzkWRlXUF1ahtmkjbAdrYS/GmJhaCvNSkVZc37yt1mX3ic/t3iLH1NIOtaaapCJlm/Gxs7Xiol3Q/gc0FqcQk5iIgWcAAwf0wc/LEWtzBSa6tNKN7l+HyzWWm2BubUtDfRPFFbfyqDdDZAoTrExracwppdH68jTW2YeZQpQ//S8k/v9wxwhQDw8P0Sp8mC+//JKlS5ei211q4MCByOU3z6MZW7dj2NRZDHZvIjYkkryii4f8be3bCQebRmG56pqn/DQ2VlFVXoGZiQvN0240FSQe3MQ3n61kz5k8GkSxNFZY4ty+Cx08hCOvqqK6QXnLel+vDRNkummEuZkIjdKCVklNUSwHd4XqL9wgbbyg3HscUwc0krD+F/YUOzNsVCDnFw8byjGxtMbWuAFlRcUfn1ykbqSxTjdXVXPR3KlL0Wq0VJcUY2xkj6P9BbGgVWvFI66SCzIXOvp7YlMWSXBMxkWnaZXHbGPxd98SktuISlx2GTiD/vICtqw9ROH5ykRNbVk6J/cepsauI4N6eWNUk8upXT/w4bI1hOiWxQthILewx6uDH15ONtTX1FLXeIOnvBiZY+vemQA/3X57QiglNq+ZbUFbR8bpUE6d1q2U1l+7CENKo1fzyQcfszFCVDYieQyNTbFy9aVfz/YYamsoa5no/L9DNCQMjeTIq2tpKCzh/PqSumxiwiKJT7yO8xDV1yBaDc1x9/WnSzs4ffwg0dVOdOzWEderj4rrOcm+sALUzSuDBEJxlIZvY2uWHOchfWmvUGDl3JWeooGad3obh+NarZrR1pNzJoLw0Ljzx92eR2e+FxmLMe6Bg/BuOMkvS/ZQ0H80/XSrxgwMkTv3ZWBAFvs2biOxwYu+XV30PZqmOLj5incx5OyZExyPLkTXMduM8AmF0UGERCdQVK/BxCeAvu52lO/bw/HkUmpbt5SKT7Jywxkqb/XQjgiztemadx/OcMsmYn7dSEip/qIOpW5/zBD2BWXSxkF4txVjY2MMRMOwqLya6toLc68rzxxmT2wR5ddxiImhhR2eHQJpX5FHdEg0hefyQpTxgtwsSopu8FzQ865RjrVDO7r1tiAj4RgHwvJoamUfJQmnCIuIJudaT3qRuKO4YwSoDjc3NwYMGMDw4cPx9/dv7gm9uRhh2W4Is+8aSjsnGaqLV9pg5dkZL1kdqRnFzYs6/pgm6qqKhWA1wsLdC3vdqKaxPZ7ejshKD/H9V1/w9a97CD5xnG0/fcR3O+KoC+hHgIctZv/TnHNmyJSBGJfs4f2X32XJ6nWsWvYxL73xIVsSKmlSqigtv75WtYWLBw4i30K3r2HdxnWEZDe0rMgVGMhdGTZpBOQXU+40kqFdWw0pGphiYeeMq41w0smFlP5B8tfGb+PDfz3P0sMpVFzFgWs0KrJTYpAZ98DHvSXRleWZHF/1Bs++8xU7Eq+wsMPADN/RUxnb1ZjINZ/wxeJf2X3sMFtXfcG/P1jDacPeDPa3a95vVO4zhZeeGUrTnk955Z1lbDh4nJDdK/n6/XdZE29Iv7vvZ5y3KcaWDri5O6KOWs+3n37Ej1sOc/zEflYtXspGUVG6B3TBz+1Gh7Lk2PoEMnrOeFxz9/PDJ//lu/W7OXh4P6u/ep/33l/CzogcKq8gQB279cW1Loa1773Mhz/sEIIkiiObvuOtDzY1zxucNcBbf+//CEMLHLw6E9iliogtS/jww6WsWrWUD995jy/XHiW9OovKmhLqrrDG6iJ0+906inr04Cq+W/M726Iu2vrhEgwwdRUVcWdfXGsbcXBoTxdf12tcLJfPga9f59+LV7Fh00ZWf/cOr364jSK3CTw+xx/dkkQL166MnD+d9mXH+Pnj//DNmp0cPHKItYs/5r13v2FzSAYV+jwzs3fGwdyKhKO72bThV44lFZ8/9lbm25MhzlVkpxfTf3gf7JobeKIRbOJKjwEBFMSnUuTSH3+fc+O+wnd5BjB8yli61h9l+dcf8eXq3Rw6vI+Ny/7Lux8s4rcTaZQLAWpg05W75k0iwCSWlR99wKIft3Ak9DC7V33K08++y4/HkrnS7l43jhM+PYwxztjCylUb2LA/kVoRlsx1GM8/NRZF0no+eOM9ft54gONBO1j59fu8+u4P7DlbQOMti9O1YeTsRw9fH8yit7B40Vd8u2I1P37+D2EDywnKKKMxsZiyBtWfm5Yls8an+1AmDbLmzLpFfPDht/y6aQ0/fCHy78cdROa1WcCvim7Bpo2XLxZ1tez5dSmbdu8lvswQU8cODJwuGtmyCNYueo+Pf9ku/MkhtvzyMe+/9xm/HkyguPYqjXmJO5Y7SoDeFowt8Bk2m3ljutPO5uLkM/LuwRhfE+Ki4qlSX0OBUtVQmpdJTo0Dvj39Woa0DBW49p7KgqcfYbx3NSfXfs3b/36Xb3+PxbDnY/zj+Tn08rS6ztXkNwsZnlPfZunb47BK2cVP3y5m+Z4ULPvP57mHxyBvaCIh92qV8ZUxbjeOx2cPwixjN8u//Z5TWXUXtjAxMMK5/zgGy01wGzWc1vpT13tj6+hDh05ulBUmkPMHwetOxzgbG0lqUQ1NV8wqLeqmDGIjGlAMH0R3/cJQrbqeyrwk4s+mU3lFoWKAwqk7s555kYfH+FFycjVfvPsOizZEou39EB/861EGe1q05KOxHT3u+w+f/GMStpk7Wfbuf/j352sJq+vGzJfe5fmp/tgKpWJgYkunYfN4esED9DA6y9bvP+Stdz5j7clSfGY+ybMPjKOro8kND2UZmTrhP/5RXn7tSfopUtnxwye8++FXrD9VTfsJc5kxvtcVe+5M3Yax4K03ubenKWd3fMPbr77K2z/sJdNmNK9/9V9m+t7KBQ/XghE2Pn2Y/cxL3BOgJmrHLyxbvoMzqo5MuucuhgTaUlRaQZVu6f4fIe/KvDceILA6iJ+XLGZ1bLH+i7YxMBEiqEM7unRrh6+vP77O1zh5z39e81GN1qm7+OHLL/l2+QGKXSfyz7efZ6RnS3oaKYRtjHiQl998gRE2Oez75VPefV9U7sHFuI6cxexpA/HQJ72RW39mTh6Bd8Npfv/5B46dyaPuXCeuojMDBovGjmwgk4e4nq8gDGUKPPqNprexEfL+fejQqm1vqLCj0/D7WPjSM0xwLiZo1Wci7M9ZcSgf5xHzmTthAF5WRiIBTHEbeA9vvvci0/1qCf7tG9598x2++i0CA12ZeH6Yflj/VmDDoAeeZEK7Kg6u/I7v9idRJ8q3gbE1XWe+yucfPkTXxlP8+u1/efu/QrDHNuI/8T4em9KVcwdA/c9QuDP07id5cm5/ZCmiIbjsB34LKxZl8TEeG+2DkzqLrLJGrnkr3GaMMHMJYPS9T3LfKCvSj/3KosWr2ZNgSMDI8fQKuI6GooEhlt3nsXB6e3IP/8zPP28ipUxcllvi3W82z736Cnf51hGx/ivefe9jftiVilnvmdw9YxQdbKUZoP8fMdD+2WXb/w/QKusoLymgQmWKo4srlpfVExrqSvMoLK1G5uCFs425/gjEJlJWPcnd39nx7ub3meSiP3ZPq6GmMJG8amtc2rlhpS9r6rJk9q/4gmVRnjzzwWuMcb9QCDVNdVRWlFFeWUuj8CyGclMsbOxxEGHpjnDUoa7OJy2vEkv3Djjrtn5CRXlWMoX1Dvh0cuT8gLFGSV1FETkVKuycPZr31tR/QWNVKUVFtchsHXGwN8dYXUdpfhGlWgvcnG2x0C1bVlVTkCnSw8wZP2fL88e+qWpLyC8opbpJg5Fct5LYHiuDanLE80wcPPCyNUHdWEVZUSF1hvY4udhx7mQ7HcrqAgqK6zC2dRHvZdZyLJ6oFJoqC8ktrqBBaYC9py+OuiNNdd+JdKwI/pjpzwYx55ffebbHJT3cymIitv7Etxty6Pfi2ywY6HDuC6oLiyiuES10F4fmoxuLDr/P0+9H0fvl93hqTCdsK3fz6tQ32Tb+CyLfHIaZLkO1amqjf+T+J1YR+OlO3hpu3ZyfWlUj1aX5FNXJsBf2YXu1ozi1KuoqyyktK6dWt82BzBwrO3scrYXNXLJ8VV1fSXFJCZXVTWgMjTCxsMPB0Rarc0efNqPbA1W3qrSUipqGZvEsMzETzxTvZWl6/phWdW0RWQXlyO29cbbSHdWnpjI3lfwqK7w6u2B2LmiRpsrqQlILa0XatMNFd+pLyxeoGmupLC2hvLqeJq0hcoUltrpV/eeOzrsSGpE+In6lFdXUK9VojUywsLDFwckOs2YT1z27isKMYpQi7z2dLDDSChstL6FA2KiZo4uIx4VCd95ObJxxsBXpdi7sNuxSVZlNUm4NDu264CREsu4Y3OqiVArrbHDxdjl/1KFGWU9VaTElonypRIPK1NoOO3NDaipKm4+TdXG0w9yonpLcQsoMbfBwtmmxiUvQNpSRnV3UPJwsc/LGz16hf7cimmxc8XIW76a/F00ZUb99z5KtuQQ+/jpPDPf4g95qNVX56eQrbfF2VlBbUiji24DGwBiFlT3Ozvb69DyHrsEkGkfivcqq6przTGZi0ZxnNsI2LuSZFmVNGYXFouw2aES+ewl71J2k0/JtQ0kKmSWiIeznLnzVeUMRZbmCvIwSVI6etLO7dO6qLuw6qspLKausa55+0Ry2g4P+qEj9bTrUDc12VVKha/wJ3yYT9mvvjJPNuWMihX2IPE/Jr8HaVX8SUTMi3vVVlOSLOCgccXGzEjnXBsKHleSJfDOwwt3JFvNzc19VtRTn51NaI9S2pSt+HudORNMKk62htFi3o0CDSHXdvFYrkW722Ahf0fxrVT1lpUWUNZrg6OSE9fm9mM/VBVqs3JwuPua3oYTkrBLhC9vhadd2w1B3Sl5lYSZlIo9dPJ2Ezem/uBThR+qryigRjaPaRuFvTS2wd7BHVldAYbnwax7u2JnJMGwoJjGzBFMXP7xsLqSORhf/nCwqNY54tLfjnOfUqpqoqRR5Ua7b+UL4HHNrHKxk1FVXoJTZ4GRvi6JNI22gJDmLErkD7b1skeuX/2uFz6wrySG3tE40rE1x8vTBpjkwYR/KBmpEGS+tqKVB2Iex8Fs2tsJvCdtrLlpt1T16GkpTyCqWiXLtia3JuVOldPlWTrbOJkU97NtqilRrGtKO8MM3H3DIcCwviwaxaFdJ/EWQBOhNRlV+go/ue5XY2Uv59aEAjK60ZZK2nvzonfz41SZqxr7Jv+8JuIZNxP9/oxUCc9db03kr4QFWb1hAl8tqHzXVKUGsXraGKLupvPHiFNq15ZM0BRz48DU+TfLn1TcfZXgH4cgz1jH/no9QP76WlQ91FiLfQDjtcg68PYP/lD7C2i8fwEdxhbyUkLgGGvNPs37Jd+yv7sGC155isKtU4CUkbjUVZ3ew7MtlnHW5l5dfuYeAm3JKnsTN4HxjTeLmYGzTj6efH0/60m/4Pf3KYyJN5fmcPnSUGPkQZk7oIonPq1ETz+afv+Xtp+fz9p5GRj00iw5tdn0YYeHTneEjuqDI2MPWk5kX5sK3pqGaclV7ps8Zh79JBts2/Mh7H/xIfJU5PfycW/YoFNRHrGDJXmvufXwuXpL4lLgudL2YCRxa/jH//vd/WRqmov2AYQTqDk+QkJC4ZTQUpxO25Wu+XrKOfWdMcHD2xOma9nSVuF1IAvRmYyDDbtQLfDGzhPde/ZTg1isr9ajrijizZwXrgxVMf+4h+thdfSDu/z2NWRxdtpQNMVZMfHM170xyvOLQpYGxDZ2GTGJigAlx65az40z55SLUtD3TXn2NR8cH4NSUxZYVK1lzWoX//f/hwT5WLcOFOVt546VfcXnpUx4LvGQjeQmJa0ZNfWkyJ/es43iWFdMefoqnpnfDXDIoCYlbSkNVOqGHVvBbcA6uY6Yyc2pvHKV2318KaQj+FqFpLCHspy9Jm/A+89vrL+ppKMnm9L5fKej5FNM7W7d5koVEK7RqmhqbRFVuiLFMftncycvRoq5I5VhoEvWWXRk/yOfCPLxLEc9ubFKi0RpgZCxDJtSn7unVez7io4Y5/Gdq+/PzKiUkrgetRo1Kqds6TdivsTFGRufmsElISNwqdPNR1aLcqTRgaCQTZc+IK82Ik/jfIAnQW4ouaSWL/7si5Z6EhISEhMStQRoIuqVI8uXvjJR7EhISEhIStwZJgEpISEhISEhISNxWJAEqISEhISEhISFxW5EEqISEhISEhISExG1FEqASEhISEhISEhK3FUmASkhISEhISEhI3FYkASohISEhISEhIXFbkQSohISEhISEhITEbUUSoBISEhISEhISErcVSYBKSEhISEhISEjcVozeFuj/W6IZDbUl6UQfCyG9QoG9mzVy/Td3FA2lJJ8J5WRyGSZWTtiY/j3aIprKHE6HHefkyUiS0vORO/tiq9B/qaexLJ3Y0CASS2RYOdpiesWD4CX+J2hV1BYncvxgGJkaWzwdzf9cS7ixgOgjxwguMsLNwQqF8RV+rTvnvzyJY7uDSTR0xs/hEkO5Q9AqaylMOM7hiEyw9cTB7CqpqSwlKSyEoPRaLGxssFL8mcKhobE6m8iDRzhTbIqrp81f2jc2FcVy7NhJcpS2ONqYIzOSzjaTkPgrIfWAXoaK8oxwfl/0Jas2x1Kuv3rHUZNN8M4f+XT5NiLzG/UX/9polXmc+Hkxn370MUtWbmDzziNk1Oq/bEVNbgS7f/6YnzeHk/f3eLXbj1ZDftgKfl17jPR6/bXbhaaJyswTrPriC9aE5okS9yepS2bPki94d0M4BdVN+ottIARobc5xvv/vJyw6ka+/eOehaagk7cgqvli0hlMF51KzgeKkCPZu2ktIcglK/VXqswhe/z0frThAXGGd/uI1ItKzvjSeHYs/47vtCZwreo3lGUQe2MDuY2cpvkp23G4aM4JY/vUiNoZkUtWo1V+VkJD4qyAJUIm/DZq8I3z5w2aKvaaw4KUXeeqx+whw1H8p8afQarWk7X2Pjz//nfga/cXbhaEMK/cezLp/PjN6uyPTX5a4PgxNrPDsO4v7755BoOu51KwjN/IQK79exe6oPG6KLjQwRGHjx8h5DzB3fCes9Jfri85ydO2XrNwSTm6D/uJfAIV7X6be/RCTentiaSL1fkpI/NWQBKjE34bahAhikdP/7qe4a8wQBvTpguMdOT/iDsdAhoVbH6Y9+iiTAxyQZkjcGAZyCzz7TeORByfjb38rU9OoWYCOuP9x7hvhw199QoPMvTd3PXwfEwJdMZdJAlRC4q+GNAf0MtRU5SUQfiSSepeBDB/doaWl31BA9KGd/L7nDDVmDjjZW6LJPcnmTTtJaLLH3dEahfHlTk6rrSZy/desP6TGrYsh8Xt/4/ftezkWEkNGpSG2Lm5YN4soFaUpoez77SCptVa4etti0vwEQVk8mzf/TmihAjcne8zljSTtW8GaHcXY+hiQfmIfm7fv5NCRcBJLwdFTtPipIiNiP5t/28reoyGcSS/H0NIFZ1uTllZHnXifU8FEllvRw9eZqph9bN25l6OhseTUyrG3t8VCYcRFb1SXS+Th3WwRYR08cpLIjFKMbDxwa3kBVHVlxO9bwu/HKzAyryVq5zr2RWejdfDDw8q4+Z7L0DZSkhLBkT3b2bH3IEdCY8gu12Lt5ICFiTGGzRHI4/An37H68FHOZFYKCdpEalwUCYY+9PawaH5Ma+qL4okIDqHEuj+Dh/rjpIueupLEoJ1s2XqSYrkTTg5WmLRVV+cd5/Ol68mx7IpXXQTbN/zG1gPHCIvNpFbugqeTOa2nkmkbK8k9e5I9O3ewe88xwhMyqTK0wNbGGtNWlZ66Jp+EkEPs2LGTfYeOiuelU4Ytbo6WyPUP1KgriNiwiE2Hldi5FxO0cT0HTqeh8OqOs5kurCryE0VYO7a3hHU2g0rMsbW1wax1BVtfTHzwAXbs3Ml+kWahZ3KpNLIRYVkgEwlae2YTn/+yjZOhp0kuVFNfU0hmUhW2Xf2wv6w7spVdVhlj0JjC0R1b2LlPPDc2hwYzRxxsLC5OS20duVGH2bVtKzsPHOVkVBrl4l3dXa2R66LZPAQfwsZVe4mVe9PdVbxcM1oaKnKJPbaLbVt3ceBkFBnlQkjUZxF04CQZTRY4OdmgaMrixLajxNr0Zpa/AQlHdwj738+RkNPk1tvh4WOPQheObsi4KJqdW6Jo6DmCkfJ4tv0m4n74JNGpJWhM7XG0M+OiYttYTkZMcEt+7j9ESHQ6xSozHO2tRH5eKA/5Jxbx/bp0zNrbkLlnBet3BVFi34NODjK0qkZK08LZt207O3cf5ETEGVHWNVjYOmJr1nY5UOZHsmXzZhJqbXFxtMNUf5s65wTfL99IkWUA7R1E2W1+Lw0NKfv5atUu6hx74GNWS/rJjaw5KJpnnt0wLY/l8KZf2HwwgviMXMpri8kurMbAwgE3y2rOHD5BRJMHQ7vbiHJ/kK3b93DwRDgZFQoc3HT+5ZJyfx41dWWJ7F2ygRN1dnR0UpF8bCM/b9zPqdg0cktrKcktpKpJPMfTGQudTYjyXZoWybE9O9ix5yDHTp0lp0aGvZPthXBqhH9btJydSi+6kyDs5ne27z7CyTMZVBs54O6koKkkmeA9m9m88wBB4hl59XJsHB2xajaotmnICGLdxs2kG3riIcq7CE5CQuIvhCRAL6MNAaquIiV4K78s+414pRsB/brTzsGM6ui1fLVkFWfN+jHE3wtrRRsdytpyDn72LF/vqKBOHc3JyCyKc7NIPSuccnAKtYaudApww9ywibzovaxdup0c8270GejDeWlVEMK3S38itMGPwYF+OJo3ELHqXb5ee4q0/ARSc4rJycoiJzGU/cejyag2RVa4lxWbwsgrzScrI5nooGDOliqxbe+Pj42o3fQC9MipVMpyc8hITyOnKI+UyFOEn46lWOGCr6fLhUUK1WfZumwpKw7GU9CgRluVQezJw6KSyELr3ZduQuUpqwsIWf0KX/6WQ17haY4eDCalwgAX/yEEup6X0xfQiHQ9vpnVv/zK/qgsalWq5rQ/eTycmFwD2nVtj72pTFS6lSSJyjSpMJGEvHocfLriJCpyhbs/fb0t9Q+7wGUCVFZPTsR2Vi1bRUiFA1379sbP2QJ5W/3/qZt54l/LyKpWkxQWRmJOHrl5mSSEHiY8rQxFu950dWp5F21dEQnHf+OnX3cRkVtNU20ZWXERhIedpUrhjIeHM5aiglSXRLF95Up+3RNBVh3ItTXkJkZw9EQkBRad6ONrJ0SQARpVMQc+W8iinUWUVwWzd88pMkrraDdgCp1Mi0kK+p0fV+3gVHNY5WTFR3AqLJ4KmRPuurzSVca16Rxdv5Kf1x4isawejbKK7NggjoafodDUj57t7NDkRRAUVyLyPYbMCkvcfb2xN7Ojfc/OLWL9Is7Z5UoOxWWSViDyIDmHwmxRRkJOEXm2EZeO7UUDzJxmDaytIn7HMpasPEB8XoNogFWRHhfK4eAYcgza0aebI3JNPaUJu/n6082k+I7krgD75pAay9KEsPyZZSv3EJVWRLVOcCedJfrkPnbsjkfl5U9gV0+sVHoBWlWLMvk0Z9Jyyc4rEO95kIOhyZQ59mKQrzWG5wToumNkNVSKMM+SorsvM4kzwvZP5zZi6upLR6HudVHX1GQRumsDv6zeSVhaOU26xT0ppwgOjyRL5UInHyfRKGoRTRlbn+fN71Moqz3D/p3HiExMwyhgBiO9DSg+s40li1ezN76YBk0j1XlxRIaGivzQrRHqgHsbjTFtZSy/f/8Lhyo96B3gi5N5yz35hz7k319tIsZuDHN6OWMsFKhWvFfG7nf45w9ZBMycRYBZObE7v+arXSn4Dp+Jr2EBaXExJGcWiHJYj8zBWQh3N3x8vPGyrmkRoFlF1OckkJySRroQjdnxQRwXtpRn1pHefo5CALdVOFRUF5xi1RtLOGHTiyn9HahMjyUqSdhDXg41Qiw6u7jg6uGJTztXLI3qyQ7fztrVv3HsTCF1yhoKMmIJDongbIUNXTq5Cf8iGjUVJ1n80qdsTMunLCGZ7BKdP8rgbOghQpNyqdY2kbZvHTuicynJzyBJND5PRqTSIHeknZ8Hlm1remrjNvP5dyspdh/FgI6uWEhzPSQk/lLcUQI0TAiGdevWsXfvXvLz8/H29sbEpA3hc1UuEaCjPKmN2ce6FdvJshrAnIfnMrSLM+ZClxnITLH36ErPHoF0cNW1sNtojQuxEbP1J47mNWEXOJHZkycydvhgenV0pj7lECFpdXQYMJz2VhrKMqIIPZ6CcYeBDGotQCuS2HUohCrHfozp01EIUCWpRzZxOK4Qyx7TmTFlPKOHDmFQ/56YZ25i7Z44cist6Tn1LmZOGMngfgF4yIuI2BtBoW0gA3s4Y6IXoPsjynHrOogps2cwfuQQ+vdsj1FWiBDHBVh3CaB9c69VOdFrPufzI00MmjWX2SK8EQN74d/emuw9P7En2Ydh47tg0VhBctBy9qbKcPQfw12zZjB22AC6t3fDto2l6JVJ+1n9k05Yd2Lc7PncNWUMg3sH4G2SxYEtB4k17cKwri6iMjTHqXM3vJtOsimshEkvL+bJCT0I8LLDrI1ujYsFaFfkGcfY8MsGYgz8mfbgfYzp7n7lnhMh9r/7LZzKRmcGTpvB1PGjGD6oD12da4necoRk096MGuiOqaaW/JgDbFh1kAKP0dxz93TGDx9Iz84ONCSHEXSmClu/Tvi6GpMX/BvrtyZiNWgKc2ZNY9zQfgR2aYfy9C9sOCqn39QBuJkYohUNnZhtv3CsQI1jn1nMmzGVUcMG0tXblvrUw2xcvods11HM04U1QoTVxQllWgTHo8uw8u2Mn5slFdG/svSHvdR0msK8e+9i0shB9OzqSNXJ9Ww5IaP3pH54uXjTLaAnFhnLOZLZhwfffYXZA3xxtlK0iMiLUOnt8jBphh70GDqZaeNGM2LwAHzNCgg/HkSdayCBHYQQEGlaFr2OT786jKbfXdwzazLjRop4duuARc5ulu9OoN2QCXSyFkImN4o9e5MwHDCpRYCqK0kP2cFPK45R3WkCjzx8NxPFOwb4mFGWFENcYj3eg4fTz7+VAE2rxX3AOCZMnsToEUMY2MuVsoNr2Bbuxfh5gdiJstwsQNcEUWrsRN+Z9zJz0iiGDuhNB5t6UsP3k1TtSNeArtib1JAmGkPLfzpAsetAZtx7N9PHDqVvoC8WBaHsPhyB1qs3XdxtMBHlvCjsRzaFl9DgMoi5c+cyedwI+ugaTAb5HPvxQ9ZEuDHtpSeYO344gwLbYVkjxPWBWGrtutHD3+my4WtDcaEi6iTBuWYE9O2Gl70phppign9aysGUKnKLPZk8uycOMp2dVHBi9RcEqWfwxGMDcFJXkx25h4PphvSfMIeeHja4d2iHbUMJifGNdJz1IAvmDKGjiw0KTRHROgEaU4itaBiOnjSFMaOGMbiPF42nd7EvxIK+k3vgai4afvq4XUCkZ0Uqx9eJ9PQfyeyRXXAWAr69owHlyRHUuk7jwWfnM6yLKO9mMuozT7B++VbiDbowZtYcpo4bSr8eXXGui2bL3lBkws8FuAu/2SD8m2iwJNc5MeRucd+Y4QwZ2A9/LwOStwo/l1KKxqkv02bOYNzwQfTp4EBtWhjH0uvxDOhNJ/u25+E0Zoey/Wg0Fj2mCZ8tCVAJib8abTVz/5boxOf333/PihUrWLt2Ld99913zv2tqbmSFhYaqtFPsXLeZaG1nJtw3j5H+budb3GbuvRg9eTajhaCxaLM77RyGmCj6MWX+XCYM7Il/QA/6DxzKqP4eVFXlkFl4vTP3A5k4Zzqj+gkx5u9P4ICx3DetP9q6HFTdpvPA1KH09A+gR+9BDBs7gk6mlRSc0Q3bXsDOtztjp89m4tC+BPqLeI2YzD0zR2DXEMOJmHTKajVQHMVv28OxHXQXcyYMFeLZB2/fQAaMn8/8Me3JDd1OVJH+gciwtu/KxLn3C0EphKoQxe3s2vD82jISjgQRmmZPn0l3MX38ILp28KND94FMmv8Yd3WvInLtLqLLGlBrZVg5O+FkLWppAwMs7MV/Ozlgfw01Sl1uJDs2ruFYtQej5t7LxF5e2FzDggS3EXfx8KxR9O8RQPfA3gwcM5mejo2UnE5t3hlBXV1EQngIUbUejJ89k5G9uuAnBGePIZOZMrYzlsWxJCTnUaU2wqrDKO5d+AIL7h7PgC7euLn70KXPKGaNCqAxNZG0apHG5zHG1EwIoPvnM3PyWCF+++FuVEJSeDCnqtwYP2cWo3p3bQlr8CQhfLphWx5HQmIOlSqoLkihsMqY9n360zuwC+3bdyRw0Awef+ld/vHAAJxNjDAyt8dJpKedmW5diSnWjk44ONhw9Z24nETejGPqlLGikRCIf48BTBw9AC/nRtLzSqmuV4t7ioj8fTthlgO5e/Z4hvTuJBqBfs12OW/+GLxzQtgZXdjyuEtQVeRxNvI4GUYeTJh1NxOa7TFQ2ONUJo/qQjvHNlYxdxzCtNnTGDWgJ92F/fcaNpep/YyoTYwguUp/jw5TK+xHzuPBGSOEoGwpD+OnCDET4EDWmTDCMiuE+ksnJCSYeBM/IZZmM2Vwdzr5dcC/71jmPDibHsoMIZoiyatu5EJMXBh192OioTBBiLhR9HAzQdVUQ3ZaHob2AQwf1otuvr50DBzO5Pue58VnHmRsV/sLU2taI3enk/AjpgUZZBRWUa8zCVHuDsVaMnzCGBwzjxGeo24OW9uUwtmwRhwH96HDZRMxDTCWizx1cMTWykI0iuWYW9vh5GiLhanswtC6V09GTpnKuGH96BngT8/BM5g4wAaDvFhSy5VormXRuJEMhZUDTg7WWAq7kot0tnPUhWsmGjJVpIceJ6TIggBRdiYOC6Sjrx/deg5hxpzx9NJkcDQqg9pGnd3o6TdTlLkR9BI+K6B7HwaPFb7VX42qSk7vafOYMKgH/t17MWDYMEaIcqwqKSC5oFr/YwkJib8bd4wAPXz4cLMI1QlOlUpFXl5eswCtqmpdE/056grj2LN5BVuzTOklhOa4Hm6XtaINjQ2FJvojQWOIkZEXvu6m+r+F7zYWQsPcEpVGQ5OqlRP+UzjiJMSdYatctLZ3EX8b4tHRD9tznYMGRhibWGBuqkZT20Tr0MxsbbF3sOX87AEDBa7dAunkJCM7O5+quiZq06KJKq4l9cAP/PuFZ1jw5JM8qfsseImvDxahUSWSf36/KmMUChfc3awvmit5GfWFZGUUUG7fmS4dPbFrNX3B0KoDI4f6oyg5SlR2oxCg+i/+JKrSJI5tXsO6KAM6j5nJpH7thPi8NpN36dCx1XxIQwxlllhaatDWNDRvG9RQWUhmchAJKSGs+eRlnl6gT5OnXuTDVcdIyKmgsqqWeqUMW29RoXa2peD4Rr5+6wWefUp371O8uylFfN+E8qLsN8TY2Iv2rWyloaqYrETxzNRw1n3ySquwXuD95YeIy6oUdi7CEhFz8ArEzVrNyfXLWf77fqLTi6hTynHtPYGpMwfhZXal+X1/hDX21o7Y21woAApTc4xlchqVKjTCjqlOIyqmiPrUgyx9+4UL8RSfV78+SKFWTVKBEHttUC/SMzcjA1PnLnT2dbjQEysEspW1CWYXkuMCbt64iu/OjxYbWCC0lqCGutbbb4k4yj28cD4v1gwwcXDHr0NXrEtLyMgppaasgOy8Qiza+dKpvSsimfQYYtl+IAMDbKmJiCerpr45/1twFgK/VVzFc2Umdvh1c6csezfLvljF/qhUiqq0WLh2YfCEkfTr5nyFxTsKvLv4YytLJTGtkJp6LSVng4kx68Poe2cw3jmVI9F5Qn2KZnF6OIfLFfTr3xVz/a//NE5uONhZXtgj18AMS2th54bCjhqFnV9nmTtPQyHpydnkn41g90/v88ozF2xh4fvriCmsILGoSth+q8aXqysO59PdQPhIS2yEH1IoPPDytD5fWRnIZJiamiJTaWi4uPBISEj8jbi22vhvQEVFBQ0NF/ckFhcXN4vR6yOP2KhD7DucTFldLY2NSgzaWGT0Z2hZUHMbEIJYLgTu9WJkbiEqQjkllXVCIKlQ1tVQr7bHp3sPevboRa9Wn8FTHuWl55+gd8s0PoHuJYVZ/dG7VpWQVl2BzNkRR0uLS1ZCG2Nla4ehUTHlNerrrAxLiQ8/yqEjcZSU16NsUKM2uvY0MTS4etFQq5porFNia9+VHn0uTpNBY+7moSfvZ2wfz+becnVeEKs+/4AvNkdSbe1Ln+FTmDZtJmP6eFxxc+zWbRpdWA2iIWBjJ8Lqe0lYo+fw4JMPMr6fN7qphRYdp/DMKwuY6FPDiVVf89bLz/HEU8/x8eojZNVpL3run0X326v+vKm2uSfUoV13ena/OJ69B07jsRdf5NGebe+bpXtHZUMTMiH0Fde6Zc4f5NFVkZkIAW2JWX0D9TW1lJXnUFXehIOtC7aXTioUQsja1hjj0kpRHlp6IVu41M4NMDZzpu+8f/HPh7pRE76Sz/71Ks89u5BXP1rBwfgimq7iBEzbdaWXlSFZ6blU1hUSdyIKw4AAOvv0ZdRgA6L2nRZeSUtebAh5RkMZ5H/5ArxrR5eZ15jO14OqUfjjJkwdfOgW0PsiW+jVdxzznlrIsyM7YdXmSsDWGIhoikb2H90mISHxt+OOEaCdOnXC3v68Cmqmd+/ezS3l68XGtyd3PfkS93dVELF7Nwfjimg9WHrHIkRnva5n1kArqrtz1W0l7n0mMfueecy79+LP3XNmEeCgv+1aMTHFTm5CU0M99arz22SfR6lWCuF5Iz0xSky8OjHxsadZMMya1P17OHQ6G6HBbiIybNy6MGzm5Wky796pDOrijpUQ0WG/bWRHjIKBs+/jwQfv467pExg/biyjurshu9IpPpdhjLVrJ4bOaDuswf4eIixRXZs64td/Ag8sfIMP3nuLV56Yx5B2dRxe+QkL/7GBhDpVKwF1a6h078PUu+ZeHs975jAj8OIy+j9Doxb/6EYDdIt6RINNYY2JwoCGphqaLjNHcUElSn7r3rorYGAkw1oIxqn3Pcub737MO689zexh3jTF/8anny9m5ZGMK+/JadGBwEAbatJSyMo+TXBEJd26dsTGxIZeo8agiggiqrSCs2FnMBgwnJ42+t/9hamz86XHmOmX24LuM8gH8z8UoBISEncqd4wAnT5dOLl583B3d28WnYMHD+all17C1tZWf8efxQkfn36MGDeOaVNH4asOYf3ve4nIvfOP1mksziWztgpvZwesTBUoLHW9kWqi0kuRm5phZWV10cfSyhLFn+1wtXTEzcoGWWY+RaVVXJyq9aSdPYuyqQd+HnKMrstKHWjn15eBI8YyY9Z4AkzPsuX3XUSkV96URoSR3BQTSxPKa9MpqDK5LE2sRJqYmcgwrCsgLi6bfOfO9PLviLd+Lp6xzAilslqInz+Wg0YyEZaVKRW1qeRVXjksI00dRekpxKeVI7P1oFuvvgwePZH5C97lH9PtyA75nkOJjTcg6v8AcyvsjIxRRaZTaqwQf14eT93WXm1hYmaDtYMN1TVplJTdhmHV+hpKSwsotLHAwdkWBxtHrGwtyCsqoqjikhOC6rJJTKinrlM7XMxMrrxvqVZNU0UmsfEpFCgdaN+lF/2HjGDqPY+x4IEpBNScJPzoabKudPKUgTUdA7thWpxP1LGjHK7s1bxrgEJugHmPYYxpCOJoyEmijtTTa3hvHP7K3ls0MC3kCozTi6iobMTQ8lJbEB8z3Q4X+vslJCT+33HHCFCd0HzwwQdZtWoV27Zt45NPPsHf3x/j6x6KNkYuKlGFQoFLz1HMHO2PLGIb2w9FktuqAlE1qES9czNqdBMsrS2wcSyksDSLojL9ZdTkpaZSVXZrDgUtSEgkOiqe0nMzFTRFnDp4nMx0GwI7e2NnaYxJ5wGM87CkeP1adqfVomyl4FTZe/lueSSVf1bVGbvRdUBH3A1PciI0hpzyC1MllKm72HQgn4bBkxnsorj6XNIrIvJPiESFwhTrzqOYPbkv1sl72LQ/koyqG5egpnYudPLvh2nSWY7uDaF1u6QpN4J9h4OJyqpBY2KGpW4OYko6eVW1nD8RsOg4K1fH0th6EcYVUNg60an7QCxSEzm6+wQ5rcPKj+TgkSAiMqrRGFZxdssSPvj3t+yIK6BWY4ChTAhWB088bA0xUqoR5noxWqXOxG4OJp0ZPM4T89L1rN6XRkPThXTWKPPY990KotqeAorC3hXfzoEYpqURFJFI9bl0UhWRllJOwflFbteBaExVH9xNyLkyJd65OD2W0OBwTF186N7eBWPn9vTs6ItFTCTh4cmUnE8nFVmHd3I4q4TA0X3wsDK7ysb5auqKT7Pi5Td4e00oZeL1DQyNMbW0xd7RHnOtptlfqK5oz4Y4dOxBe5MktqzcTUb7LnRxMmvZLsyqP2Mm1rH3xx8IqvFjeE+3a9vAX8RBLfL31kt6EZBGJNq5fDN2p1MvP7wswzkcFEpKfqvpUZoyTq7ZQEh6OY03XhQlJCT+ptwxAlSHtbU1Pj4++Pr64urqegPi82IMFU70GTeDsd0UBG/bzsHobOqFoy0PXcoLj8/i6V+Cya26tGb/sxjg4NmVrqISTN67lq8+/JDvfl7K5/95luc/Xk142vUvproamrIzbF76If/810cs+flb3n/5Vd5ffRyDUdOY0NsXe7kBBhYBPPzc3fibnuLr557j3a82sC9oJ+u/eIFp8/7Dhtic6xjaluE1dDpzhnUk57eP+c97X7Jy1262/PAujz77JXtrB/DGU6NFhS/XzVa7IQxkVnQcPZPJfe2bt3XZfzqNyhuskQ1N3fAfOosZI4w4sepD3vjnF2zYuo3Nyz9h4atv8sW6Y2SW16M28qb3KD8cDQ7zxev/4cMvF/Ptxy8z595/syOrCqX2FJkFV6+FDRXOdBk8i1ljTAhZ8zGvv/4Z60RYW1Z8xksirE9/PUJGWZ0QGY70Gt0bN1U437z2Jh/8sIFjR3ex+vMXWbg0lvpu9zKxk0hPkaC6hXNeHYdRXxfCd58v5teNB0j9k0eDX4aBBd3ve5Z7/E0J+eYZnn7nazbtC2bn2q94ceZc3tkoGm9tnN2vw0Ah0nPwBMYElLPj2//w6n++YNmyL3nnpRf58JcDJF5BuF4T6joK4jbx7pMv8PF337P4y/d4652P2Fbsw8CJMxjoIfyEzIV+E6czuqeSPd++xzsf/cDOnVtZ8clzPP/5Jgq7PcoT47vipNt/7UoYyDB37sPYkUZErHqLBf9YxPo9R9m/ZjGffv4VB5Q+dB3aC5+r7Axn6N6RPrr41NU072LgZKZocdIGVvQZNoras3GkuY6hd4c/kp/m2LnZ42Z7hpAtS/nmlz2Etz4T/iZiZumEvfC3cdE7WLroJ3YHx1GsVOA9fBrTRgVSd2ARb7/zDks37mX7b7/wzuMP849vdxAtRKluZoOEhMT/T+4oAXrrMETu1ItJs8YRIDvJynU7iUivwlB3oktxOU0NGtHwv/GxJCP77ky8/xkWTHYi+9h6vl2yhqB8F2Y/LSr13p243skEV6OTqCReWHgfvnWnWLd0GeuCsrAbs5B/PDmTnp4WLb2PomK17fcIi376hCf6w4kNH/Lac//k64PF9HriC1b8axzO19QdczFG5u0Z89S7/OeFWTjn7mPJf/7JWz8dQdnjIRYt+TczdCuGb9IYnbGlLxPmTGGAQxorf/md4KRiIf70X14PBkZY+vRj/ssf8eEzAzBM2swn//4PH/9yHI3/vfzrpccY39UemYEx7Sa9woevPcIA82R2rljGiv1FeN/7X5a8PgkLUzUpmee7u9tGhGXh2Zt7XvqITxcOQZ62jc9FWB/+fITGTnP5x8tPMjnAEWNdnLrN4tX/vs4DQxXErP+cl178B4v3ZOEy+d+s/uI+Olrqt+IRAtR5/PO8OdaV3B2/8NPaMPJu+MBwA2T2fXj8q1/49PEBqMPX8t5rz/DP7/ZTHvAYny1/lzEu+lsvRcTduv0g5j/9Kk/1MyFt93K++2kbCfJBzJo7jN7t9fddB7re6qmvfMprEy2I/u0HlqzYwRlVd+Y+8SqPTerYvKevsEbMPAfyiBDub9zbhYqTK3n73/9m8a4i/Gb8l0Vv3ktvb6uLT026DPH+lu4Me/wLvls4AkXyVtHoeJF/LtpOls1knn1DiNKx7VpOaboSRj4E9LXFymYAw3p5Cvs4V7AMsBcCfZxajfHYwXT9w7a1Ce7dRzB11gSs8oJYv1kI0OzKViv4bx5y544MnTyXyY7lBG/YyK4TaVSIgIwtRJl7+h3e+8f9dKw+xcqP3+Bfn/1KpGwwC798l7m9nLnCwVASEhL/DzDQXssktP9naNRKISqb0BqZYKIwPq/SteJ6Y2MTKiEqFCZyjLRKGhqUzStqTWTnjo28FC3K+hoa1XJMLVrNH9MNxykb0f1crlCc38Req1GL60006ba2EZWOoZEMucwQjVKJxlCGiVw3b0qLqqGOBpURCjPdNjStAlY3Ul2nRGZqftHRoFqNSrxTI2oDOQrd6UK6+WpNjag0RshkRmh0q5BVuhW+hs1b68jF+xhd+kLiN0rx/k0qETdhNQaG4rdyEXcRv+Y7xTspG+to0oh4mop4XfLzttGKsEV6NylRqYWQNzDEyFgu3vPy8LXKemoa1MjNLjn68RJ0+dQk4qkxFO+hmxt57jEiDRobG4XwNMZE5F+bK9BF+tXUNWGksLjoKE3d6TPK+nqUiHw0k19ouYl3Vp+Lv0gUA13820g/Xfqee0fdkl5juQlyAyV1wgCMTMxFWLonamiqqxXpZ4KZRaswznGNYV2wIbXIJ3GfCO9cml6UpM351UCjbk6FsK1mW2ojSXRxb2xUYaB7holxS17rEOlZL2xKayRsqtku9ddFnqqFbTc2qVC3GEqzTbXYbsv3ujLWUC+M38QUs+Z3b6E57k16GxMh6eKdd/gDPvwmFPf5b/HU3IG4ykU+1ot8FPlr1nxc64VIqxurqWsS5dPCtHl7JK26qTkcAxMFMpF7LXESUTLSTdEQNqDbRk3/22b0adwo0lgXdwPdFmbiPl0at047dVMN9Y1GmJiLcC7NKJHmulX9ujKsPm/TxqKcXcHmLkEj7Fy8nijDJuL+VvHTqmjQbQMlN2s+kek8Is6qpobm6RUmpmYX4tP8LiLvdO+im5JiImzOSPgjUQaatMJ3iDLQ2ndommpF2hkgNzU9748uRedHGusa0MgUmJ63BV1+qlp8g1oIT5FeF+X1peVb59NEuTwftvCj9bUNqGRmzfuJnqfZPoU/UQt/cpFt6t5XvJdoQRqLdzK5wkI+rSjL9aJ8Germaxsb6dpcEhISfyEkASohIfEXQEN5YiQxCVlYD5tJj3Pd/bVn2fzJJ3xzwor7/r2QecPbc+7keAkJCQmJvy+SAJWQkPjfo60nK3QT377/KSfUPRg9fSpdzEs4s3cLh2Lr6PngP3jhwQl0tG27t0tCQkJC4u+FJEAlJCT+GmiVVGRHcWDdz6zZGU5ytRFOfoOY8+CjzB7lj+P1b+krISEhIfEXQxKgEhISEhISEhIStxVpPEtCQkJCQkJCQuK2IglQCQkJCQkJCQmJ24okQCUkJCQkJCQkJG4rkgCVkJCQkJCQkJC4rUgCVEJCQkJCQkJC4rYiCVAJCQkJCQkJCYnbiiRAJSQkJCQkJCQkbiuSAJWQkJCQkJCQkLitSAJUQkJCQkJCQkLitiIJUAkJCQkJCQkJiduKJEAlJCQkJCQkJCRuK5IAlZCQkJCQkJCQuK1IAlRCQkJCQkJCQuK2IglQCQkJCQkJCQmJ24okQCUkJCQkJCQkJG4rkgCVkJCQkJCQkJC4jcD/AYZNXZOCFjAMAAAAAElFTkSuQmCC)"
      ],
      "metadata": {
        "id": "culUjqPpj7ht"
      }
    },
    {
      "cell_type": "code",
      "source": [
        "class KNN:\n",
        "  def __init__(self, train_set, k):\n",
        "    self.train_set = train_set\n",
        "    self.k = k\n",
        "\n",
        "  def fill_data(self,course_name): #this is function that implement item-item method based on K nearest neighbours\n",
        "    for i in self.train_set.index:\n",
        "      bxh = get_similar_course(course_name)[1:(self.k)+1]\n",
        "      sum1 = 0\n",
        "      sum2 = 0\n",
        "      for j in bxh.index:\n",
        "        sum1 += bxh[j]*rating_sparse_df.loc[i,j]\n",
        "        sum2 += abs(bxh[j])\n",
        "      if self.train_set.loc[i, course_name] == 0:\n",
        "        self.train_set.loc[i,course_name] = sum1/sum2\n",
        "\n",
        "  def fill_all(self):\n",
        "    for i in self.train_set.columns:\n",
        "      fill_data(self.train_set,i,self.k)\n",
        "      normalize_data(self.train_set[i])\n",
        "\n",
        "  def fill_data2(self,course_name): #this is function that implement item-item method based on K nearest neighbours\n",
        "    result = self.train_set.copy()\n",
        "    for i in self.train_set.index:\n",
        "        bxh = get_similar_course(course_name)[1:(self.k)+1]\n",
        "        sum1 = 0\n",
        "        sum2 = 0\n",
        "        for j in bxh.index:\n",
        "          sum1 += bxh[j]*rating_sparse_df.loc[i,j]\n",
        "          sum2 += abs(bxh[j])\n",
        "        if self.train_set.loc[i, course_name] == 0:\n",
        "          result.loc[i,course_name] = sum1/sum2\n",
        "    return result[course_name]\n"
      ],
      "metadata": {
        "id": "Bi-WD8icgbQc"
      },
      "execution_count": 21,
      "outputs": []
    },
    {
      "cell_type": "code",
      "source": [
        "\n",
        "def normalize_data(train_set):\n",
        "    for i in train_set.columns:\n",
        "      avg = train_set[i].sum()/(len(train_set.index)-len(train_set.loc[train_set[i]==0,i]))\n",
        "      for j in train_set.index:\n",
        "        if train_set.loc[j,i] != 0 and train_set.loc[j,i] != 3 and train_set.loc[j,i] != 2:\n",
        "          if train_set.loc[j,i] >= avg:\n",
        "            train_set.loc[j,i] = 3\n",
        "          elif train_set.loc[j,i] < avg:\n",
        "            train_set.loc[j,i] = 2"
      ],
      "metadata": {
        "id": "1jAamHtPqLjo"
      },
      "execution_count": 43,
      "outputs": []
    },
    {
      "cell_type": "code",
      "source": [
        "def RMSE(train_set, test_set):\n",
        "\n",
        "\n",
        "  # Calculate the difference between the predicted ratings and the actual ratings.\n",
        "  differences = train_set - test_set\n",
        "\n",
        "  # Square the differences.\n",
        "  squared_differences = differences ** 2\n",
        "\n",
        "  # Calculate the mean squared error.\n",
        "  mean_squared_error = squared_differences.mean()\n",
        "\n",
        "  # Take the square root of the mean squared error to get the RMSE.\n",
        "  rmse = np.sqrt(mean_squared_error)\n",
        "\n",
        "  return rmse\n",
        "\n"
      ],
      "metadata": {
        "id": "JiaSdmEmpPtd"
      },
      "execution_count": 16,
      "outputs": []
    },
    {
      "cell_type": "markdown",
      "source": [
        "# Assessment"
      ],
      "metadata": {
        "id": "vJ2PTE3G1Ean"
      }
    },
    {
      "cell_type": "markdown",
      "source": [
        "## Group 1: have highest similarity with each other items"
      ],
      "metadata": {
        "id": "kOzXxVBFmb4R"
      }
    },
    {
      "cell_type": "code",
      "source": [
        "most_similar_column = item_sim_df.max(axis=0).sort_values(ascending=False).index[0]\n",
        "most_similar_column"
      ],
      "metadata": {
        "colab": {
          "base_uri": "https://localhost:8080/",
          "height": 36
        },
        "id": "KaGEKRmwlBO1",
        "outputId": "f292da0b-b3e1-42b7-9781-9e999c4abb91"
      },
      "execution_count": 194,
      "outputs": [
        {
          "output_type": "execute_result",
          "data": {
            "text/plain": [
              "'DA0101EN'"
            ],
            "application/vnd.google.colaboratory.intrinsic+json": {
              "type": "string"
            }
          },
          "metadata": {},
          "execution_count": 194
        }
      ]
    },
    {
      "cell_type": "code",
      "source": [
        "get_similar_course('DA0101EN')"
      ],
      "metadata": {
        "colab": {
          "base_uri": "https://localhost:8080/"
        },
        "id": "GapzhP_WlT9a",
        "outputId": "8172a209-fa4a-4ef5-8445-32ce21f4a2cf"
      },
      "execution_count": 195,
      "outputs": [
        {
          "output_type": "execute_result",
          "data": {
            "text/plain": [
              "DA0101EN      1.000000\n",
              "DV0101EN      0.760875\n",
              "PY0101EN      0.680904\n",
              "ML0101ENv3    0.577509\n",
              "DS0101EN      0.469943\n",
              "                ...   \n",
              "DB0113EN      0.000000\n",
              "TMP0101EN     0.000000\n",
              "BENTEST4      0.000000\n",
              "DB0115EN      0.000000\n",
              "ST0301EN      0.000000\n",
              "Name: DA0101EN, Length: 126, dtype: float64"
            ]
          },
          "metadata": {},
          "execution_count": 195
        }
      ]
    },
    {
      "cell_type": "code",
      "source": [
        "DA0101EN_frame = train_set.DA0101EN.to_frame()\n",
        "DA0101EN_frame.value_counts()"
      ],
      "metadata": {
        "colab": {
          "base_uri": "https://localhost:8080/"
        },
        "id": "Zl766RkFmeOQ",
        "outputId": "dc77c7d4-f9d7-4104-e417-860d67edf04f"
      },
      "execution_count": 196,
      "outputs": [
        {
          "output_type": "execute_result",
          "data": {
            "text/plain": [
              "DA0101EN\n",
              "0.0         25598\n",
              "3.0          8303\n",
              "dtype: int64"
            ]
          },
          "metadata": {},
          "execution_count": 196
        }
      ]
    },
    {
      "cell_type": "code",
      "source": [
        "train1 =  DA0101EN_frame[DA0101EN_frame['DA0101EN'] != 0].copy()\n",
        "test1 =  DA0101EN_frame[DA0101EN_frame['DA0101EN'] != 0].copy()"
      ],
      "metadata": {
        "id": "LZWjMOaGmuWj"
      },
      "execution_count": 197,
      "outputs": []
    },
    {
      "cell_type": "code",
      "source": [
        "import random\n",
        "for i in range(len(train1)):\n",
        "  for j in range(len(train1.columns)):\n",
        "    if random.random() < 0.1:\n",
        "      train1.iloc[i, j] = 0"
      ],
      "metadata": {
        "id": "0PSeq8Xlm5gO"
      },
      "execution_count": 198,
      "outputs": []
    },
    {
      "cell_type": "code",
      "source": [
        "knn_train = KNN(train1, 20)\n",
        "result = knn_train.fill_data2('DA0101EN')\n",
        "result = result.to_frame()\n",
        "result.value_counts()"
      ],
      "metadata": {
        "colab": {
          "base_uri": "https://localhost:8080/"
        },
        "id": "YZn537zFnBgv",
        "outputId": "ee5b6b7c-1c37-4045-8237-b51adac116a3"
      },
      "execution_count": 199,
      "outputs": [
        {
          "output_type": "execute_result",
          "data": {
            "text/plain": [
              "DA0101EN\n",
              "3.000000    7466\n",
              "1.101249      12\n",
              "0.801906      11\n",
              "0.799088       9\n",
              "1.634713       7\n",
              "            ... \n",
              "1.037741       1\n",
              "1.039637       1\n",
              "1.042051       1\n",
              "1.042441       1\n",
              "1.242410       1\n",
              "Length: 654, dtype: int64"
            ]
          },
          "metadata": {},
          "execution_count": 199
        }
      ]
    },
    {
      "cell_type": "code",
      "source": [
        "normalize_data(result)"
      ],
      "metadata": {
        "id": "2wQzLVW9nLfA"
      },
      "execution_count": 200,
      "outputs": []
    },
    {
      "cell_type": "code",
      "source": [
        "# def normalize_data2(train_set):\n",
        "#     for i in train_set.columns:\n",
        "#       avg = train_set[i].sum()/(len(train_set.index)-len(train_set.loc[train_set[i]==0,i]))\n",
        "#       for j in train_set.index:\n",
        "#         if train_set.loc[j,i] != 0 and train_set.loc[j,i] != 3 and train_set.loc[j,i] != 2:\n",
        "#           if train_set.loc[j,i] >= avg-1:\n",
        "#             train_set.loc[j,i] = 3\n",
        "#           elif train_set.loc[j,i] < avg-1:\n",
        "#             train_set.loc[j,i] = 2\n",
        "# normalize_data2(result)"
      ],
      "metadata": {
        "id": "2GQaiVEun73e"
      },
      "execution_count": 191,
      "outputs": []
    },
    {
      "cell_type": "code",
      "source": [
        "result.value_counts()"
      ],
      "metadata": {
        "colab": {
          "base_uri": "https://localhost:8080/"
        },
        "id": "OjNrp98wncAv",
        "outputId": "7fecfbc6-1bac-4d09-904b-6bad3d083e4d"
      },
      "execution_count": 201,
      "outputs": [
        {
          "output_type": "execute_result",
          "data": {
            "text/plain": [
              "DA0101EN\n",
              "3.0         7493\n",
              "2.0          809\n",
              "0.0            1\n",
              "dtype: int64"
            ]
          },
          "metadata": {},
          "execution_count": 201
        }
      ]
    },
    {
      "cell_type": "code",
      "source": [
        "print(RMSE(result,test1))"
      ],
      "metadata": {
        "colab": {
          "base_uri": "https://localhost:8080/"
        },
        "outputId": "351a8300-9580-4e11-d285-148cf3fd1dc3",
        "id": "OhUDBItznLfH"
      },
      "execution_count": 202,
      "outputs": [
        {
          "output_type": "stream",
          "name": "stdout",
          "text": [
            "DA0101EN    0.313877\n",
            "dtype: float64\n"
          ]
        }
      ]
    },
    {
      "cell_type": "markdown",
      "source": [
        "## Group 2: The value 3 more than the value of 2"
      ],
      "metadata": {
        "id": "KK_E8NmeRNo7"
      }
    },
    {
      "cell_type": "code",
      "source": [
        "result = {}\n",
        "for item in rating_sparse_df.columns:\n",
        "  rate_3_count = len(rating_sparse_df[rating_sparse_df[item] == 3])\n",
        "\n",
        "\n",
        "  result[item] = rate_3_count\n",
        "\n",
        "\n",
        "sorted_result = sorted(result.items(), key=lambda x: x[1])\n",
        "print(f'Item have the most number of 3 value : {sorted_result[-1][0]}')"
      ],
      "metadata": {
        "colab": {
          "base_uri": "https://localhost:8080/"
        },
        "id": "y3YoXfQ2RXFz",
        "outputId": "f3399907-9e57-45cf-c3b9-26ae9cf1d86c"
      },
      "execution_count": 71,
      "outputs": [
        {
          "output_type": "stream",
          "name": "stdout",
          "text": [
            "Item have the most number of 3 value : PY0101EN\n"
          ]
        }
      ]
    },
    {
      "cell_type": "code",
      "source": [
        "get_similar_course('PY0101EN')"
      ],
      "metadata": {
        "colab": {
          "base_uri": "https://localhost:8080/"
        },
        "id": "ARneqpZJsARP",
        "outputId": "c0f3aeb8-819c-4507-b24a-88ba19de1bd9"
      },
      "execution_count": 138,
      "outputs": [
        {
          "output_type": "execute_result",
          "data": {
            "text/plain": [
              "PY0101EN      1.000000\n",
              "DA0101EN      0.680904\n",
              "DS0101EN      0.625944\n",
              "DV0101EN      0.616423\n",
              "ML0101ENv3    0.615440\n",
              "                ...   \n",
              "PA0103EN      0.001929\n",
              "ST0201EN      0.000000\n",
              "ST0301EN      0.000000\n",
              "DS0107        0.000000\n",
              "BENTEST4      0.000000\n",
              "Name: PY0101EN, Length: 126, dtype: float64"
            ]
          },
          "metadata": {},
          "execution_count": 138
        }
      ]
    },
    {
      "cell_type": "code",
      "source": [
        "PY0101EN_frame = train_set.PY0101EN.to_frame()\n",
        "PY0101EN_frame.value_counts()"
      ],
      "metadata": {
        "colab": {
          "base_uri": "https://localhost:8080/"
        },
        "id": "wfPRC1SqR1Te",
        "outputId": "3c0a9d2f-6ad2-444d-9af6-a8a384366f46"
      },
      "execution_count": 98,
      "outputs": [
        {
          "output_type": "execute_result",
          "data": {
            "text/plain": [
              "PY0101EN\n",
              "0.0         18965\n",
              "3.0         14922\n",
              "2.0            14\n",
              "dtype: int64"
            ]
          },
          "metadata": {},
          "execution_count": 98
        }
      ]
    },
    {
      "cell_type": "code",
      "source": [
        "train2 =  PY0101EN_frame[PY0101EN_frame['PY0101EN'] != 0].copy()\n",
        "test2 =  PY0101EN_frame[PY0101EN_frame['PY0101EN'] != 0].copy()"
      ],
      "metadata": {
        "id": "jVy7f20LSgQT"
      },
      "execution_count": 124,
      "outputs": []
    },
    {
      "cell_type": "code",
      "source": [
        "for i in range(len(train2)):\n",
        "  for j in range(len(train2.columns)):\n",
        "    if random.random() < 0.1:\n",
        "      train2.iloc[i, j] = 0"
      ],
      "metadata": {
        "id": "EAnGTDhKSugj"
      },
      "execution_count": 125,
      "outputs": []
    },
    {
      "cell_type": "code",
      "source": [
        "test2.value_counts()"
      ],
      "metadata": {
        "colab": {
          "base_uri": "https://localhost:8080/"
        },
        "id": "eeuKQaycTJQu",
        "outputId": "9bfef169-f784-455d-ae32-a90e411e1c4c"
      },
      "execution_count": 126,
      "outputs": [
        {
          "output_type": "execute_result",
          "data": {
            "text/plain": [
              "PY0101EN\n",
              "3.0         14922\n",
              "2.0            14\n",
              "dtype: int64"
            ]
          },
          "metadata": {},
          "execution_count": 126
        }
      ]
    },
    {
      "cell_type": "code",
      "source": [
        "train2.value_counts()"
      ],
      "metadata": {
        "colab": {
          "base_uri": "https://localhost:8080/"
        },
        "id": "KO_NXsnHTMjG",
        "outputId": "5dadb7fa-7609-4cf8-f636-67573de32658"
      },
      "execution_count": 127,
      "outputs": [
        {
          "output_type": "execute_result",
          "data": {
            "text/plain": [
              "PY0101EN\n",
              "3.0         13430\n",
              "0.0          1493\n",
              "2.0            13\n",
              "dtype: int64"
            ]
          },
          "metadata": {},
          "execution_count": 127
        }
      ]
    },
    {
      "cell_type": "code",
      "source": [
        "knn_train = KNN(train2, 40)\n",
        "result = knn_train.fill_data2('PY0101EN')\n",
        "result = result.to_frame()\n",
        "result.value_counts()"
      ],
      "metadata": {
        "colab": {
          "base_uri": "https://localhost:8080/"
        },
        "id": "iibnzLBLTdEt",
        "outputId": "5e76e229-633c-42ec-c1ff-ac314e616bb8"
      },
      "execution_count": 128,
      "outputs": [
        {
          "output_type": "execute_result",
          "data": {
            "text/plain": [
              "PY0101EN\n",
              "3.000000    13430\n",
              "2.000000       13\n",
              "0.663645        9\n",
              "0.619314        7\n",
              "0.451103        5\n",
              "            ...  \n",
              "0.541734        1\n",
              "0.541674        1\n",
              "0.540360        1\n",
              "0.540005        1\n",
              "0.662349        1\n",
              "Length: 1388, dtype: int64"
            ]
          },
          "metadata": {},
          "execution_count": 128
        }
      ]
    },
    {
      "cell_type": "code",
      "source": [
        "print(f'Mean of result: {result.mean()}')"
      ],
      "metadata": {
        "colab": {
          "base_uri": "https://localhost:8080/"
        },
        "id": "2CdH5wKbq47V",
        "outputId": "ff0c9cd1-919d-4e27-a848-3a66b1ad3567"
      },
      "execution_count": 129,
      "outputs": [
        {
          "output_type": "stream",
          "name": "stdout",
          "text": [
            "Mean of result: PY0101EN    2.774632\n",
            "dtype: float64\n"
          ]
        }
      ]
    },
    {
      "cell_type": "code",
      "source": [
        "result1 = result.copy()\n",
        "result2 = result.copy()"
      ],
      "metadata": {
        "id": "pdkyOPzWrI4A"
      },
      "execution_count": 130,
      "outputs": []
    },
    {
      "cell_type": "code",
      "source": [
        "normalize_data(result1)"
      ],
      "metadata": {
        "id": "3BFOuDY3TybV"
      },
      "execution_count": 131,
      "outputs": []
    },
    {
      "cell_type": "code",
      "source": [
        "def normalize_data2(train_set):\n",
        "    for i in train_set.columns:\n",
        "      avg = train_set[i].sum()/(len(train_set.index)-len(train_set.loc[train_set[i]==0,i]))\n",
        "      for j in train_set.index:\n",
        "        if train_set.loc[j,i] != 0 and train_set.loc[j,i] != 3 and train_set.loc[j,i] != 2:\n",
        "          if train_set.loc[j,i] >= avg-2:\n",
        "            train_set.loc[j,i] = 3\n",
        "          elif train_set.loc[j,i] < avg-2:\n",
        "            train_set.loc[j,i] = 2\n",
        "normalize_data2(result2)"
      ],
      "metadata": {
        "id": "np7wkRY6p3oy"
      },
      "execution_count": 132,
      "outputs": []
    },
    {
      "cell_type": "code",
      "source": [
        "result1.value_counts()"
      ],
      "metadata": {
        "colab": {
          "base_uri": "https://localhost:8080/"
        },
        "id": "dfM3dLpSpy7a",
        "outputId": "806ad3af-17f0-4763-fda8-81f14945cd01"
      },
      "execution_count": 133,
      "outputs": [
        {
          "output_type": "execute_result",
          "data": {
            "text/plain": [
              "PY0101EN\n",
              "3.0         13439\n",
              "2.0          1497\n",
              "dtype: int64"
            ]
          },
          "metadata": {},
          "execution_count": 133
        }
      ]
    },
    {
      "cell_type": "code",
      "source": [
        "result2.value_counts()"
      ],
      "metadata": {
        "colab": {
          "base_uri": "https://localhost:8080/"
        },
        "id": "MMY1R0TfrcuB",
        "outputId": "7d25bd9d-2c9b-4545-c1f5-c81f37687e8b"
      },
      "execution_count": 134,
      "outputs": [
        {
          "output_type": "execute_result",
          "data": {
            "text/plain": [
              "PY0101EN\n",
              "3.0         13969\n",
              "2.0           967\n",
              "dtype: int64"
            ]
          },
          "metadata": {},
          "execution_count": 134
        }
      ]
    },
    {
      "cell_type": "code",
      "source": [
        "print(f'Test on result1 :{RMSE(result1,test2)}')"
      ],
      "metadata": {
        "colab": {
          "base_uri": "https://localhost:8080/"
        },
        "id": "YJtypI8fTzyD",
        "outputId": "aebec768-4c23-41e7-98a7-b9fb35c1a9d7"
      },
      "execution_count": 136,
      "outputs": [
        {
          "output_type": "stream",
          "name": "stdout",
          "text": [
            "Test on result1 :PY0101EN    0.315104\n",
            "dtype: float64\n"
          ]
        }
      ]
    },
    {
      "cell_type": "code",
      "source": [
        "print(f'Test on result2: {RMSE(result2,test2)}')"
      ],
      "metadata": {
        "colab": {
          "base_uri": "https://localhost:8080/"
        },
        "id": "xE8TLcdLrk87",
        "outputId": "c6db5599-4a48-458e-9cf3-6ab8556b9d70"
      },
      "execution_count": 137,
      "outputs": [
        {
          "output_type": "stream",
          "name": "stdout",
          "text": [
            "Test on result2: PY0101EN    0.252598\n",
            "dtype: float64\n"
          ]
        }
      ]
    },
    {
      "cell_type": "markdown",
      "source": [
        "## Group 3: The value 2 more than the value of 3"
      ],
      "metadata": {
        "id": "S9dZ7gOAMTWC"
      }
    },
    {
      "cell_type": "code",
      "source": [
        "result = {}\n",
        "for item in rating_sparse_df.columns:\n",
        "  rate_2_count = len(rating_sparse_df[rating_sparse_df[item] == 2])\n",
        "\n",
        "\n",
        "  result[item] = rate_2_count\n",
        "\n",
        "\n",
        "sorted_result = sorted(result.items(), key=lambda x: x[1])\n",
        "print(f'Item have the most number of 2 value : {sorted_result[-1][0]}')\n"
      ],
      "metadata": {
        "colab": {
          "base_uri": "https://localhost:8080/"
        },
        "id": "Pm-QTiMlmD1m",
        "outputId": "79d9ef7a-5450-4002-d106-fb015612401d"
      },
      "execution_count": 162,
      "outputs": [
        {
          "output_type": "stream",
          "name": "stdout",
          "text": [
            "Item have the most number of 2 value : CNSC02EN\n"
          ]
        }
      ]
    },
    {
      "cell_type": "code",
      "source": [
        "CNSC02EN_frame = train_set.CNSC02EN.to_frame()\n",
        "CNSC02EN_frame.value_counts()"
      ],
      "metadata": {
        "colab": {
          "base_uri": "https://localhost:8080/"
        },
        "id": "-rRIqprc2DZK",
        "outputId": "6f497e5d-c0db-4837-ada6-5012ad26d851"
      },
      "execution_count": 163,
      "outputs": [
        {
          "output_type": "execute_result",
          "data": {
            "text/plain": [
              "CNSC02EN\n",
              "0.0         32063\n",
              "2.0          1838\n",
              "dtype: int64"
            ]
          },
          "metadata": {},
          "execution_count": 163
        }
      ]
    },
    {
      "cell_type": "code",
      "source": [
        "CNSC02EN_frame = CNSC02EN_frame[CNSC02EN_frame['CNSC02EN'] != 0]\n",
        "CNSC02EN_frame.value_counts()"
      ],
      "metadata": {
        "colab": {
          "base_uri": "https://localhost:8080/"
        },
        "id": "kII5PvTtIVMO",
        "outputId": "5b7e52b3-81fa-4f4a-866a-76586fa08109"
      },
      "execution_count": 164,
      "outputs": [
        {
          "output_type": "execute_result",
          "data": {
            "text/plain": [
              "CNSC02EN\n",
              "2.0         1838\n",
              "dtype: int64"
            ]
          },
          "metadata": {},
          "execution_count": 164
        }
      ]
    },
    {
      "cell_type": "code",
      "source": [
        "train3 = CNSC02EN_frame.copy()\n",
        "test3 = CNSC02EN_frame.copy()"
      ],
      "metadata": {
        "id": "NAVtUkJOIr0q"
      },
      "execution_count": 165,
      "outputs": []
    },
    {
      "cell_type": "code",
      "source": [
        "# Randomly set 10% of the values in the train set to 0\n",
        "for i in range(len(train3)):\n",
        "  for j in range(len(train3.columns)):\n",
        "    if random.random() < 0.1:\n",
        "      train3.iloc[i, j] = 0"
      ],
      "metadata": {
        "id": "-bNDPtDYI2nK"
      },
      "execution_count": 166,
      "outputs": []
    },
    {
      "cell_type": "code",
      "source": [
        "test3.value_counts()"
      ],
      "metadata": {
        "colab": {
          "base_uri": "https://localhost:8080/"
        },
        "id": "yMAW8kAiI5rh",
        "outputId": "d83b634e-a2c9-4d61-8c77-3fff5e782e74"
      },
      "execution_count": 167,
      "outputs": [
        {
          "output_type": "execute_result",
          "data": {
            "text/plain": [
              "CNSC02EN\n",
              "2.0         1838\n",
              "dtype: int64"
            ]
          },
          "metadata": {},
          "execution_count": 167
        }
      ]
    },
    {
      "cell_type": "code",
      "source": [
        "train3.value_counts()"
      ],
      "metadata": {
        "colab": {
          "base_uri": "https://localhost:8080/"
        },
        "id": "O5dsnSUPJIyi",
        "outputId": "b6648c87-113a-428d-f79f-fe3e2b4b8acf"
      },
      "execution_count": 168,
      "outputs": [
        {
          "output_type": "execute_result",
          "data": {
            "text/plain": [
              "CNSC02EN\n",
              "2.0         1654\n",
              "0.0          184\n",
              "dtype: int64"
            ]
          },
          "metadata": {},
          "execution_count": 168
        }
      ]
    },
    {
      "cell_type": "code",
      "source": [
        "knn_train = KNN(train3, 20)\n",
        "result = knn_train.fill_data2('CNSC02EN')\n",
        "result = result.to_frame()\n",
        "result\n"
      ],
      "metadata": {
        "colab": {
          "base_uri": "https://localhost:8080/",
          "height": 455
        },
        "id": "R0bn0ICEJN5C",
        "outputId": "22b390ce-7e34-40b5-c561-04fa6e35eaef"
      },
      "execution_count": 169,
      "outputs": [
        {
          "output_type": "execute_result",
          "data": {
            "text/plain": [
              "         CNSC02EN\n",
              "user             \n",
              "5        1.252339\n",
              "50348    0.000000\n",
              "77114    2.000000\n",
              "82579    2.000000\n",
              "91852    2.000000\n",
              "...           ...\n",
              "2099543  0.000000\n",
              "2099941  2.000000\n",
              "2101370  2.000000\n",
              "2101535  2.000000\n",
              "2102356  2.000000\n",
              "\n",
              "[1838 rows x 1 columns]"
            ],
            "text/html": [
              "\n",
              "  <div id=\"df-8cae6a2c-4306-47a8-80cd-c0de42511f74\" class=\"colab-df-container\">\n",
              "    <div>\n",
              "<style scoped>\n",
              "    .dataframe tbody tr th:only-of-type {\n",
              "        vertical-align: middle;\n",
              "    }\n",
              "\n",
              "    .dataframe tbody tr th {\n",
              "        vertical-align: top;\n",
              "    }\n",
              "\n",
              "    .dataframe thead th {\n",
              "        text-align: right;\n",
              "    }\n",
              "</style>\n",
              "<table border=\"1\" class=\"dataframe\">\n",
              "  <thead>\n",
              "    <tr style=\"text-align: right;\">\n",
              "      <th></th>\n",
              "      <th>CNSC02EN</th>\n",
              "    </tr>\n",
              "    <tr>\n",
              "      <th>user</th>\n",
              "      <th></th>\n",
              "    </tr>\n",
              "  </thead>\n",
              "  <tbody>\n",
              "    <tr>\n",
              "      <th>5</th>\n",
              "      <td>1.252339</td>\n",
              "    </tr>\n",
              "    <tr>\n",
              "      <th>50348</th>\n",
              "      <td>0.000000</td>\n",
              "    </tr>\n",
              "    <tr>\n",
              "      <th>77114</th>\n",
              "      <td>2.000000</td>\n",
              "    </tr>\n",
              "    <tr>\n",
              "      <th>82579</th>\n",
              "      <td>2.000000</td>\n",
              "    </tr>\n",
              "    <tr>\n",
              "      <th>91852</th>\n",
              "      <td>2.000000</td>\n",
              "    </tr>\n",
              "    <tr>\n",
              "      <th>...</th>\n",
              "      <td>...</td>\n",
              "    </tr>\n",
              "    <tr>\n",
              "      <th>2099543</th>\n",
              "      <td>0.000000</td>\n",
              "    </tr>\n",
              "    <tr>\n",
              "      <th>2099941</th>\n",
              "      <td>2.000000</td>\n",
              "    </tr>\n",
              "    <tr>\n",
              "      <th>2101370</th>\n",
              "      <td>2.000000</td>\n",
              "    </tr>\n",
              "    <tr>\n",
              "      <th>2101535</th>\n",
              "      <td>2.000000</td>\n",
              "    </tr>\n",
              "    <tr>\n",
              "      <th>2102356</th>\n",
              "      <td>2.000000</td>\n",
              "    </tr>\n",
              "  </tbody>\n",
              "</table>\n",
              "<p>1838 rows × 1 columns</p>\n",
              "</div>\n",
              "    <div class=\"colab-df-buttons\">\n",
              "\n",
              "  <div class=\"colab-df-container\">\n",
              "    <button class=\"colab-df-convert\" onclick=\"convertToInteractive('df-8cae6a2c-4306-47a8-80cd-c0de42511f74')\"\n",
              "            title=\"Convert this dataframe to an interactive table.\"\n",
              "            style=\"display:none;\">\n",
              "\n",
              "  <svg xmlns=\"http://www.w3.org/2000/svg\" height=\"24px\" viewBox=\"0 -960 960 960\">\n",
              "    <path d=\"M120-120v-720h720v720H120Zm60-500h600v-160H180v160Zm220 220h160v-160H400v160Zm0 220h160v-160H400v160ZM180-400h160v-160H180v160Zm440 0h160v-160H620v160ZM180-180h160v-160H180v160Zm440 0h160v-160H620v160Z\"/>\n",
              "  </svg>\n",
              "    </button>\n",
              "\n",
              "  <style>\n",
              "    .colab-df-container {\n",
              "      display:flex;\n",
              "      gap: 12px;\n",
              "    }\n",
              "\n",
              "    .colab-df-convert {\n",
              "      background-color: #E8F0FE;\n",
              "      border: none;\n",
              "      border-radius: 50%;\n",
              "      cursor: pointer;\n",
              "      display: none;\n",
              "      fill: #1967D2;\n",
              "      height: 32px;\n",
              "      padding: 0 0 0 0;\n",
              "      width: 32px;\n",
              "    }\n",
              "\n",
              "    .colab-df-convert:hover {\n",
              "      background-color: #E2EBFA;\n",
              "      box-shadow: 0px 1px 2px rgba(60, 64, 67, 0.3), 0px 1px 3px 1px rgba(60, 64, 67, 0.15);\n",
              "      fill: #174EA6;\n",
              "    }\n",
              "\n",
              "    .colab-df-buttons div {\n",
              "      margin-bottom: 4px;\n",
              "    }\n",
              "\n",
              "    [theme=dark] .colab-df-convert {\n",
              "      background-color: #3B4455;\n",
              "      fill: #D2E3FC;\n",
              "    }\n",
              "\n",
              "    [theme=dark] .colab-df-convert:hover {\n",
              "      background-color: #434B5C;\n",
              "      box-shadow: 0px 1px 3px 1px rgba(0, 0, 0, 0.15);\n",
              "      filter: drop-shadow(0px 1px 2px rgba(0, 0, 0, 0.3));\n",
              "      fill: #FFFFFF;\n",
              "    }\n",
              "  </style>\n",
              "\n",
              "    <script>\n",
              "      const buttonEl =\n",
              "        document.querySelector('#df-8cae6a2c-4306-47a8-80cd-c0de42511f74 button.colab-df-convert');\n",
              "      buttonEl.style.display =\n",
              "        google.colab.kernel.accessAllowed ? 'block' : 'none';\n",
              "\n",
              "      async function convertToInteractive(key) {\n",
              "        const element = document.querySelector('#df-8cae6a2c-4306-47a8-80cd-c0de42511f74');\n",
              "        const dataTable =\n",
              "          await google.colab.kernel.invokeFunction('convertToInteractive',\n",
              "                                                    [key], {});\n",
              "        if (!dataTable) return;\n",
              "\n",
              "        const docLinkHtml = 'Like what you see? Visit the ' +\n",
              "          '<a target=\"_blank\" href=https://colab.research.google.com/notebooks/data_table.ipynb>data table notebook</a>'\n",
              "          + ' to learn more about interactive tables.';\n",
              "        element.innerHTML = '';\n",
              "        dataTable['output_type'] = 'display_data';\n",
              "        await google.colab.output.renderOutput(dataTable, element);\n",
              "        const docLink = document.createElement('div');\n",
              "        docLink.innerHTML = docLinkHtml;\n",
              "        element.appendChild(docLink);\n",
              "      }\n",
              "    </script>\n",
              "  </div>\n",
              "\n",
              "\n",
              "<div id=\"df-9f0f669d-c9a9-42ff-97c6-d1ed3bc20c5c\">\n",
              "  <button class=\"colab-df-quickchart\" onclick=\"quickchart('df-9f0f669d-c9a9-42ff-97c6-d1ed3bc20c5c')\"\n",
              "            title=\"Suggest charts\"\n",
              "            style=\"display:none;\">\n",
              "\n",
              "<svg xmlns=\"http://www.w3.org/2000/svg\" height=\"24px\"viewBox=\"0 0 24 24\"\n",
              "     width=\"24px\">\n",
              "    <g>\n",
              "        <path d=\"M19 3H5c-1.1 0-2 .9-2 2v14c0 1.1.9 2 2 2h14c1.1 0 2-.9 2-2V5c0-1.1-.9-2-2-2zM9 17H7v-7h2v7zm4 0h-2V7h2v10zm4 0h-2v-4h2v4z\"/>\n",
              "    </g>\n",
              "</svg>\n",
              "  </button>\n",
              "\n",
              "<style>\n",
              "  .colab-df-quickchart {\n",
              "      --bg-color: #E8F0FE;\n",
              "      --fill-color: #1967D2;\n",
              "      --hover-bg-color: #E2EBFA;\n",
              "      --hover-fill-color: #174EA6;\n",
              "      --disabled-fill-color: #AAA;\n",
              "      --disabled-bg-color: #DDD;\n",
              "  }\n",
              "\n",
              "  [theme=dark] .colab-df-quickchart {\n",
              "      --bg-color: #3B4455;\n",
              "      --fill-color: #D2E3FC;\n",
              "      --hover-bg-color: #434B5C;\n",
              "      --hover-fill-color: #FFFFFF;\n",
              "      --disabled-bg-color: #3B4455;\n",
              "      --disabled-fill-color: #666;\n",
              "  }\n",
              "\n",
              "  .colab-df-quickchart {\n",
              "    background-color: var(--bg-color);\n",
              "    border: none;\n",
              "    border-radius: 50%;\n",
              "    cursor: pointer;\n",
              "    display: none;\n",
              "    fill: var(--fill-color);\n",
              "    height: 32px;\n",
              "    padding: 0;\n",
              "    width: 32px;\n",
              "  }\n",
              "\n",
              "  .colab-df-quickchart:hover {\n",
              "    background-color: var(--hover-bg-color);\n",
              "    box-shadow: 0 1px 2px rgba(60, 64, 67, 0.3), 0 1px 3px 1px rgba(60, 64, 67, 0.15);\n",
              "    fill: var(--button-hover-fill-color);\n",
              "  }\n",
              "\n",
              "  .colab-df-quickchart-complete:disabled,\n",
              "  .colab-df-quickchart-complete:disabled:hover {\n",
              "    background-color: var(--disabled-bg-color);\n",
              "    fill: var(--disabled-fill-color);\n",
              "    box-shadow: none;\n",
              "  }\n",
              "\n",
              "  .colab-df-spinner {\n",
              "    border: 2px solid var(--fill-color);\n",
              "    border-color: transparent;\n",
              "    border-bottom-color: var(--fill-color);\n",
              "    animation:\n",
              "      spin 1s steps(1) infinite;\n",
              "  }\n",
              "\n",
              "  @keyframes spin {\n",
              "    0% {\n",
              "      border-color: transparent;\n",
              "      border-bottom-color: var(--fill-color);\n",
              "      border-left-color: var(--fill-color);\n",
              "    }\n",
              "    20% {\n",
              "      border-color: transparent;\n",
              "      border-left-color: var(--fill-color);\n",
              "      border-top-color: var(--fill-color);\n",
              "    }\n",
              "    30% {\n",
              "      border-color: transparent;\n",
              "      border-left-color: var(--fill-color);\n",
              "      border-top-color: var(--fill-color);\n",
              "      border-right-color: var(--fill-color);\n",
              "    }\n",
              "    40% {\n",
              "      border-color: transparent;\n",
              "      border-right-color: var(--fill-color);\n",
              "      border-top-color: var(--fill-color);\n",
              "    }\n",
              "    60% {\n",
              "      border-color: transparent;\n",
              "      border-right-color: var(--fill-color);\n",
              "    }\n",
              "    80% {\n",
              "      border-color: transparent;\n",
              "      border-right-color: var(--fill-color);\n",
              "      border-bottom-color: var(--fill-color);\n",
              "    }\n",
              "    90% {\n",
              "      border-color: transparent;\n",
              "      border-bottom-color: var(--fill-color);\n",
              "    }\n",
              "  }\n",
              "</style>\n",
              "\n",
              "  <script>\n",
              "    async function quickchart(key) {\n",
              "      const quickchartButtonEl =\n",
              "        document.querySelector('#' + key + ' button');\n",
              "      quickchartButtonEl.disabled = true;  // To prevent multiple clicks.\n",
              "      quickchartButtonEl.classList.add('colab-df-spinner');\n",
              "      try {\n",
              "        const charts = await google.colab.kernel.invokeFunction(\n",
              "            'suggestCharts', [key], {});\n",
              "      } catch (error) {\n",
              "        console.error('Error during call to suggestCharts:', error);\n",
              "      }\n",
              "      quickchartButtonEl.classList.remove('colab-df-spinner');\n",
              "      quickchartButtonEl.classList.add('colab-df-quickchart-complete');\n",
              "    }\n",
              "    (() => {\n",
              "      let quickchartButtonEl =\n",
              "        document.querySelector('#df-9f0f669d-c9a9-42ff-97c6-d1ed3bc20c5c button');\n",
              "      quickchartButtonEl.style.display =\n",
              "        google.colab.kernel.accessAllowed ? 'block' : 'none';\n",
              "    })();\n",
              "  </script>\n",
              "</div>\n",
              "\n",
              "  <div id=\"id_924a2bdd-4bdf-433d-9a77-cc82efaf858f\">\n",
              "    <style>\n",
              "      .colab-df-generate {\n",
              "        background-color: #E8F0FE;\n",
              "        border: none;\n",
              "        border-radius: 50%;\n",
              "        cursor: pointer;\n",
              "        display: none;\n",
              "        fill: #1967D2;\n",
              "        height: 32px;\n",
              "        padding: 0 0 0 0;\n",
              "        width: 32px;\n",
              "      }\n",
              "\n",
              "      .colab-df-generate:hover {\n",
              "        background-color: #E2EBFA;\n",
              "        box-shadow: 0px 1px 2px rgba(60, 64, 67, 0.3), 0px 1px 3px 1px rgba(60, 64, 67, 0.15);\n",
              "        fill: #174EA6;\n",
              "      }\n",
              "\n",
              "      [theme=dark] .colab-df-generate {\n",
              "        background-color: #3B4455;\n",
              "        fill: #D2E3FC;\n",
              "      }\n",
              "\n",
              "      [theme=dark] .colab-df-generate:hover {\n",
              "        background-color: #434B5C;\n",
              "        box-shadow: 0px 1px 3px 1px rgba(0, 0, 0, 0.15);\n",
              "        filter: drop-shadow(0px 1px 2px rgba(0, 0, 0, 0.3));\n",
              "        fill: #FFFFFF;\n",
              "      }\n",
              "    </style>\n",
              "    <button class=\"colab-df-generate\" onclick=\"generateWithVariable('result')\"\n",
              "            title=\"Generate code using this dataframe.\"\n",
              "            style=\"display:none;\">\n",
              "\n",
              "  <svg xmlns=\"http://www.w3.org/2000/svg\" height=\"24px\"viewBox=\"0 0 24 24\"\n",
              "       width=\"24px\">\n",
              "    <path d=\"M7,19H8.4L18.45,9,17,7.55,7,17.6ZM5,21V16.75L18.45,3.32a2,2,0,0,1,2.83,0l1.4,1.43a1.91,1.91,0,0,1,.58,1.4,1.91,1.91,0,0,1-.58,1.4L9.25,21ZM18.45,9,17,7.55Zm-12,3A5.31,5.31,0,0,0,4.9,8.1,5.31,5.31,0,0,0,1,6.5,5.31,5.31,0,0,0,4.9,4.9,5.31,5.31,0,0,0,6.5,1,5.31,5.31,0,0,0,8.1,4.9,5.31,5.31,0,0,0,12,6.5,5.46,5.46,0,0,0,6.5,12Z\"/>\n",
              "  </svg>\n",
              "    </button>\n",
              "    <script>\n",
              "      (() => {\n",
              "      const buttonEl =\n",
              "        document.querySelector('#id_924a2bdd-4bdf-433d-9a77-cc82efaf858f button.colab-df-generate');\n",
              "      buttonEl.style.display =\n",
              "        google.colab.kernel.accessAllowed ? 'block' : 'none';\n",
              "\n",
              "      buttonEl.onclick = () => {\n",
              "        google.colab.notebook.generateWithVariable('result');\n",
              "      }\n",
              "      })();\n",
              "    </script>\n",
              "  </div>\n",
              "\n",
              "    </div>\n",
              "  </div>\n"
            ],
            "application/vnd.google.colaboratory.intrinsic+json": {
              "type": "dataframe",
              "variable_name": "result",
              "summary": "{\n  \"name\": \"result\",\n  \"rows\": 1838,\n  \"fields\": [\n    {\n      \"column\": \"user\",\n      \"properties\": {\n        \"dtype\": \"number\",\n        \"std\": 426895,\n        \"min\": 5,\n        \"max\": 2102356,\n        \"num_unique_values\": 1838,\n        \"samples\": [\n          1922891,\n          1750651,\n          1187856\n        ],\n        \"semantic_type\": \"\",\n        \"description\": \"\"\n      }\n    },\n    {\n      \"column\": \"CNSC02EN\",\n      \"properties\": {\n        \"dtype\": \"number\",\n        \"std\": 0.5760749403213826,\n        \"min\": 0.0,\n        \"max\": 2.235240414126178,\n        \"num_unique_values\": 26,\n        \"samples\": [\n          0.31220498415995995,\n          0.6984673642129074,\n          1.2523390502909229\n        ],\n        \"semantic_type\": \"\",\n        \"description\": \"\"\n      }\n    }\n  ]\n}"
            }
          },
          "metadata": {},
          "execution_count": 169
        }
      ]
    },
    {
      "cell_type": "code",
      "source": [
        "result.value_counts()"
      ],
      "metadata": {
        "colab": {
          "base_uri": "https://localhost:8080/"
        },
        "id": "GEVp8k0KJm2E",
        "outputId": "65ed7d63-9671-4568-d9f3-cb40426f4cb3"
      },
      "execution_count": 170,
      "outputs": [
        {
          "output_type": "execute_result",
          "data": {
            "text/plain": [
              "CNSC02EN\n",
              "2.000000    1654\n",
              "0.000000     158\n",
              "0.107948       3\n",
              "0.909897       1\n",
              "2.137371       1\n",
              "1.922416       1\n",
              "1.890099       1\n",
              "1.725192       1\n",
              "1.446687       1\n",
              "1.252339       1\n",
              "1.235758       1\n",
              "1.172974       1\n",
              "1.055789       1\n",
              "0.849414       1\n",
              "0.100562       1\n",
              "0.819816       1\n",
              "0.698467       1\n",
              "0.652774       1\n",
              "0.587696       1\n",
              "0.512025       1\n",
              "0.494483       1\n",
              "0.422564       1\n",
              "0.410297       1\n",
              "0.312205       1\n",
              "0.290085       1\n",
              "2.235240       1\n",
              "dtype: int64"
            ]
          },
          "metadata": {},
          "execution_count": 170
        }
      ]
    },
    {
      "cell_type": "code",
      "source": [
        "print(f'Mean of result {result.mean()}')"
      ],
      "metadata": {
        "colab": {
          "base_uri": "https://localhost:8080/"
        },
        "id": "495d_6oPs86C",
        "outputId": "a655f3d8-1711-4fc8-cb15-e173436c56e3"
      },
      "execution_count": 171,
      "outputs": [
        {
          "output_type": "stream",
          "name": "stdout",
          "text": [
            "Mean of result CNSC02EN    1.812545\n",
            "dtype: float64\n"
          ]
        }
      ]
    },
    {
      "cell_type": "code",
      "source": [
        "result1 = result.copy()\n",
        "result2 = result.copy()"
      ],
      "metadata": {
        "id": "5wlHd6x6sYVR"
      },
      "execution_count": 172,
      "outputs": []
    },
    {
      "cell_type": "code",
      "source": [
        "normalize_data(result1)"
      ],
      "metadata": {
        "id": "9qNcNWSUJtB3"
      },
      "execution_count": 173,
      "outputs": []
    },
    {
      "cell_type": "code",
      "source": [
        "def normalize_data2(train_set):\n",
        "    for i in train_set.columns:\n",
        "      avg = train_set[i].sum()/(len(train_set.index)-len(train_set.loc[train_set[i]==0,i]))\n",
        "      for j in train_set.index:\n",
        "        if train_set.loc[j,i] != 0 and train_set.loc[j,i] != 3 and train_set.loc[j,i] != 2:\n",
        "          if train_set.loc[j,i] > avg+0.5:\n",
        "            train_set.loc[j,i] = 3\n",
        "          elif train_set.loc[j,i] <= avg+0.5:\n",
        "            train_set.loc[j,i] = 2\n",
        "normalize_data2(result2)"
      ],
      "metadata": {
        "id": "FR80xqRlsViU"
      },
      "execution_count": 174,
      "outputs": []
    },
    {
      "cell_type": "code",
      "source": [
        "result1.value_counts()"
      ],
      "metadata": {
        "colab": {
          "base_uri": "https://localhost:8080/"
        },
        "id": "9FwA8BEUJwtT",
        "outputId": "c580fee3-5c30-424e-92cc-f84fdebef0de"
      },
      "execution_count": 175,
      "outputs": [
        {
          "output_type": "execute_result",
          "data": {
            "text/plain": [
              "CNSC02EN\n",
              "2.0         1675\n",
              "0.0          158\n",
              "3.0            5\n",
              "dtype: int64"
            ]
          },
          "metadata": {},
          "execution_count": 175
        }
      ]
    },
    {
      "cell_type": "code",
      "source": [
        "result2.value_counts()"
      ],
      "metadata": {
        "colab": {
          "base_uri": "https://localhost:8080/"
        },
        "id": "8KoAAln9soYS",
        "outputId": "c17abbc7-a5ea-4a55-c296-ef0ba7c0c02b"
      },
      "execution_count": 176,
      "outputs": [
        {
          "output_type": "execute_result",
          "data": {
            "text/plain": [
              "CNSC02EN\n",
              "2.0         1680\n",
              "0.0          158\n",
              "dtype: int64"
            ]
          },
          "metadata": {},
          "execution_count": 176
        }
      ]
    },
    {
      "cell_type": "code",
      "source": [
        "print(f'Test on result1 :{RMSE(result1,test3)}')"
      ],
      "metadata": {
        "colab": {
          "base_uri": "https://localhost:8080/"
        },
        "outputId": "8bde8d2e-958e-4aa3-8d6a-15f8d11f2076",
        "id": "82IyH0IKsv0O"
      },
      "execution_count": 177,
      "outputs": [
        {
          "output_type": "stream",
          "name": "stdout",
          "text": [
            "Test on result1 :CNSC02EN    0.588704\n",
            "dtype: float64\n"
          ]
        }
      ]
    },
    {
      "cell_type": "code",
      "source": [
        "print(f'Test on result2: {RMSE(result2,test3)}')"
      ],
      "metadata": {
        "colab": {
          "base_uri": "https://localhost:8080/"
        },
        "outputId": "6c6ec6fe-bcd8-466d-9d3f-b17b8ce1af15",
        "id": "wdj5mooLsv0P"
      },
      "execution_count": 178,
      "outputs": [
        {
          "output_type": "stream",
          "name": "stdout",
          "text": [
            "Test on result2: CNSC02EN    0.586389\n",
            "dtype: float64\n"
          ]
        }
      ]
    },
    {
      "cell_type": "code",
      "source": [
        "get_similar_course('CNSC02EN')[1:5]"
      ],
      "metadata": {
        "colab": {
          "base_uri": "https://localhost:8080/"
        },
        "id": "EncbsgnHKT02",
        "outputId": "ce7a4702-e6ee-4aaa-fd07-bf5df321d132"
      },
      "execution_count": 160,
      "outputs": [
        {
          "output_type": "execute_result",
          "data": {
            "text/plain": [
              "HCC105EN    0.095628\n",
              "HCC104EN    0.091833\n",
              "SECM03EN    0.068882\n",
              "DE0205EN    0.063232\n",
              "Name: CNSC02EN, dtype: float64"
            ]
          },
          "metadata": {},
          "execution_count": 160
        }
      ]
    }
  ]
}