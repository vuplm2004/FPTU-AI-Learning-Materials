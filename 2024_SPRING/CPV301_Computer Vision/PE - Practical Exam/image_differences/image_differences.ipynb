{
 "cells": [
  {
   "cell_type": "code",
   "execution_count": 1,
   "id": "9636c221-e98f-4a37-aca3-6d65212cb66e",
   "metadata": {
    "tags": []
   },
   "outputs": [],
   "source": [
    "import cv2\n",
    "import imutils\n",
    "import numpy as np"
   ]
  },
  {
   "cell_type": "code",
   "execution_count": null,
   "id": "834b8f69-4a48-41ae-857a-c0f359c2d789",
   "metadata": {},
   "outputs": [],
   "source": [
    "#load the 2 images\n",
    "img1 = cv2.imread(\"1.png\")\n",
    "img2 = cv2.imread(\"1_copy.png\")\n",
    "\n",
    "#cvt 2 grayscale\n",
    "gray1 = cv2.cvtColor(img1, cv2.COLOR_BGR2GRAY)\n",
    "gray2 = cv2.cvtColor(img2, cv2.COLOR_BGR2GRAY)"
   ]
  },
  {
   "cell_type": "code",
   "execution_count": null,
   "id": "bedad9cd-d29e-48fa-86a0-62f4284a0b04",
   "metadata": {},
   "outputs": [],
   "source": [
    "#find the diff using absdiff\n",
    "diff = cv2.absdiff(gray1, gray2)\n",
    "cv2.imshow(\"diff(img1,img2)\", diff)"
   ]
  },
  {
   "cell_type": "code",
   "execution_count": null,
   "id": "a228b444-0ab8-43ad-b9a0-2d1c30bc3582",
   "metadata": {},
   "outputs": [],
   "source": [
    "cv2.imshow(\"Original\", img1)\n",
    "cv2.imshow(\"Edited\", img2)\n",
    "\n",
    "cv2.waitKey(0)\n",
    "cv2.destroyAllWindows"
   ]
  }
 ],
 "metadata": {
  "kernelspec": {
   "display_name": "cv",
   "language": "python",
   "name": "cv"
  },
  "language_info": {
   "codemirror_mode": {
    "name": "ipython",
    "version": 3
   },
   "file_extension": ".py",
   "mimetype": "text/x-python",
   "name": "python",
   "nbconvert_exporter": "python",
   "pygments_lexer": "ipython3",
   "version": "3.11.8"
  }
 },
 "nbformat": 4,
 "nbformat_minor": 5
}
